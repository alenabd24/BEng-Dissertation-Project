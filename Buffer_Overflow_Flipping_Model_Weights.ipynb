{
  "cells": [
    {
      "cell_type": "markdown",
      "metadata": {
        "id": "view-in-github",
        "colab_type": "text"
      },
      "source": [
        "<a href=\"https://colab.research.google.com/github/alenabd24/BEng-Dissertation-Project/blob/main/Buffer_Overflow_Flipping_Model_Weights.ipynb\" target=\"_parent\"><img src=\"https://colab.research.google.com/assets/colab-badge.svg\" alt=\"Open In Colab\"/></a>"
      ]
    },
    {
      "cell_type": "markdown",
      "metadata": {
        "id": "yt7LTllYnbmQ"
      },
      "source": [
        "# **February 23rd**\n",
        "## Testing Fault Tolerance of a GraphCodeBERT-based Buffer Overflow CWE Classification model, by injecting bit-flip faults into the model weight parameters."
      ]
    },
    {
      "cell_type": "markdown",
      "source": [
        "# **Code Update (16th March):**\n",
        "* Changed CWEs to Ratnaker's recommendations"
      ],
      "metadata": {
        "id": "1RZKyuO8j17h"
      }
    },
    {
      "cell_type": "markdown",
      "metadata": {
        "id": "O7J7gXnCnqIv"
      },
      "source": [
        "## Purpose of the script:\n",
        "1. Train a GraphCodeBERT-based model to classify code snippets into different CWE types (specifically those related to buffer overflows).\n",
        "\n",
        "2. Introduce bit-flip noise into the model weights post-training, prior to inference on unseen test data.\n",
        "\n",
        "3. Evaluate how this noise affects the model's accuracy and robustness.\n",
        "\n",
        "---"
      ]
    },
    {
      "cell_type": "markdown",
      "metadata": {
        "id": "CJA_Z_-qn1H-"
      },
      "source": [
        "Installing ML and NLP-related libraries, mainly from hugging face"
      ]
    },
    {
      "cell_type": "code",
      "execution_count": 2,
      "metadata": {
        "colab": {
          "base_uri": "https://localhost:8080/"
        },
        "id": "ciRWKTPhnaMe",
        "outputId": "905e29a0-6c04-4a1d-e825-701cb1e337de"
      },
      "outputs": [
        {
          "output_type": "stream",
          "name": "stdout",
          "text": [
            "Collecting datasets\n",
            "  Downloading datasets-3.4.1-py3-none-any.whl.metadata (19 kB)\n",
            "Requirement already satisfied: filelock in /usr/local/lib/python3.11/dist-packages (from datasets) (3.17.0)\n",
            "Requirement already satisfied: numpy>=1.17 in /usr/local/lib/python3.11/dist-packages (from datasets) (2.0.2)\n",
            "Requirement already satisfied: pyarrow>=15.0.0 in /usr/local/lib/python3.11/dist-packages (from datasets) (18.1.0)\n",
            "Collecting dill<0.3.9,>=0.3.0 (from datasets)\n",
            "  Downloading dill-0.3.8-py3-none-any.whl.metadata (10 kB)\n",
            "Requirement already satisfied: pandas in /usr/local/lib/python3.11/dist-packages (from datasets) (2.2.2)\n",
            "Requirement already satisfied: requests>=2.32.2 in /usr/local/lib/python3.11/dist-packages (from datasets) (2.32.3)\n",
            "Requirement already satisfied: tqdm>=4.66.3 in /usr/local/lib/python3.11/dist-packages (from datasets) (4.67.1)\n",
            "Collecting xxhash (from datasets)\n",
            "  Downloading xxhash-3.5.0-cp311-cp311-manylinux_2_17_x86_64.manylinux2014_x86_64.whl.metadata (12 kB)\n",
            "Collecting multiprocess<0.70.17 (from datasets)\n",
            "  Downloading multiprocess-0.70.16-py311-none-any.whl.metadata (7.2 kB)\n",
            "Requirement already satisfied: fsspec<=2024.12.0,>=2023.1.0 in /usr/local/lib/python3.11/dist-packages (from fsspec[http]<=2024.12.0,>=2023.1.0->datasets) (2024.10.0)\n",
            "Requirement already satisfied: aiohttp in /usr/local/lib/python3.11/dist-packages (from datasets) (3.11.13)\n",
            "Requirement already satisfied: huggingface-hub>=0.24.0 in /usr/local/lib/python3.11/dist-packages (from datasets) (0.28.1)\n",
            "Requirement already satisfied: packaging in /usr/local/lib/python3.11/dist-packages (from datasets) (24.2)\n",
            "Requirement already satisfied: pyyaml>=5.1 in /usr/local/lib/python3.11/dist-packages (from datasets) (6.0.2)\n",
            "Requirement already satisfied: aiohappyeyeballs>=2.3.0 in /usr/local/lib/python3.11/dist-packages (from aiohttp->datasets) (2.6.1)\n",
            "Requirement already satisfied: aiosignal>=1.1.2 in /usr/local/lib/python3.11/dist-packages (from aiohttp->datasets) (1.3.2)\n",
            "Requirement already satisfied: attrs>=17.3.0 in /usr/local/lib/python3.11/dist-packages (from aiohttp->datasets) (25.3.0)\n",
            "Requirement already satisfied: frozenlist>=1.1.1 in /usr/local/lib/python3.11/dist-packages (from aiohttp->datasets) (1.5.0)\n",
            "Requirement already satisfied: multidict<7.0,>=4.5 in /usr/local/lib/python3.11/dist-packages (from aiohttp->datasets) (6.1.0)\n",
            "Requirement already satisfied: propcache>=0.2.0 in /usr/local/lib/python3.11/dist-packages (from aiohttp->datasets) (0.3.0)\n",
            "Requirement already satisfied: yarl<2.0,>=1.17.0 in /usr/local/lib/python3.11/dist-packages (from aiohttp->datasets) (1.18.3)\n",
            "Requirement already satisfied: typing-extensions>=3.7.4.3 in /usr/local/lib/python3.11/dist-packages (from huggingface-hub>=0.24.0->datasets) (4.12.2)\n",
            "Requirement already satisfied: charset-normalizer<4,>=2 in /usr/local/lib/python3.11/dist-packages (from requests>=2.32.2->datasets) (3.4.1)\n",
            "Requirement already satisfied: idna<4,>=2.5 in /usr/local/lib/python3.11/dist-packages (from requests>=2.32.2->datasets) (3.10)\n",
            "Requirement already satisfied: urllib3<3,>=1.21.1 in /usr/local/lib/python3.11/dist-packages (from requests>=2.32.2->datasets) (2.3.0)\n",
            "Requirement already satisfied: certifi>=2017.4.17 in /usr/local/lib/python3.11/dist-packages (from requests>=2.32.2->datasets) (2025.1.31)\n",
            "Requirement already satisfied: python-dateutil>=2.8.2 in /usr/local/lib/python3.11/dist-packages (from pandas->datasets) (2.8.2)\n",
            "Requirement already satisfied: pytz>=2020.1 in /usr/local/lib/python3.11/dist-packages (from pandas->datasets) (2025.1)\n",
            "Requirement already satisfied: tzdata>=2022.7 in /usr/local/lib/python3.11/dist-packages (from pandas->datasets) (2025.1)\n",
            "Requirement already satisfied: six>=1.5 in /usr/local/lib/python3.11/dist-packages (from python-dateutil>=2.8.2->pandas->datasets) (1.17.0)\n",
            "Downloading datasets-3.4.1-py3-none-any.whl (487 kB)\n",
            "\u001b[2K   \u001b[90m━━━━━━━━━━━━━━━━━━━━━━━━━━━━━━━━━━━━━━━━\u001b[0m \u001b[32m487.4/487.4 kB\u001b[0m \u001b[31m20.5 MB/s\u001b[0m eta \u001b[36m0:00:00\u001b[0m\n",
            "\u001b[?25hDownloading dill-0.3.8-py3-none-any.whl (116 kB)\n",
            "\u001b[2K   \u001b[90m━━━━━━━━━━━━━━━━━━━━━━━━━━━━━━━━━━━━━━━━\u001b[0m \u001b[32m116.3/116.3 kB\u001b[0m \u001b[31m10.7 MB/s\u001b[0m eta \u001b[36m0:00:00\u001b[0m\n",
            "\u001b[?25hDownloading multiprocess-0.70.16-py311-none-any.whl (143 kB)\n",
            "\u001b[2K   \u001b[90m━━━━━━━━━━━━━━━━━━━━━━━━━━━━━━━━━━━━━━━━\u001b[0m \u001b[32m143.5/143.5 kB\u001b[0m \u001b[31m14.3 MB/s\u001b[0m eta \u001b[36m0:00:00\u001b[0m\n",
            "\u001b[?25hDownloading xxhash-3.5.0-cp311-cp311-manylinux_2_17_x86_64.manylinux2014_x86_64.whl (194 kB)\n",
            "\u001b[2K   \u001b[90m━━━━━━━━━━━━━━━━━━━━━━━━━━━━━━━━━━━━━━━━\u001b[0m \u001b[32m194.8/194.8 kB\u001b[0m \u001b[31m19.1 MB/s\u001b[0m eta \u001b[36m0:00:00\u001b[0m\n",
            "\u001b[?25hInstalling collected packages: xxhash, dill, multiprocess, datasets\n",
            "Successfully installed datasets-3.4.1 dill-0.3.8 multiprocess-0.70.16 xxhash-3.5.0\n",
            "Requirement already satisfied: transformers in /usr/local/lib/python3.11/dist-packages (4.48.3)\n",
            "Requirement already satisfied: filelock in /usr/local/lib/python3.11/dist-packages (from transformers) (3.17.0)\n",
            "Requirement already satisfied: huggingface-hub<1.0,>=0.24.0 in /usr/local/lib/python3.11/dist-packages (from transformers) (0.28.1)\n",
            "Requirement already satisfied: numpy>=1.17 in /usr/local/lib/python3.11/dist-packages (from transformers) (2.0.2)\n",
            "Requirement already satisfied: packaging>=20.0 in /usr/local/lib/python3.11/dist-packages (from transformers) (24.2)\n",
            "Requirement already satisfied: pyyaml>=5.1 in /usr/local/lib/python3.11/dist-packages (from transformers) (6.0.2)\n",
            "Requirement already satisfied: regex!=2019.12.17 in /usr/local/lib/python3.11/dist-packages (from transformers) (2024.11.6)\n",
            "Requirement already satisfied: requests in /usr/local/lib/python3.11/dist-packages (from transformers) (2.32.3)\n",
            "Requirement already satisfied: tokenizers<0.22,>=0.21 in /usr/local/lib/python3.11/dist-packages (from transformers) (0.21.1)\n",
            "Requirement already satisfied: safetensors>=0.4.1 in /usr/local/lib/python3.11/dist-packages (from transformers) (0.5.3)\n",
            "Requirement already satisfied: tqdm>=4.27 in /usr/local/lib/python3.11/dist-packages (from transformers) (4.67.1)\n",
            "Requirement already satisfied: fsspec>=2023.5.0 in /usr/local/lib/python3.11/dist-packages (from huggingface-hub<1.0,>=0.24.0->transformers) (2024.10.0)\n",
            "Requirement already satisfied: typing-extensions>=3.7.4.3 in /usr/local/lib/python3.11/dist-packages (from huggingface-hub<1.0,>=0.24.0->transformers) (4.12.2)\n",
            "Requirement already satisfied: charset-normalizer<4,>=2 in /usr/local/lib/python3.11/dist-packages (from requests->transformers) (3.4.1)\n",
            "Requirement already satisfied: idna<4,>=2.5 in /usr/local/lib/python3.11/dist-packages (from requests->transformers) (3.10)\n",
            "Requirement already satisfied: urllib3<3,>=1.21.1 in /usr/local/lib/python3.11/dist-packages (from requests->transformers) (2.3.0)\n",
            "Requirement already satisfied: certifi>=2017.4.17 in /usr/local/lib/python3.11/dist-packages (from requests->transformers) (2025.1.31)\n",
            "Requirement already satisfied: accelerate in /usr/local/lib/python3.11/dist-packages (1.3.0)\n",
            "Collecting accelerate\n",
            "  Downloading accelerate-1.5.2-py3-none-any.whl.metadata (19 kB)\n",
            "Requirement already satisfied: numpy<3.0.0,>=1.17 in /usr/local/lib/python3.11/dist-packages (from accelerate) (2.0.2)\n",
            "Requirement already satisfied: packaging>=20.0 in /usr/local/lib/python3.11/dist-packages (from accelerate) (24.2)\n",
            "Requirement already satisfied: psutil in /usr/local/lib/python3.11/dist-packages (from accelerate) (5.9.5)\n",
            "Requirement already satisfied: pyyaml in /usr/local/lib/python3.11/dist-packages (from accelerate) (6.0.2)\n",
            "Requirement already satisfied: torch>=2.0.0 in /usr/local/lib/python3.11/dist-packages (from accelerate) (2.6.0+cu124)\n",
            "Requirement already satisfied: huggingface-hub>=0.21.0 in /usr/local/lib/python3.11/dist-packages (from accelerate) (0.28.1)\n",
            "Requirement already satisfied: safetensors>=0.4.3 in /usr/local/lib/python3.11/dist-packages (from accelerate) (0.5.3)\n",
            "Requirement already satisfied: filelock in /usr/local/lib/python3.11/dist-packages (from huggingface-hub>=0.21.0->accelerate) (3.17.0)\n",
            "Requirement already satisfied: fsspec>=2023.5.0 in /usr/local/lib/python3.11/dist-packages (from huggingface-hub>=0.21.0->accelerate) (2024.10.0)\n",
            "Requirement already satisfied: requests in /usr/local/lib/python3.11/dist-packages (from huggingface-hub>=0.21.0->accelerate) (2.32.3)\n",
            "Requirement already satisfied: tqdm>=4.42.1 in /usr/local/lib/python3.11/dist-packages (from huggingface-hub>=0.21.0->accelerate) (4.67.1)\n",
            "Requirement already satisfied: typing-extensions>=3.7.4.3 in /usr/local/lib/python3.11/dist-packages (from huggingface-hub>=0.21.0->accelerate) (4.12.2)\n",
            "Requirement already satisfied: networkx in /usr/local/lib/python3.11/dist-packages (from torch>=2.0.0->accelerate) (3.4.2)\n",
            "Requirement already satisfied: jinja2 in /usr/local/lib/python3.11/dist-packages (from torch>=2.0.0->accelerate) (3.1.6)\n",
            "Collecting nvidia-cuda-nvrtc-cu12==12.4.127 (from torch>=2.0.0->accelerate)\n",
            "  Downloading nvidia_cuda_nvrtc_cu12-12.4.127-py3-none-manylinux2014_x86_64.whl.metadata (1.5 kB)\n",
            "Collecting nvidia-cuda-runtime-cu12==12.4.127 (from torch>=2.0.0->accelerate)\n",
            "  Downloading nvidia_cuda_runtime_cu12-12.4.127-py3-none-manylinux2014_x86_64.whl.metadata (1.5 kB)\n",
            "Collecting nvidia-cuda-cupti-cu12==12.4.127 (from torch>=2.0.0->accelerate)\n",
            "  Downloading nvidia_cuda_cupti_cu12-12.4.127-py3-none-manylinux2014_x86_64.whl.metadata (1.6 kB)\n",
            "Collecting nvidia-cudnn-cu12==9.1.0.70 (from torch>=2.0.0->accelerate)\n",
            "  Downloading nvidia_cudnn_cu12-9.1.0.70-py3-none-manylinux2014_x86_64.whl.metadata (1.6 kB)\n",
            "Collecting nvidia-cublas-cu12==12.4.5.8 (from torch>=2.0.0->accelerate)\n",
            "  Downloading nvidia_cublas_cu12-12.4.5.8-py3-none-manylinux2014_x86_64.whl.metadata (1.5 kB)\n",
            "Collecting nvidia-cufft-cu12==11.2.1.3 (from torch>=2.0.0->accelerate)\n",
            "  Downloading nvidia_cufft_cu12-11.2.1.3-py3-none-manylinux2014_x86_64.whl.metadata (1.5 kB)\n",
            "Collecting nvidia-curand-cu12==10.3.5.147 (from torch>=2.0.0->accelerate)\n",
            "  Downloading nvidia_curand_cu12-10.3.5.147-py3-none-manylinux2014_x86_64.whl.metadata (1.5 kB)\n",
            "Collecting nvidia-cusolver-cu12==11.6.1.9 (from torch>=2.0.0->accelerate)\n",
            "  Downloading nvidia_cusolver_cu12-11.6.1.9-py3-none-manylinux2014_x86_64.whl.metadata (1.6 kB)\n",
            "Collecting nvidia-cusparse-cu12==12.3.1.170 (from torch>=2.0.0->accelerate)\n",
            "  Downloading nvidia_cusparse_cu12-12.3.1.170-py3-none-manylinux2014_x86_64.whl.metadata (1.6 kB)\n",
            "Requirement already satisfied: nvidia-cusparselt-cu12==0.6.2 in /usr/local/lib/python3.11/dist-packages (from torch>=2.0.0->accelerate) (0.6.2)\n",
            "Requirement already satisfied: nvidia-nccl-cu12==2.21.5 in /usr/local/lib/python3.11/dist-packages (from torch>=2.0.0->accelerate) (2.21.5)\n",
            "Requirement already satisfied: nvidia-nvtx-cu12==12.4.127 in /usr/local/lib/python3.11/dist-packages (from torch>=2.0.0->accelerate) (12.4.127)\n",
            "Collecting nvidia-nvjitlink-cu12==12.4.127 (from torch>=2.0.0->accelerate)\n",
            "  Downloading nvidia_nvjitlink_cu12-12.4.127-py3-none-manylinux2014_x86_64.whl.metadata (1.5 kB)\n",
            "Requirement already satisfied: triton==3.2.0 in /usr/local/lib/python3.11/dist-packages (from torch>=2.0.0->accelerate) (3.2.0)\n",
            "Requirement already satisfied: sympy==1.13.1 in /usr/local/lib/python3.11/dist-packages (from torch>=2.0.0->accelerate) (1.13.1)\n",
            "Requirement already satisfied: mpmath<1.4,>=1.1.0 in /usr/local/lib/python3.11/dist-packages (from sympy==1.13.1->torch>=2.0.0->accelerate) (1.3.0)\n",
            "Requirement already satisfied: MarkupSafe>=2.0 in /usr/local/lib/python3.11/dist-packages (from jinja2->torch>=2.0.0->accelerate) (3.0.2)\n",
            "Requirement already satisfied: charset-normalizer<4,>=2 in /usr/local/lib/python3.11/dist-packages (from requests->huggingface-hub>=0.21.0->accelerate) (3.4.1)\n",
            "Requirement already satisfied: idna<4,>=2.5 in /usr/local/lib/python3.11/dist-packages (from requests->huggingface-hub>=0.21.0->accelerate) (3.10)\n",
            "Requirement already satisfied: urllib3<3,>=1.21.1 in /usr/local/lib/python3.11/dist-packages (from requests->huggingface-hub>=0.21.0->accelerate) (2.3.0)\n",
            "Requirement already satisfied: certifi>=2017.4.17 in /usr/local/lib/python3.11/dist-packages (from requests->huggingface-hub>=0.21.0->accelerate) (2025.1.31)\n",
            "Downloading accelerate-1.5.2-py3-none-any.whl (345 kB)\n",
            "\u001b[2K   \u001b[90m━━━━━━━━━━━━━━━━━━━━━━━━━━━━━━━━━━━━━━━━\u001b[0m \u001b[32m345.1/345.1 kB\u001b[0m \u001b[31m16.8 MB/s\u001b[0m eta \u001b[36m0:00:00\u001b[0m\n",
            "\u001b[?25hDownloading nvidia_cublas_cu12-12.4.5.8-py3-none-manylinux2014_x86_64.whl (363.4 MB)\n",
            "\u001b[2K   \u001b[90m━━━━━━━━━━━━━━━━━━━━━━━━━━━━━━━━━━━━━━━━\u001b[0m \u001b[32m363.4/363.4 MB\u001b[0m \u001b[31m3.0 MB/s\u001b[0m eta \u001b[36m0:00:00\u001b[0m\n",
            "\u001b[?25hDownloading nvidia_cuda_cupti_cu12-12.4.127-py3-none-manylinux2014_x86_64.whl (13.8 MB)\n",
            "\u001b[2K   \u001b[90m━━━━━━━━━━━━━━━━━━━━━━━━━━━━━━━━━━━━━━━━\u001b[0m \u001b[32m13.8/13.8 MB\u001b[0m \u001b[31m120.6 MB/s\u001b[0m eta \u001b[36m0:00:00\u001b[0m\n",
            "\u001b[?25hDownloading nvidia_cuda_nvrtc_cu12-12.4.127-py3-none-manylinux2014_x86_64.whl (24.6 MB)\n",
            "\u001b[2K   \u001b[90m━━━━━━━━━━━━━━━━━━━━━━━━━━━━━━━━━━━━━━━━\u001b[0m \u001b[32m24.6/24.6 MB\u001b[0m \u001b[31m90.1 MB/s\u001b[0m eta \u001b[36m0:00:00\u001b[0m\n",
            "\u001b[?25hDownloading nvidia_cuda_runtime_cu12-12.4.127-py3-none-manylinux2014_x86_64.whl (883 kB)\n",
            "\u001b[2K   \u001b[90m━━━━━━━━━━━━━━━━━━━━━━━━━━━━━━━━━━━━━━━━\u001b[0m \u001b[32m883.7/883.7 kB\u001b[0m \u001b[31m53.8 MB/s\u001b[0m eta \u001b[36m0:00:00\u001b[0m\n",
            "\u001b[?25hDownloading nvidia_cudnn_cu12-9.1.0.70-py3-none-manylinux2014_x86_64.whl (664.8 MB)\n",
            "\u001b[2K   \u001b[90m━━━━━━━━━━━━━━━━━━━━━━━━━━━━━━━━━━━━━━━━\u001b[0m \u001b[32m664.8/664.8 MB\u001b[0m \u001b[31m2.1 MB/s\u001b[0m eta \u001b[36m0:00:00\u001b[0m\n",
            "\u001b[?25hDownloading nvidia_cufft_cu12-11.2.1.3-py3-none-manylinux2014_x86_64.whl (211.5 MB)\n",
            "\u001b[2K   \u001b[90m━━━━━━━━━━━━━━━━━━━━━━━━━━━━━━━━━━━━━━━━\u001b[0m \u001b[32m211.5/211.5 MB\u001b[0m \u001b[31m4.6 MB/s\u001b[0m eta \u001b[36m0:00:00\u001b[0m\n",
            "\u001b[?25hDownloading nvidia_curand_cu12-10.3.5.147-py3-none-manylinux2014_x86_64.whl (56.3 MB)\n",
            "\u001b[2K   \u001b[90m━━━━━━━━━━━━━━━━━━━━━━━━━━━━━━━━━━━━━━━━\u001b[0m \u001b[32m56.3/56.3 MB\u001b[0m \u001b[31m39.9 MB/s\u001b[0m eta \u001b[36m0:00:00\u001b[0m\n",
            "\u001b[?25hDownloading nvidia_cusolver_cu12-11.6.1.9-py3-none-manylinux2014_x86_64.whl (127.9 MB)\n",
            "\u001b[2K   \u001b[90m━━━━━━━━━━━━━━━━━━━━━━━━━━━━━━━━━━━━━━━━\u001b[0m \u001b[32m127.9/127.9 MB\u001b[0m \u001b[31m18.0 MB/s\u001b[0m eta \u001b[36m0:00:00\u001b[0m\n",
            "\u001b[?25hDownloading nvidia_cusparse_cu12-12.3.1.170-py3-none-manylinux2014_x86_64.whl (207.5 MB)\n",
            "\u001b[2K   \u001b[90m━━━━━━━━━━━━━━━━━━━━━━━━━━━━━━━━━━━━━━━━\u001b[0m \u001b[32m207.5/207.5 MB\u001b[0m \u001b[31m4.2 MB/s\u001b[0m eta \u001b[36m0:00:00\u001b[0m\n",
            "\u001b[?25hDownloading nvidia_nvjitlink_cu12-12.4.127-py3-none-manylinux2014_x86_64.whl (21.1 MB)\n",
            "\u001b[2K   \u001b[90m━━━━━━━━━━━━━━━━━━━━━━━━━━━━━━━━━━━━━━━━\u001b[0m \u001b[32m21.1/21.1 MB\u001b[0m \u001b[31m92.6 MB/s\u001b[0m eta \u001b[36m0:00:00\u001b[0m\n",
            "\u001b[?25hInstalling collected packages: nvidia-nvjitlink-cu12, nvidia-curand-cu12, nvidia-cufft-cu12, nvidia-cuda-runtime-cu12, nvidia-cuda-nvrtc-cu12, nvidia-cuda-cupti-cu12, nvidia-cublas-cu12, nvidia-cusparse-cu12, nvidia-cudnn-cu12, nvidia-cusolver-cu12, accelerate\n",
            "  Attempting uninstall: nvidia-nvjitlink-cu12\n",
            "    Found existing installation: nvidia-nvjitlink-cu12 12.5.82\n",
            "    Uninstalling nvidia-nvjitlink-cu12-12.5.82:\n",
            "      Successfully uninstalled nvidia-nvjitlink-cu12-12.5.82\n",
            "  Attempting uninstall: nvidia-curand-cu12\n",
            "    Found existing installation: nvidia-curand-cu12 10.3.6.82\n",
            "    Uninstalling nvidia-curand-cu12-10.3.6.82:\n",
            "      Successfully uninstalled nvidia-curand-cu12-10.3.6.82\n",
            "  Attempting uninstall: nvidia-cufft-cu12\n",
            "    Found existing installation: nvidia-cufft-cu12 11.2.3.61\n",
            "    Uninstalling nvidia-cufft-cu12-11.2.3.61:\n",
            "      Successfully uninstalled nvidia-cufft-cu12-11.2.3.61\n",
            "  Attempting uninstall: nvidia-cuda-runtime-cu12\n",
            "    Found existing installation: nvidia-cuda-runtime-cu12 12.5.82\n",
            "    Uninstalling nvidia-cuda-runtime-cu12-12.5.82:\n",
            "      Successfully uninstalled nvidia-cuda-runtime-cu12-12.5.82\n",
            "  Attempting uninstall: nvidia-cuda-nvrtc-cu12\n",
            "    Found existing installation: nvidia-cuda-nvrtc-cu12 12.5.82\n",
            "    Uninstalling nvidia-cuda-nvrtc-cu12-12.5.82:\n",
            "      Successfully uninstalled nvidia-cuda-nvrtc-cu12-12.5.82\n",
            "  Attempting uninstall: nvidia-cuda-cupti-cu12\n",
            "    Found existing installation: nvidia-cuda-cupti-cu12 12.5.82\n",
            "    Uninstalling nvidia-cuda-cupti-cu12-12.5.82:\n",
            "      Successfully uninstalled nvidia-cuda-cupti-cu12-12.5.82\n",
            "  Attempting uninstall: nvidia-cublas-cu12\n",
            "    Found existing installation: nvidia-cublas-cu12 12.5.3.2\n",
            "    Uninstalling nvidia-cublas-cu12-12.5.3.2:\n",
            "      Successfully uninstalled nvidia-cublas-cu12-12.5.3.2\n",
            "  Attempting uninstall: nvidia-cusparse-cu12\n",
            "    Found existing installation: nvidia-cusparse-cu12 12.5.1.3\n",
            "    Uninstalling nvidia-cusparse-cu12-12.5.1.3:\n",
            "      Successfully uninstalled nvidia-cusparse-cu12-12.5.1.3\n",
            "  Attempting uninstall: nvidia-cudnn-cu12\n",
            "    Found existing installation: nvidia-cudnn-cu12 9.3.0.75\n",
            "    Uninstalling nvidia-cudnn-cu12-9.3.0.75:\n",
            "      Successfully uninstalled nvidia-cudnn-cu12-9.3.0.75\n",
            "  Attempting uninstall: nvidia-cusolver-cu12\n",
            "    Found existing installation: nvidia-cusolver-cu12 11.6.3.83\n",
            "    Uninstalling nvidia-cusolver-cu12-11.6.3.83:\n",
            "      Successfully uninstalled nvidia-cusolver-cu12-11.6.3.83\n",
            "  Attempting uninstall: accelerate\n",
            "    Found existing installation: accelerate 1.3.0\n",
            "    Uninstalling accelerate-1.3.0:\n",
            "      Successfully uninstalled accelerate-1.3.0\n",
            "Successfully installed accelerate-1.5.2 nvidia-cublas-cu12-12.4.5.8 nvidia-cuda-cupti-cu12-12.4.127 nvidia-cuda-nvrtc-cu12-12.4.127 nvidia-cuda-runtime-cu12-12.4.127 nvidia-cudnn-cu12-9.1.0.70 nvidia-cufft-cu12-11.2.1.3 nvidia-curand-cu12-10.3.5.147 nvidia-cusolver-cu12-11.6.1.9 nvidia-cusparse-cu12-12.3.1.170 nvidia-nvjitlink-cu12-12.4.127\n",
            "Requirement already satisfied: transformers[torch] in /usr/local/lib/python3.11/dist-packages (4.48.3)\n",
            "Requirement already satisfied: filelock in /usr/local/lib/python3.11/dist-packages (from transformers[torch]) (3.17.0)\n",
            "Requirement already satisfied: huggingface-hub<1.0,>=0.24.0 in /usr/local/lib/python3.11/dist-packages (from transformers[torch]) (0.28.1)\n",
            "Requirement already satisfied: numpy>=1.17 in /usr/local/lib/python3.11/dist-packages (from transformers[torch]) (2.0.2)\n",
            "Requirement already satisfied: packaging>=20.0 in /usr/local/lib/python3.11/dist-packages (from transformers[torch]) (24.2)\n",
            "Requirement already satisfied: pyyaml>=5.1 in /usr/local/lib/python3.11/dist-packages (from transformers[torch]) (6.0.2)\n",
            "Requirement already satisfied: regex!=2019.12.17 in /usr/local/lib/python3.11/dist-packages (from transformers[torch]) (2024.11.6)\n",
            "Requirement already satisfied: requests in /usr/local/lib/python3.11/dist-packages (from transformers[torch]) (2.32.3)\n",
            "Requirement already satisfied: tokenizers<0.22,>=0.21 in /usr/local/lib/python3.11/dist-packages (from transformers[torch]) (0.21.1)\n",
            "Requirement already satisfied: safetensors>=0.4.1 in /usr/local/lib/python3.11/dist-packages (from transformers[torch]) (0.5.3)\n",
            "Requirement already satisfied: tqdm>=4.27 in /usr/local/lib/python3.11/dist-packages (from transformers[torch]) (4.67.1)\n",
            "Requirement already satisfied: torch>=2.0 in /usr/local/lib/python3.11/dist-packages (from transformers[torch]) (2.6.0+cu124)\n",
            "Requirement already satisfied: accelerate>=0.26.0 in /usr/local/lib/python3.11/dist-packages (from transformers[torch]) (1.5.2)\n",
            "Requirement already satisfied: psutil in /usr/local/lib/python3.11/dist-packages (from accelerate>=0.26.0->transformers[torch]) (5.9.5)\n",
            "Requirement already satisfied: fsspec>=2023.5.0 in /usr/local/lib/python3.11/dist-packages (from huggingface-hub<1.0,>=0.24.0->transformers[torch]) (2024.10.0)\n",
            "Requirement already satisfied: typing-extensions>=3.7.4.3 in /usr/local/lib/python3.11/dist-packages (from huggingface-hub<1.0,>=0.24.0->transformers[torch]) (4.12.2)\n",
            "Requirement already satisfied: networkx in /usr/local/lib/python3.11/dist-packages (from torch>=2.0->transformers[torch]) (3.4.2)\n",
            "Requirement already satisfied: jinja2 in /usr/local/lib/python3.11/dist-packages (from torch>=2.0->transformers[torch]) (3.1.6)\n",
            "Requirement already satisfied: nvidia-cuda-nvrtc-cu12==12.4.127 in /usr/local/lib/python3.11/dist-packages (from torch>=2.0->transformers[torch]) (12.4.127)\n",
            "Requirement already satisfied: nvidia-cuda-runtime-cu12==12.4.127 in /usr/local/lib/python3.11/dist-packages (from torch>=2.0->transformers[torch]) (12.4.127)\n",
            "Requirement already satisfied: nvidia-cuda-cupti-cu12==12.4.127 in /usr/local/lib/python3.11/dist-packages (from torch>=2.0->transformers[torch]) (12.4.127)\n",
            "Requirement already satisfied: nvidia-cudnn-cu12==9.1.0.70 in /usr/local/lib/python3.11/dist-packages (from torch>=2.0->transformers[torch]) (9.1.0.70)\n",
            "Requirement already satisfied: nvidia-cublas-cu12==12.4.5.8 in /usr/local/lib/python3.11/dist-packages (from torch>=2.0->transformers[torch]) (12.4.5.8)\n",
            "Requirement already satisfied: nvidia-cufft-cu12==11.2.1.3 in /usr/local/lib/python3.11/dist-packages (from torch>=2.0->transformers[torch]) (11.2.1.3)\n",
            "Requirement already satisfied: nvidia-curand-cu12==10.3.5.147 in /usr/local/lib/python3.11/dist-packages (from torch>=2.0->transformers[torch]) (10.3.5.147)\n",
            "Requirement already satisfied: nvidia-cusolver-cu12==11.6.1.9 in /usr/local/lib/python3.11/dist-packages (from torch>=2.0->transformers[torch]) (11.6.1.9)\n",
            "Requirement already satisfied: nvidia-cusparse-cu12==12.3.1.170 in /usr/local/lib/python3.11/dist-packages (from torch>=2.0->transformers[torch]) (12.3.1.170)\n",
            "Requirement already satisfied: nvidia-cusparselt-cu12==0.6.2 in /usr/local/lib/python3.11/dist-packages (from torch>=2.0->transformers[torch]) (0.6.2)\n",
            "Requirement already satisfied: nvidia-nccl-cu12==2.21.5 in /usr/local/lib/python3.11/dist-packages (from torch>=2.0->transformers[torch]) (2.21.5)\n",
            "Requirement already satisfied: nvidia-nvtx-cu12==12.4.127 in /usr/local/lib/python3.11/dist-packages (from torch>=2.0->transformers[torch]) (12.4.127)\n",
            "Requirement already satisfied: nvidia-nvjitlink-cu12==12.4.127 in /usr/local/lib/python3.11/dist-packages (from torch>=2.0->transformers[torch]) (12.4.127)\n",
            "Requirement already satisfied: triton==3.2.0 in /usr/local/lib/python3.11/dist-packages (from torch>=2.0->transformers[torch]) (3.2.0)\n",
            "Requirement already satisfied: sympy==1.13.1 in /usr/local/lib/python3.11/dist-packages (from torch>=2.0->transformers[torch]) (1.13.1)\n",
            "Requirement already satisfied: mpmath<1.4,>=1.1.0 in /usr/local/lib/python3.11/dist-packages (from sympy==1.13.1->torch>=2.0->transformers[torch]) (1.3.0)\n",
            "Requirement already satisfied: charset-normalizer<4,>=2 in /usr/local/lib/python3.11/dist-packages (from requests->transformers[torch]) (3.4.1)\n",
            "Requirement already satisfied: idna<4,>=2.5 in /usr/local/lib/python3.11/dist-packages (from requests->transformers[torch]) (3.10)\n",
            "Requirement already satisfied: urllib3<3,>=1.21.1 in /usr/local/lib/python3.11/dist-packages (from requests->transformers[torch]) (2.3.0)\n",
            "Requirement already satisfied: certifi>=2017.4.17 in /usr/local/lib/python3.11/dist-packages (from requests->transformers[torch]) (2025.1.31)\n",
            "Requirement already satisfied: MarkupSafe>=2.0 in /usr/local/lib/python3.11/dist-packages (from jinja2->torch>=2.0->transformers[torch]) (3.0.2)\n",
            "Requirement already satisfied: wandb in /usr/local/lib/python3.11/dist-packages (0.19.8)\n",
            "Requirement already satisfied: click!=8.0.0,>=7.1 in /usr/local/lib/python3.11/dist-packages (from wandb) (8.1.8)\n",
            "Requirement already satisfied: docker-pycreds>=0.4.0 in /usr/local/lib/python3.11/dist-packages (from wandb) (0.4.0)\n",
            "Requirement already satisfied: gitpython!=3.1.29,>=1.0.0 in /usr/local/lib/python3.11/dist-packages (from wandb) (3.1.44)\n",
            "Requirement already satisfied: platformdirs in /usr/local/lib/python3.11/dist-packages (from wandb) (4.3.6)\n",
            "Requirement already satisfied: protobuf!=4.21.0,!=5.28.0,<6,>=3.19.0 in /usr/local/lib/python3.11/dist-packages (from wandb) (4.25.6)\n",
            "Requirement already satisfied: psutil>=5.0.0 in /usr/local/lib/python3.11/dist-packages (from wandb) (5.9.5)\n",
            "Requirement already satisfied: pydantic<3,>=2.6 in /usr/local/lib/python3.11/dist-packages (from wandb) (2.10.6)\n",
            "Requirement already satisfied: pyyaml in /usr/local/lib/python3.11/dist-packages (from wandb) (6.0.2)\n",
            "Requirement already satisfied: requests<3,>=2.0.0 in /usr/local/lib/python3.11/dist-packages (from wandb) (2.32.3)\n",
            "Requirement already satisfied: sentry-sdk>=2.0.0 in /usr/local/lib/python3.11/dist-packages (from wandb) (2.22.0)\n",
            "Requirement already satisfied: setproctitle in /usr/local/lib/python3.11/dist-packages (from wandb) (1.3.5)\n",
            "Requirement already satisfied: setuptools in /usr/local/lib/python3.11/dist-packages (from wandb) (75.1.0)\n",
            "Requirement already satisfied: typing-extensions<5,>=4.4 in /usr/local/lib/python3.11/dist-packages (from wandb) (4.12.2)\n",
            "Requirement already satisfied: six>=1.4.0 in /usr/local/lib/python3.11/dist-packages (from docker-pycreds>=0.4.0->wandb) (1.17.0)\n",
            "Requirement already satisfied: gitdb<5,>=4.0.1 in /usr/local/lib/python3.11/dist-packages (from gitpython!=3.1.29,>=1.0.0->wandb) (4.0.12)\n",
            "Requirement already satisfied: annotated-types>=0.6.0 in /usr/local/lib/python3.11/dist-packages (from pydantic<3,>=2.6->wandb) (0.7.0)\n",
            "Requirement already satisfied: pydantic-core==2.27.2 in /usr/local/lib/python3.11/dist-packages (from pydantic<3,>=2.6->wandb) (2.27.2)\n",
            "Requirement already satisfied: charset-normalizer<4,>=2 in /usr/local/lib/python3.11/dist-packages (from requests<3,>=2.0.0->wandb) (3.4.1)\n",
            "Requirement already satisfied: idna<4,>=2.5 in /usr/local/lib/python3.11/dist-packages (from requests<3,>=2.0.0->wandb) (3.10)\n",
            "Requirement already satisfied: urllib3<3,>=1.21.1 in /usr/local/lib/python3.11/dist-packages (from requests<3,>=2.0.0->wandb) (2.3.0)\n",
            "Requirement already satisfied: certifi>=2017.4.17 in /usr/local/lib/python3.11/dist-packages (from requests<3,>=2.0.0->wandb) (2025.1.31)\n",
            "Requirement already satisfied: smmap<6,>=3.0.1 in /usr/local/lib/python3.11/dist-packages (from gitdb<5,>=4.0.1->gitpython!=3.1.29,>=1.0.0->wandb) (5.0.2)\n"
          ]
        }
      ],
      "source": [
        "!pip install datasets\n",
        "!pip install transformers\n",
        "!pip install accelerate -U\n",
        "!pip install transformers[torch]\n",
        "!pip install wandb"
      ]
    },
    {
      "cell_type": "code",
      "execution_count": 3,
      "metadata": {
        "colab": {
          "base_uri": "https://localhost:8080/"
        },
        "id": "v3ahYTyvn0kh",
        "outputId": "b785923f-18ca-4690-b624-6ef74e693b2f"
      },
      "outputs": [
        {
          "output_type": "stream",
          "name": "stdout",
          "text": [
            "Collecting evaluate\n",
            "  Downloading evaluate-0.4.3-py3-none-any.whl.metadata (9.2 kB)\n",
            "Requirement already satisfied: datasets>=2.0.0 in /usr/local/lib/python3.11/dist-packages (from evaluate) (3.4.1)\n",
            "Requirement already satisfied: numpy>=1.17 in /usr/local/lib/python3.11/dist-packages (from evaluate) (2.0.2)\n",
            "Requirement already satisfied: dill in /usr/local/lib/python3.11/dist-packages (from evaluate) (0.3.8)\n",
            "Requirement already satisfied: pandas in /usr/local/lib/python3.11/dist-packages (from evaluate) (2.2.2)\n",
            "Requirement already satisfied: requests>=2.19.0 in /usr/local/lib/python3.11/dist-packages (from evaluate) (2.32.3)\n",
            "Requirement already satisfied: tqdm>=4.62.1 in /usr/local/lib/python3.11/dist-packages (from evaluate) (4.67.1)\n",
            "Requirement already satisfied: xxhash in /usr/local/lib/python3.11/dist-packages (from evaluate) (3.5.0)\n",
            "Requirement already satisfied: multiprocess in /usr/local/lib/python3.11/dist-packages (from evaluate) (0.70.16)\n",
            "Requirement already satisfied: fsspec>=2021.05.0 in /usr/local/lib/python3.11/dist-packages (from fsspec[http]>=2021.05.0->evaluate) (2024.10.0)\n",
            "Requirement already satisfied: huggingface-hub>=0.7.0 in /usr/local/lib/python3.11/dist-packages (from evaluate) (0.28.1)\n",
            "Requirement already satisfied: packaging in /usr/local/lib/python3.11/dist-packages (from evaluate) (24.2)\n",
            "Requirement already satisfied: filelock in /usr/local/lib/python3.11/dist-packages (from datasets>=2.0.0->evaluate) (3.17.0)\n",
            "Requirement already satisfied: pyarrow>=15.0.0 in /usr/local/lib/python3.11/dist-packages (from datasets>=2.0.0->evaluate) (18.1.0)\n",
            "Requirement already satisfied: aiohttp in /usr/local/lib/python3.11/dist-packages (from datasets>=2.0.0->evaluate) (3.11.13)\n",
            "Requirement already satisfied: pyyaml>=5.1 in /usr/local/lib/python3.11/dist-packages (from datasets>=2.0.0->evaluate) (6.0.2)\n",
            "Requirement already satisfied: typing-extensions>=3.7.4.3 in /usr/local/lib/python3.11/dist-packages (from huggingface-hub>=0.7.0->evaluate) (4.12.2)\n",
            "Requirement already satisfied: charset-normalizer<4,>=2 in /usr/local/lib/python3.11/dist-packages (from requests>=2.19.0->evaluate) (3.4.1)\n",
            "Requirement already satisfied: idna<4,>=2.5 in /usr/local/lib/python3.11/dist-packages (from requests>=2.19.0->evaluate) (3.10)\n",
            "Requirement already satisfied: urllib3<3,>=1.21.1 in /usr/local/lib/python3.11/dist-packages (from requests>=2.19.0->evaluate) (2.3.0)\n",
            "Requirement already satisfied: certifi>=2017.4.17 in /usr/local/lib/python3.11/dist-packages (from requests>=2.19.0->evaluate) (2025.1.31)\n",
            "Requirement already satisfied: python-dateutil>=2.8.2 in /usr/local/lib/python3.11/dist-packages (from pandas->evaluate) (2.8.2)\n",
            "Requirement already satisfied: pytz>=2020.1 in /usr/local/lib/python3.11/dist-packages (from pandas->evaluate) (2025.1)\n",
            "Requirement already satisfied: tzdata>=2022.7 in /usr/local/lib/python3.11/dist-packages (from pandas->evaluate) (2025.1)\n",
            "Requirement already satisfied: aiohappyeyeballs>=2.3.0 in /usr/local/lib/python3.11/dist-packages (from aiohttp->datasets>=2.0.0->evaluate) (2.6.1)\n",
            "Requirement already satisfied: aiosignal>=1.1.2 in /usr/local/lib/python3.11/dist-packages (from aiohttp->datasets>=2.0.0->evaluate) (1.3.2)\n",
            "Requirement already satisfied: attrs>=17.3.0 in /usr/local/lib/python3.11/dist-packages (from aiohttp->datasets>=2.0.0->evaluate) (25.3.0)\n",
            "Requirement already satisfied: frozenlist>=1.1.1 in /usr/local/lib/python3.11/dist-packages (from aiohttp->datasets>=2.0.0->evaluate) (1.5.0)\n",
            "Requirement already satisfied: multidict<7.0,>=4.5 in /usr/local/lib/python3.11/dist-packages (from aiohttp->datasets>=2.0.0->evaluate) (6.1.0)\n",
            "Requirement already satisfied: propcache>=0.2.0 in /usr/local/lib/python3.11/dist-packages (from aiohttp->datasets>=2.0.0->evaluate) (0.3.0)\n",
            "Requirement already satisfied: yarl<2.0,>=1.17.0 in /usr/local/lib/python3.11/dist-packages (from aiohttp->datasets>=2.0.0->evaluate) (1.18.3)\n",
            "Requirement already satisfied: six>=1.5 in /usr/local/lib/python3.11/dist-packages (from python-dateutil>=2.8.2->pandas->evaluate) (1.17.0)\n",
            "Downloading evaluate-0.4.3-py3-none-any.whl (84 kB)\n",
            "\u001b[2K   \u001b[90m━━━━━━━━━━━━━━━━━━━━━━━━━━━━━━━━━━━━━━━━\u001b[0m \u001b[32m84.0/84.0 kB\u001b[0m \u001b[31m5.1 MB/s\u001b[0m eta \u001b[36m0:00:00\u001b[0m\n",
            "\u001b[?25hInstalling collected packages: evaluate\n",
            "Successfully installed evaluate-0.4.3\n"
          ]
        }
      ],
      "source": [
        "from tqdm import tqdm, trange\n",
        "import multiprocessing\n",
        "\n",
        "from transformers import (WEIGHTS_NAME, AdamW, get_linear_schedule_with_warmup,\n",
        "                          RobertaConfig, RobertaForSequenceClassification, RobertaTokenizer)\n",
        "from datasets import Dataset\n",
        "from transformers import RobertaTokenizer, RobertaForMaskedLM, pipeline\n",
        "from transformers import DataCollatorWithPadding\n",
        "from transformers import AutoModelForSequenceClassification, TrainingArguments, Trainer\n",
        "\n",
        "import torch\n",
        "\n",
        "!pip install evaluate\n",
        "import evaluate\n",
        "import numpy as np\n",
        "import pandas as pd\n",
        "from sklearn.model_selection import train_test_split"
      ]
    },
    {
      "cell_type": "markdown",
      "metadata": {
        "id": "UpxfEwg3n_ee"
      },
      "source": [
        "## Transformers & Hugging Face Libraries  \n",
        "- **RobertaConfig** → Configuration settings for RoBERTa models.  \n",
        "- **RobertaForSequenceClassification** → RoBERTa model for classification tasks.  \n",
        "- **RobertaTokenizer** → Tokenizer for RoBERTa (converts text into tokenized inputs).  \n",
        "- **RobertaForMaskedLM** → RoBERTa for Masked Language Modeling (predicting masked words).  \n",
        "- **pipeline** → High-level API for using pre-trained models easily.  \n",
        "- **DataCollatorWithPadding** → Ensures tokenized inputs are correctly padded for training.  \n",
        "- **AutoModelForSequenceClassification** → Generic method for loading classification models.  \n",
        "- **TrainingArguments & Trainer** → Utilities for managing model training.  \n",
        "\n",
        "## Torch & Optimizers  \n",
        "- **torch** → PyTorch framework for training deep learning models.  \n",
        "- **AdamW** → Optimizer designed for transformers.  \n",
        "- **get_linear_schedule_with_warmup** → Learning rate scheduler.  \n",
        "\n",
        "## Additional Libraries  \n",
        "- **evaluate** → A package for computing accuracy, F1-score, etc., similar to `datasets.metric`.  \n",
        "- **numpy & pandas** → For handling datasets and numerical operations.  \n",
        "- **sklearn.train_test_split** → Splits data into training and test sets.  \n"
      ]
    },
    {
      "cell_type": "code",
      "execution_count": 5,
      "metadata": {
        "colab": {
          "base_uri": "https://localhost:8080/"
        },
        "id": "sndHYsIun7zD",
        "outputId": "f7e5b28b-3206-44ba-a1d0-2716e28ca873"
      },
      "outputs": [
        {
          "output_type": "stream",
          "name": "stdout",
          "text": [
            "Mounted at /content/drive\n"
          ]
        }
      ],
      "source": [
        "from google.colab import drive\n",
        "drive.mount('/content/drive')"
      ]
    },
    {
      "cell_type": "code",
      "execution_count": 6,
      "metadata": {
        "id": "qvjG2wSYoio4"
      },
      "outputs": [],
      "source": [
        "import pandas as pd\n",
        "df=pd.read_csv('/content/drive/MyDrive/Colab_Notebooks/MSc_Fault_Tolerance/processed_data_diversevul_2.csv')"
      ]
    },
    {
      "cell_type": "code",
      "execution_count": 7,
      "metadata": {
        "colab": {
          "base_uri": "https://localhost:8080/"
        },
        "id": "qsVbL0jfoE8F",
        "outputId": "ea3d12c2-dc9a-47e2-e1d1-d941a292c3f1"
      },
      "outputs": [
        {
          "output_type": "stream",
          "name": "stdout",
          "text": [
            "Unique CWEs in the filtered dataset: ['CWE0' 'CWE400' 'CWE120' 'CWE190' 'CWE369' 'CWE502' 'CWE122']\n",
            "Dataset has been filtered and saved as 'filtered_dataset.csv'\n"
          ]
        }
      ],
      "source": [
        "import pandas as pd\n",
        "\n",
        "# List of buffer overflow related CWEs\n",
        "# buffer_overflow_cwes = [\n",
        "#     'CWE119', 'CWE120', 'CWE121', 'CWE122', 'CWE123', 'CWE124',\n",
        "#     'CWE125', 'CWE787', 'CWE805', 'CWE680', 'CWE131', 'CWE170',\n",
        "#     'CWE369', 'CWE415'\n",
        "# ]\n",
        "\n",
        "buffer_overflow_cwes = [\n",
        "    'CWE0', 'CWE120', 'CWE122', 'CWE369', 'CWE190',\n",
        "    'CWE400', 'CWE502'\n",
        "]\n",
        "\n",
        "\n",
        "# Creating a list of specific CWE identifiers related to buffer overflow vulnerabilities\n",
        "\n",
        "# Filter the dataset to include only rows where the CWE-Type column matches one of the buffer overflow CWEs\n",
        "# This line filters the DataFrame (df) to only include rows where the value in the CWE-Type column matches\n",
        "# any of the CWEs in the buffer_overflow_cwes list.\n",
        "filtered_df = df[df['CWE-Type'].isin(buffer_overflow_cwes)]\n",
        "\n",
        "# Show unique values in the CWE-Type column after filtering\n",
        "# extracts the unique values in the CWE-Type column of the filtered DataFrame (filtered_df), i.e.,\n",
        "# the distinct CWEs that match buffer overflow vulnerabilities. It prints those unique CWEs so you can see which vulnerabilities are present\n",
        "unique_cwes = filtered_df['CWE-Type'].unique()\n",
        "print(\"Unique CWEs in the filtered dataset:\", unique_cwes)\n",
        "\n",
        "# Save the filtered dataset to a new CSV file\n",
        "filtered_df.to_csv('filtered_dataset.csv', index=False)\n",
        "\n",
        "print(\"Dataset has been filtered and saved as 'filtered_dataset.csv'\")\n"
      ]
    },
    {
      "cell_type": "markdown",
      "metadata": {
        "id": "C0q6sQrYoLkK"
      },
      "source": [
        "CWEs are used to classify and identify different types of security vulnerabilities, in this case related to buffer overflow.\n",
        "\n",
        "filtered_df = df[df['CWE-Type'].isin(buffer_overflow_cwes)]:\n",
        "* Only rows where condition of (CWE-type present in buffer_overflow_cwes = true) are kept.\n",
        "* Returns a new DataFrame with only the rows where the CWE-type column matches one of the buffer overflow CWEs"
      ]
    },
    {
      "cell_type": "code",
      "execution_count": 8,
      "metadata": {
        "id": "wP76cxIaoHz1"
      },
      "outputs": [],
      "source": [
        "filtered_df.to_csv('/content/drive/MyDrive/Colab_Notebooks/MSc_Fault_Tolerance/bo_filtered_dataset.csv', index=False)"
      ]
    },
    {
      "cell_type": "code",
      "execution_count": 9,
      "metadata": {
        "colab": {
          "base_uri": "https://localhost:8080/"
        },
        "id": "8cKp09_NoNpq",
        "outputId": "e3269259-612e-4a73-fe28-defc4eb82c69"
      },
      "outputs": [
        {
          "output_type": "execute_result",
          "data": {
            "text/plain": [
              "80134"
            ]
          },
          "metadata": {},
          "execution_count": 9
        }
      ],
      "source": [
        "len(filtered_df)"
      ]
    },
    {
      "cell_type": "code",
      "execution_count": 10,
      "metadata": {
        "colab": {
          "base_uri": "https://localhost:8080/"
        },
        "id": "B6XuKGlSoO23",
        "outputId": "443e2df9-3633-4379-c509-8dc9c9a4a7d8"
      },
      "outputs": [
        {
          "output_type": "stream",
          "name": "stdout",
          "text": [
            "                                                     code CWE-Type\n",
            "0       int _gnutls_ciphertext2compressed(gnutls_sessi...     CWE0\n",
            "2       unpack_Z_stream(int fd_in, int fd_out)\\n{\\n\\tI...     CWE0\n",
            "14      asmlinkage long compat_sys_mount(char __user *...     CWE0\n",
            "15      unsigned short atalk_checksum(struct ddpehdr *...     CWE0\n",
            "16      static int ltalk_rcv(struct sk_buff *skb, stru...     CWE0\n",
            "...                                                   ...      ...\n",
            "409114  CpuDefinitionInfoList *qmp_query_cpu_definitio...     CWE0\n",
            "409115  static bool loongarch_cpu_exec_interrupt(CPUSt...     CWE0\n",
            "409116  static bool loongarch_cpu_has_work(CPUState *c...     CWE0\n",
            "409117  static void loongarch_cpu_add_definition(gpoin...     CWE0\n",
            "409118  static void loongarch_cpu_synchronize_from_tb(...     CWE0\n",
            "\n",
            "[80134 rows x 2 columns]\n"
          ]
        }
      ],
      "source": [
        "\n",
        "# Define a list of CWEs to filter\n",
        "target_cwes = ['CWE0', 'CWE120', 'CWE122', 'CWE369', 'CWE190',\n",
        "    'CWE400', 'CWE502']\n",
        "\n",
        "# Include CWEs in the range 780-790\n",
        "#for i in range(780, 791):\n",
        "#    target_cwes.append('CWE' + str(i))\n",
        "\n",
        "# Filter entries containing CWEs in the specified range or in the target list\n",
        "filtered_df = df[df['CWE-Type'].str.contains('|'.join(target_cwes))]\n",
        "\n",
        "# Output the filtered dataframe\n",
        "print(filtered_df)"
      ]
    },
    {
      "cell_type": "code",
      "execution_count": 11,
      "metadata": {
        "colab": {
          "base_uri": "https://localhost:8080/"
        },
        "id": "pQKYXayqoQNh",
        "outputId": "1bb16bf7-a16f-4a3d-b4de-0b17201d9182"
      },
      "outputs": [
        {
          "output_type": "stream",
          "name": "stdout",
          "text": [
            "Unique CWE types: 7\n"
          ]
        }
      ],
      "source": [
        "# Extract unique CWE types\n",
        "unique_cwes = filtered_df['CWE-Type'].nunique()\n",
        "\n",
        "# Output unique CWE types\n",
        "print(\"Unique CWE types:\", unique_cwes)"
      ]
    },
    {
      "cell_type": "code",
      "execution_count": 12,
      "metadata": {
        "id": "rJ_l61m4oR82"
      },
      "outputs": [],
      "source": [
        "df=filtered_df"
      ]
    },
    {
      "cell_type": "code",
      "execution_count": 13,
      "metadata": {
        "id": "Lau5lmJzor1-"
      },
      "outputs": [],
      "source": [
        "df = df.astype(str)"
      ]
    },
    {
      "cell_type": "code",
      "execution_count": 14,
      "metadata": {
        "id": "rbKpEpA2osbW"
      },
      "outputs": [],
      "source": [
        "# Creating 2 dictionaries that convert between unique CWE types and numerical labels\n",
        "id2label = dict() # Maps integer index to a CWE-type (0 : 'CWE119)\n",
        "label2id = dict() # Maps CWE-type to an integer index ('CWE119' : 0)\n",
        "ind = 0\n",
        "for i in df['CWE-Type'].unique():\n",
        "    id2label[ind] = i\n",
        "    label2id[i] = ind\n",
        "    ind+=1"
      ]
    },
    {
      "cell_type": "code",
      "execution_count": 15,
      "metadata": {
        "colab": {
          "base_uri": "https://localhost:8080/"
        },
        "id": "U5Px8hxloxNS",
        "outputId": "25ff40ee-41e5-4f1d-8361-0a2d6341830e"
      },
      "outputs": [
        {
          "output_type": "stream",
          "name": "stdout",
          "text": [
            "id2label dictionary: \n",
            "{0: 'CWE0', 1: 'CWE400', 2: 'CWE120', 3: 'CWE190', 4: 'CWE369', 5: 'CWE502', 6: 'CWE122'}\n",
            "label2id dictionary: \n",
            "{'CWE0': 0, 'CWE400': 1, 'CWE120': 2, 'CWE190': 3, 'CWE369': 4, 'CWE502': 5, 'CWE122': 6}\n"
          ]
        }
      ],
      "source": [
        "print('id2label dictionary: ')\n",
        "print(id2label)\n",
        "print('label2id dictionary: ')\n",
        "print(label2id)"
      ]
    },
    {
      "cell_type": "code",
      "execution_count": 16,
      "metadata": {
        "colab": {
          "base_uri": "https://localhost:8080/",
          "height": 206
        },
        "id": "zMx2D6bAoyEV",
        "outputId": "d514adf8-72eb-40b0-dcd9-9d7a1e370d0c"
      },
      "outputs": [
        {
          "output_type": "execute_result",
          "data": {
            "text/plain": [
              "                                                 code CWE-Type  label\n",
              "0   int _gnutls_ciphertext2compressed(gnutls_sessi...     CWE0      0\n",
              "2   unpack_Z_stream(int fd_in, int fd_out)\\n{\\n\\tI...     CWE0      0\n",
              "14  asmlinkage long compat_sys_mount(char __user *...     CWE0      0\n",
              "15  unsigned short atalk_checksum(struct ddpehdr *...     CWE0      0\n",
              "16  static int ltalk_rcv(struct sk_buff *skb, stru...     CWE0      0"
            ],
            "text/html": [
              "\n",
              "  <div id=\"df-5c0b5fc1-8711-49b7-b835-29dbcf3be8c6\" class=\"colab-df-container\">\n",
              "    <div>\n",
              "<style scoped>\n",
              "    .dataframe tbody tr th:only-of-type {\n",
              "        vertical-align: middle;\n",
              "    }\n",
              "\n",
              "    .dataframe tbody tr th {\n",
              "        vertical-align: top;\n",
              "    }\n",
              "\n",
              "    .dataframe thead th {\n",
              "        text-align: right;\n",
              "    }\n",
              "</style>\n",
              "<table border=\"1\" class=\"dataframe\">\n",
              "  <thead>\n",
              "    <tr style=\"text-align: right;\">\n",
              "      <th></th>\n",
              "      <th>code</th>\n",
              "      <th>CWE-Type</th>\n",
              "      <th>label</th>\n",
              "    </tr>\n",
              "  </thead>\n",
              "  <tbody>\n",
              "    <tr>\n",
              "      <th>0</th>\n",
              "      <td>int _gnutls_ciphertext2compressed(gnutls_sessi...</td>\n",
              "      <td>CWE0</td>\n",
              "      <td>0</td>\n",
              "    </tr>\n",
              "    <tr>\n",
              "      <th>2</th>\n",
              "      <td>unpack_Z_stream(int fd_in, int fd_out)\\n{\\n\\tI...</td>\n",
              "      <td>CWE0</td>\n",
              "      <td>0</td>\n",
              "    </tr>\n",
              "    <tr>\n",
              "      <th>14</th>\n",
              "      <td>asmlinkage long compat_sys_mount(char __user *...</td>\n",
              "      <td>CWE0</td>\n",
              "      <td>0</td>\n",
              "    </tr>\n",
              "    <tr>\n",
              "      <th>15</th>\n",
              "      <td>unsigned short atalk_checksum(struct ddpehdr *...</td>\n",
              "      <td>CWE0</td>\n",
              "      <td>0</td>\n",
              "    </tr>\n",
              "    <tr>\n",
              "      <th>16</th>\n",
              "      <td>static int ltalk_rcv(struct sk_buff *skb, stru...</td>\n",
              "      <td>CWE0</td>\n",
              "      <td>0</td>\n",
              "    </tr>\n",
              "  </tbody>\n",
              "</table>\n",
              "</div>\n",
              "    <div class=\"colab-df-buttons\">\n",
              "\n",
              "  <div class=\"colab-df-container\">\n",
              "    <button class=\"colab-df-convert\" onclick=\"convertToInteractive('df-5c0b5fc1-8711-49b7-b835-29dbcf3be8c6')\"\n",
              "            title=\"Convert this dataframe to an interactive table.\"\n",
              "            style=\"display:none;\">\n",
              "\n",
              "  <svg xmlns=\"http://www.w3.org/2000/svg\" height=\"24px\" viewBox=\"0 -960 960 960\">\n",
              "    <path d=\"M120-120v-720h720v720H120Zm60-500h600v-160H180v160Zm220 220h160v-160H400v160Zm0 220h160v-160H400v160ZM180-400h160v-160H180v160Zm440 0h160v-160H620v160ZM180-180h160v-160H180v160Zm440 0h160v-160H620v160Z\"/>\n",
              "  </svg>\n",
              "    </button>\n",
              "\n",
              "  <style>\n",
              "    .colab-df-container {\n",
              "      display:flex;\n",
              "      gap: 12px;\n",
              "    }\n",
              "\n",
              "    .colab-df-convert {\n",
              "      background-color: #E8F0FE;\n",
              "      border: none;\n",
              "      border-radius: 50%;\n",
              "      cursor: pointer;\n",
              "      display: none;\n",
              "      fill: #1967D2;\n",
              "      height: 32px;\n",
              "      padding: 0 0 0 0;\n",
              "      width: 32px;\n",
              "    }\n",
              "\n",
              "    .colab-df-convert:hover {\n",
              "      background-color: #E2EBFA;\n",
              "      box-shadow: 0px 1px 2px rgba(60, 64, 67, 0.3), 0px 1px 3px 1px rgba(60, 64, 67, 0.15);\n",
              "      fill: #174EA6;\n",
              "    }\n",
              "\n",
              "    .colab-df-buttons div {\n",
              "      margin-bottom: 4px;\n",
              "    }\n",
              "\n",
              "    [theme=dark] .colab-df-convert {\n",
              "      background-color: #3B4455;\n",
              "      fill: #D2E3FC;\n",
              "    }\n",
              "\n",
              "    [theme=dark] .colab-df-convert:hover {\n",
              "      background-color: #434B5C;\n",
              "      box-shadow: 0px 1px 3px 1px rgba(0, 0, 0, 0.15);\n",
              "      filter: drop-shadow(0px 1px 2px rgba(0, 0, 0, 0.3));\n",
              "      fill: #FFFFFF;\n",
              "    }\n",
              "  </style>\n",
              "\n",
              "    <script>\n",
              "      const buttonEl =\n",
              "        document.querySelector('#df-5c0b5fc1-8711-49b7-b835-29dbcf3be8c6 button.colab-df-convert');\n",
              "      buttonEl.style.display =\n",
              "        google.colab.kernel.accessAllowed ? 'block' : 'none';\n",
              "\n",
              "      async function convertToInteractive(key) {\n",
              "        const element = document.querySelector('#df-5c0b5fc1-8711-49b7-b835-29dbcf3be8c6');\n",
              "        const dataTable =\n",
              "          await google.colab.kernel.invokeFunction('convertToInteractive',\n",
              "                                                    [key], {});\n",
              "        if (!dataTable) return;\n",
              "\n",
              "        const docLinkHtml = 'Like what you see? Visit the ' +\n",
              "          '<a target=\"_blank\" href=https://colab.research.google.com/notebooks/data_table.ipynb>data table notebook</a>'\n",
              "          + ' to learn more about interactive tables.';\n",
              "        element.innerHTML = '';\n",
              "        dataTable['output_type'] = 'display_data';\n",
              "        await google.colab.output.renderOutput(dataTable, element);\n",
              "        const docLink = document.createElement('div');\n",
              "        docLink.innerHTML = docLinkHtml;\n",
              "        element.appendChild(docLink);\n",
              "      }\n",
              "    </script>\n",
              "  </div>\n",
              "\n",
              "\n",
              "<div id=\"df-3b370ca3-8af9-4d55-a611-ab3852cb6ec8\">\n",
              "  <button class=\"colab-df-quickchart\" onclick=\"quickchart('df-3b370ca3-8af9-4d55-a611-ab3852cb6ec8')\"\n",
              "            title=\"Suggest charts\"\n",
              "            style=\"display:none;\">\n",
              "\n",
              "<svg xmlns=\"http://www.w3.org/2000/svg\" height=\"24px\"viewBox=\"0 0 24 24\"\n",
              "     width=\"24px\">\n",
              "    <g>\n",
              "        <path d=\"M19 3H5c-1.1 0-2 .9-2 2v14c0 1.1.9 2 2 2h14c1.1 0 2-.9 2-2V5c0-1.1-.9-2-2-2zM9 17H7v-7h2v7zm4 0h-2V7h2v10zm4 0h-2v-4h2v4z\"/>\n",
              "    </g>\n",
              "</svg>\n",
              "  </button>\n",
              "\n",
              "<style>\n",
              "  .colab-df-quickchart {\n",
              "      --bg-color: #E8F0FE;\n",
              "      --fill-color: #1967D2;\n",
              "      --hover-bg-color: #E2EBFA;\n",
              "      --hover-fill-color: #174EA6;\n",
              "      --disabled-fill-color: #AAA;\n",
              "      --disabled-bg-color: #DDD;\n",
              "  }\n",
              "\n",
              "  [theme=dark] .colab-df-quickchart {\n",
              "      --bg-color: #3B4455;\n",
              "      --fill-color: #D2E3FC;\n",
              "      --hover-bg-color: #434B5C;\n",
              "      --hover-fill-color: #FFFFFF;\n",
              "      --disabled-bg-color: #3B4455;\n",
              "      --disabled-fill-color: #666;\n",
              "  }\n",
              "\n",
              "  .colab-df-quickchart {\n",
              "    background-color: var(--bg-color);\n",
              "    border: none;\n",
              "    border-radius: 50%;\n",
              "    cursor: pointer;\n",
              "    display: none;\n",
              "    fill: var(--fill-color);\n",
              "    height: 32px;\n",
              "    padding: 0;\n",
              "    width: 32px;\n",
              "  }\n",
              "\n",
              "  .colab-df-quickchart:hover {\n",
              "    background-color: var(--hover-bg-color);\n",
              "    box-shadow: 0 1px 2px rgba(60, 64, 67, 0.3), 0 1px 3px 1px rgba(60, 64, 67, 0.15);\n",
              "    fill: var(--button-hover-fill-color);\n",
              "  }\n",
              "\n",
              "  .colab-df-quickchart-complete:disabled,\n",
              "  .colab-df-quickchart-complete:disabled:hover {\n",
              "    background-color: var(--disabled-bg-color);\n",
              "    fill: var(--disabled-fill-color);\n",
              "    box-shadow: none;\n",
              "  }\n",
              "\n",
              "  .colab-df-spinner {\n",
              "    border: 2px solid var(--fill-color);\n",
              "    border-color: transparent;\n",
              "    border-bottom-color: var(--fill-color);\n",
              "    animation:\n",
              "      spin 1s steps(1) infinite;\n",
              "  }\n",
              "\n",
              "  @keyframes spin {\n",
              "    0% {\n",
              "      border-color: transparent;\n",
              "      border-bottom-color: var(--fill-color);\n",
              "      border-left-color: var(--fill-color);\n",
              "    }\n",
              "    20% {\n",
              "      border-color: transparent;\n",
              "      border-left-color: var(--fill-color);\n",
              "      border-top-color: var(--fill-color);\n",
              "    }\n",
              "    30% {\n",
              "      border-color: transparent;\n",
              "      border-left-color: var(--fill-color);\n",
              "      border-top-color: var(--fill-color);\n",
              "      border-right-color: var(--fill-color);\n",
              "    }\n",
              "    40% {\n",
              "      border-color: transparent;\n",
              "      border-right-color: var(--fill-color);\n",
              "      border-top-color: var(--fill-color);\n",
              "    }\n",
              "    60% {\n",
              "      border-color: transparent;\n",
              "      border-right-color: var(--fill-color);\n",
              "    }\n",
              "    80% {\n",
              "      border-color: transparent;\n",
              "      border-right-color: var(--fill-color);\n",
              "      border-bottom-color: var(--fill-color);\n",
              "    }\n",
              "    90% {\n",
              "      border-color: transparent;\n",
              "      border-bottom-color: var(--fill-color);\n",
              "    }\n",
              "  }\n",
              "</style>\n",
              "\n",
              "  <script>\n",
              "    async function quickchart(key) {\n",
              "      const quickchartButtonEl =\n",
              "        document.querySelector('#' + key + ' button');\n",
              "      quickchartButtonEl.disabled = true;  // To prevent multiple clicks.\n",
              "      quickchartButtonEl.classList.add('colab-df-spinner');\n",
              "      try {\n",
              "        const charts = await google.colab.kernel.invokeFunction(\n",
              "            'suggestCharts', [key], {});\n",
              "      } catch (error) {\n",
              "        console.error('Error during call to suggestCharts:', error);\n",
              "      }\n",
              "      quickchartButtonEl.classList.remove('colab-df-spinner');\n",
              "      quickchartButtonEl.classList.add('colab-df-quickchart-complete');\n",
              "    }\n",
              "    (() => {\n",
              "      let quickchartButtonEl =\n",
              "        document.querySelector('#df-3b370ca3-8af9-4d55-a611-ab3852cb6ec8 button');\n",
              "      quickchartButtonEl.style.display =\n",
              "        google.colab.kernel.accessAllowed ? 'block' : 'none';\n",
              "    })();\n",
              "  </script>\n",
              "</div>\n",
              "\n",
              "    </div>\n",
              "  </div>\n"
            ],
            "application/vnd.google.colaboratory.intrinsic+json": {
              "type": "dataframe",
              "variable_name": "df",
              "summary": "{\n  \"name\": \"df\",\n  \"rows\": 80134,\n  \"fields\": [\n    {\n      \"column\": \"code\",\n      \"properties\": {\n        \"dtype\": \"string\",\n        \"num_unique_values\": 79841,\n        \"samples\": [\n          \"void JPXStream::init()\\n{\\n  Object oLen, cspace, smaskInData;\\n  if (getDict()) {\\n    oLen = getDict()->lookup(\\\"Length\\\");\\n    cspace = getDict()->lookup(\\\"ColorSpace\\\");\\n    smaskInData = getDict()->lookup(\\\"SMaskInData\\\");\\n  }\\n\\n  int bufSize = BUFFER_INITIAL_SIZE;\\n  if (oLen.isInt() && oLen.getInt() > 0) bufSize = oLen.getInt();\\n\\n  bool indexed = false;\\n  if (cspace.isArray() && cspace.arrayGetLength() > 0) {\\n    const Object cstype = cspace.arrayGet(0);\\n    if (cstype.isName(\\\"Indexed\\\")) indexed = true;\\n  }\\n\\n  priv->smaskInData = 0;\\n  if (smaskInData.isInt()) priv->smaskInData = smaskInData.getInt();\\n\\n  int length = 0;\\n  unsigned char *buf = str->toUnsignedChars(&length, bufSize);\\n  priv->init2(OPJ_CODEC_JP2, buf, length, indexed);\\n  gfree(buf);\\n\\n  if (priv->image) {\\n    int numComps = (priv->image) ? priv->image->numcomps : 1;\\n    int alpha = 0;\\n    if (priv->image) {\\n      if (priv->image->color_space == OPJ_CLRSPC_SRGB && numComps == 4) { numComps = 3; alpha = 1; }\\n      else if (priv->image->color_space == OPJ_CLRSPC_SYCC && numComps == 4) { numComps = 3; alpha = 1; }\\n      else if (numComps == 2) { numComps = 1; alpha = 1; }\\n      else if (numComps > 4) { numComps = 4; alpha = 1; }\\n      else { alpha = 0; }\\n    }\\n    priv->npixels = priv->image->comps[0].w * priv->image->comps[0].h;\\n    priv->ncomps = priv->image->numcomps;\\n    if (alpha == 1 && priv->smaskInData == 0) priv->ncomps--;\\n    for (int component = 0; component < priv->ncomps; component++) {\\n      if (priv->image->comps[component].data == nullptr) {\\n        close();\\n        break;\\n      }\\n      const int componentPixels = priv->image->comps[component].w * priv->image->comps[component].h;\\n      if (componentPixels != priv->npixels) {\\n        error(errSyntaxWarning, -1, \\\"Component {0:d} has different WxH than component 0\\\", component);\\n        close();\\n        break;\\n      }\\n      unsigned char *cdata = (unsigned char *)priv->image->comps[component].data;\\n      int adjust = 0;\\n      int depth = priv->image->comps[component].prec;\\n      if (priv->image->comps[component].prec > 8)\\n\\tadjust = priv->image->comps[component].prec - 8;\\n      int sgndcorr = 0;\\n      if (priv->image->comps[component].sgnd)\\n\\tsgndcorr = 1 << (priv->image->comps[0].prec - 1);\\n      for (int i = 0; i < priv->npixels; i++) {\\n\\tint r = priv->image->comps[component].data[i];\\n\\t*(cdata++) = adjustComp(r, adjust, depth, sgndcorr, indexed);\\n      }\\n    }\\n  } else {\\n    priv->npixels = 0;\\n  }\\n\\n  priv->counter = 0;\\n  priv->ccounter = 0;\\n  priv->inited = true;\\n}\",\n          \"static int php_session_decode(const char *val, int vallen TSRMLS_DC) /* {{{ */\\n{\\n\\tif (!PS(serializer)) {\\n\\t\\tphp_error_docref(NULL TSRMLS_CC, E_WARNING, \\\"Unknown session.serialize_handler. Failed to decode session object\\\");\\n\\t\\treturn FAILURE;\\n\\t}\\n\\tif (PS(serializer)->decode(val, vallen TSRMLS_CC) == FAILURE) {\\n\\t\\tphp_session_destroy(TSRMLS_C);\\n\\t\\tphp_error_docref(NULL TSRMLS_CC, E_WARNING, \\\"Failed to decode session object. Session has been destroyed\\\");\\n\\t\\treturn FAILURE;\\n\\t}\\n\\treturn SUCCESS;\\n}\",\n          \"static int i40e_channel_config_bw(struct i40e_vsi *vsi, struct i40e_channel *ch,\\n\\t\\t\\t\\t  u8 *bw_share)\\n{\\n\\tstruct i40e_aqc_configure_vsi_tc_bw_data bw_data;\\n\\ti40e_status ret;\\n\\tint i;\\n\\n\\tbw_data.tc_valid_bits = ch->enabled_tc;\\n\\tfor (i = 0; i < I40E_MAX_TRAFFIC_CLASS; i++)\\n\\t\\tbw_data.tc_bw_credits[i] = bw_share[i];\\n\\n\\tret = i40e_aq_config_vsi_tc_bw(&vsi->back->hw, ch->seid,\\n\\t\\t\\t\\t       &bw_data, NULL);\\n\\tif (ret) {\\n\\t\\tdev_info(&vsi->back->pdev->dev,\\n\\t\\t\\t \\\"Config VSI BW allocation per TC failed, aq_err: %d for new_vsi->seid %u\\\\n\\\",\\n\\t\\t\\t vsi->back->hw.aq.asq_last_status, ch->seid);\\n\\t\\treturn -EINVAL;\\n\\t}\\n\\n\\tfor (i = 0; i < I40E_MAX_TRAFFIC_CLASS; i++)\\n\\t\\tch->info.qs_handle[i] = bw_data.qs_handles[i];\\n\\n\\treturn 0;\\n}\"\n        ],\n        \"semantic_type\": \"\",\n        \"description\": \"\"\n      }\n    },\n    {\n      \"column\": \"CWE-Type\",\n      \"properties\": {\n        \"dtype\": \"category\",\n        \"num_unique_values\": 7,\n        \"samples\": [\n          \"CWE0\",\n          \"CWE400\",\n          \"CWE502\"\n        ],\n        \"semantic_type\": \"\",\n        \"description\": \"\"\n      }\n    },\n    {\n      \"column\": \"label\",\n      \"properties\": {\n        \"dtype\": \"number\",\n        \"std\": 1,\n        \"min\": 0,\n        \"max\": 6,\n        \"num_unique_values\": 7,\n        \"samples\": [\n          0,\n          1,\n          5\n        ],\n        \"semantic_type\": \"\",\n        \"description\": \"\"\n      }\n    }\n  ]\n}"
            }
          },
          "metadata": {},
          "execution_count": 16
        }
      ],
      "source": [
        "df['label']=df['CWE-Type'].map(label2id)\n",
        "df.head()"
      ]
    },
    {
      "cell_type": "code",
      "execution_count": 17,
      "metadata": {
        "id": "Deb4_Dyvo2C6"
      },
      "outputs": [],
      "source": [
        "# Splitting the dataset into training(80%) and test (20%) sets\n",
        "df_train, df_test = train_test_split(df, test_size=0.2, random_state=42)"
      ]
    },
    {
      "cell_type": "code",
      "execution_count": 18,
      "metadata": {
        "id": "PiHtFF6To3pZ"
      },
      "outputs": [],
      "source": [
        "dataset = {} # Creating an empty dictionary\n",
        "dataset['text'] = list(df_train['code']) # adding key-value pair to dataset dictionary, 'text' = key and 'code' = value (in the form of a list). Serves as the feature.\n",
        "dataset['label'] = list(df_train['label']) # same, but adding the key-value pair to act as the label (prediction) for the model.\n",
        "# The code below converts dictionary we just created into a Hugging Face dataset object. It provides many convenient NLP features, such as tokenization.\n",
        "ds = Dataset.from_dict(dataset) # Creation of hugging face dataset object.\n",
        "ds = ds.train_test_split(test_size=0.1) # train/validation split (10% validation)"
      ]
    },
    {
      "cell_type": "markdown",
      "metadata": {
        "id": "5zPds00Ao-_t"
      },
      "source": [
        "The code cell above performs the **second (2ND)** data split.\n",
        "\n",
        "### 1st Split:\n",
        "* Creating the initial training and test datasets.\n",
        "* test dataset is entirely separated from the training process\n",
        "### 2nd Split:\n",
        "* Splits the training data set into training and validation\n",
        "* The validation set is used for hyperparameter tuning and intermediate evaluations during the training phase. Happens before testing"
      ]
    },
    {
      "cell_type": "code",
      "execution_count": 19,
      "metadata": {
        "colab": {
          "base_uri": "https://localhost:8080/",
          "height": 368,
          "referenced_widgets": [
            "47eb19df938146c3931e4e3dfd37e019",
            "4ded03575578431190a0b389b770dab2",
            "4b1b5b2b5fda42489e66a48384515cfb",
            "f03eb7ec74ec4ecf859ad3cd48fc7356",
            "64997c21c0de4b638f5a8320f5baa9c8",
            "b3c7fa241e4e4156b51b5a67ac8a9f1a",
            "1ca9b8b3f06f4c1b84148d399c530e9d",
            "65b384ce7cfb455581789f47e57e95e3",
            "cf63f6ebc5f343009a4131fdf3145a90",
            "27d340e4e23344c4a5e34895f750d059",
            "ef6f0dbdddd0441cb4658b2b4a710817",
            "e9e8582a9104436287acc1ecd8fe0d98",
            "da3d494af6154bf4a26a08b8f7cc79bf",
            "4a25bcb03e514261be8b615508e72fe5",
            "3b1df072d6604ac7bda2c30a731c6a13",
            "a00a6aaee4a64af4a571543b39996be9",
            "53c561acde874317a17618d5ab04f06c",
            "521fd8780a614a139b9b400eac451ea1",
            "7b722e7da52249498057b91fe085f5b1",
            "21e0aa37030649d8b7abd5f1a4d8a827",
            "c013f7a16e67459f8a495d204e8d93f7",
            "737775b59e2b4090bf2441234422b342",
            "66c1c624f4b4434f897451e2be9f82c0",
            "dacbebba2ed945c2abcfc487bf84cf67",
            "c72901d4096c432bb4507df052b6effa",
            "0ac7c5ef517144b78c11d94b9c81df78",
            "ab0d09b0a46a4ea6b91c2f526e4b5283",
            "1b4a8f2e746d48c0a1c8e72506f5a7bf",
            "9b19122b022345799bd8dd520de702b7",
            "90eb672d6131425a9e1403be3738fe30",
            "7c3e937919014d49a5193d9d0f703693",
            "54ed581a7be84514a908503544b412c4",
            "bd616e4f656748d39d4cdf6e6f80ca20",
            "05a15b594f6848f0a250ce2bb0b128aa",
            "e3160e218ad14e7eb3df9a7b0df3f12c",
            "45094c9fae5b4b62a6701461b02639d0",
            "b8d494c3894d4cc9a0a36551b878a5d0",
            "22797ff193464454a7a81187f72e8030",
            "7bd2c56fca494a4e853b77f3b770b828",
            "be950724eaa7408c9ab9149bc48b2f1a",
            "18a30a2cb42f49bf90a77da6c25788d8",
            "862bd286d5084c5d9f5467444ec52eb0",
            "0ea362aa92de43cc90830f9126f487c8",
            "b1c73a91607c4b53bd238296bea20406",
            "03443f4e75ca43fb84aed9dfa7e407d1",
            "de8739ce96fd4a9e8fe090fc32eafe64",
            "c2bada6cd9284eccbb9a2b89755dee4e",
            "2e1d66abd8f74faa9b9ec2f3bb6865a7",
            "17369d8bbea4443e9c51fdd319fe53b0",
            "7717e8bc351f416ebc54ad13749fc776",
            "29f4ee65c547461da283c5657e423667",
            "4d5cf435db5446958108ae994bbff1eb",
            "3ea31c5dedc743ce82472532fb686bb7",
            "b5ea8d4023a8434d8cb4481475cb623a",
            "f0960103a74841eab61957217b30594d",
            "29d46bf187274794aaf71c017b9dabe8",
            "e6471ae0e12340f990515465468ef89e",
            "e84e5538caba4142806fd541ebd6d1cf",
            "34b9b64cd5ea4b9397c02e94024a3f37",
            "71c133cfd8f14d11a70f133a933b37e6",
            "6a6c2dee363c440492f8b48236021fe8",
            "dfa36771281245ab99329c7b4909f356",
            "c0542d017334498f9b0d34487f605320",
            "515b7ad48d3b45faaec8acc95a01f547",
            "60f738e0c8764f189c7a9dfc91b80417",
            "507c35c1c5b84e9d8f1648de48734eb4"
          ]
        },
        "id": "rsFXXSaeo8jR",
        "outputId": "94e9854d-5494-448f-f074-7036ad5510c7"
      },
      "outputs": [
        {
          "output_type": "stream",
          "name": "stderr",
          "text": [
            "/usr/local/lib/python3.11/dist-packages/huggingface_hub/utils/_auth.py:94: UserWarning: \n",
            "The secret `HF_TOKEN` does not exist in your Colab secrets.\n",
            "To authenticate with the Hugging Face Hub, create a token in your settings tab (https://huggingface.co/settings/tokens), set it as secret in your Google Colab and restart your session.\n",
            "You will be able to reuse this secret in all of your notebooks.\n",
            "Please note that authentication is recommended but still optional to access public models or datasets.\n",
            "  warnings.warn(\n"
          ]
        },
        {
          "output_type": "display_data",
          "data": {
            "text/plain": [
              "tokenizer_config.json:   0%|          | 0.00/25.0 [00:00<?, ?B/s]"
            ],
            "application/vnd.jupyter.widget-view+json": {
              "version_major": 2,
              "version_minor": 0,
              "model_id": "47eb19df938146c3931e4e3dfd37e019"
            }
          },
          "metadata": {}
        },
        {
          "output_type": "display_data",
          "data": {
            "text/plain": [
              "config.json:   0%|          | 0.00/539 [00:00<?, ?B/s]"
            ],
            "application/vnd.jupyter.widget-view+json": {
              "version_major": 2,
              "version_minor": 0,
              "model_id": "e9e8582a9104436287acc1ecd8fe0d98"
            }
          },
          "metadata": {}
        },
        {
          "output_type": "display_data",
          "data": {
            "text/plain": [
              "vocab.json:   0%|          | 0.00/899k [00:00<?, ?B/s]"
            ],
            "application/vnd.jupyter.widget-view+json": {
              "version_major": 2,
              "version_minor": 0,
              "model_id": "66c1c624f4b4434f897451e2be9f82c0"
            }
          },
          "metadata": {}
        },
        {
          "output_type": "display_data",
          "data": {
            "text/plain": [
              "merges.txt:   0%|          | 0.00/456k [00:00<?, ?B/s]"
            ],
            "application/vnd.jupyter.widget-view+json": {
              "version_major": 2,
              "version_minor": 0,
              "model_id": "05a15b594f6848f0a250ce2bb0b128aa"
            }
          },
          "metadata": {}
        },
        {
          "output_type": "display_data",
          "data": {
            "text/plain": [
              "special_tokens_map.json:   0%|          | 0.00/772 [00:00<?, ?B/s]"
            ],
            "application/vnd.jupyter.widget-view+json": {
              "version_major": 2,
              "version_minor": 0,
              "model_id": "03443f4e75ca43fb84aed9dfa7e407d1"
            }
          },
          "metadata": {}
        },
        {
          "output_type": "display_data",
          "data": {
            "text/plain": [
              "pytorch_model.bin:   0%|          | 0.00/499M [00:00<?, ?B/s]"
            ],
            "application/vnd.jupyter.widget-view+json": {
              "version_major": 2,
              "version_minor": 0,
              "model_id": "29d46bf187274794aaf71c017b9dabe8"
            }
          },
          "metadata": {}
        },
        {
          "output_type": "stream",
          "name": "stderr",
          "text": [
            "Some weights of RobertaForSequenceClassification were not initialized from the model checkpoint at microsoft/graphcodebert-base and are newly initialized: ['classifier.dense.bias', 'classifier.dense.weight', 'classifier.out_proj.bias', 'classifier.out_proj.weight']\n",
            "You should probably TRAIN this model on a down-stream task to be able to use it for predictions and inference.\n"
          ]
        }
      ],
      "source": [
        "from transformers import AutoTokenizer, AutoModelForSequenceClassification\n",
        "\n",
        "tokenizer = AutoTokenizer.from_pretrained(\"microsoft/graphcodebert-base\") # Loading the tokenizer\n",
        "model = AutoModelForSequenceClassification.from_pretrained(\"microsoft/graphcodebert-base\", num_labels=7,id2label=id2label, label2id=label2id)  # Adjust num_labels according to your classification needs\n",
        "# Above, a model is loaded for sequence classification, with 12 possible output labels, defined by num_labels=7. Corresponding to 12 types of CWEs"
      ]
    },
    {
      "cell_type": "code",
      "execution_count": 20,
      "metadata": {
        "id": "iMB4AxjopCAo",
        "colab": {
          "base_uri": "https://localhost:8080/",
          "height": 81,
          "referenced_widgets": [
            "631e35a4bfff4c1487cc1a4f3983bcc4",
            "eb59f15d2b5b434481c8d439231346ea",
            "e51d6bcade744f3abb6b25d0145bf208",
            "05ff782cd4584ac598991eddfa141f7e",
            "bd78702c03634c5d97522511d3fd89db",
            "409b854b5fb34991a6e4746a3df8b07f",
            "94497cb81b614ddc9113b02ba7b2f99e",
            "58d7183eb69d45fdba0f61ce3cd50376",
            "b7615135fea4443c83aae34cc778c13d",
            "372d9036ea2a477c81265111d70927c0",
            "9c8e3b90fdac4528b7ef02cbccc36f1e",
            "8bd01bd999ba452d829ee54be5392d70",
            "d9cbdbad9ba84997b3c4c809a6b24859",
            "5ea4ee88fc134a63a19a97bc6a6d5271",
            "098dc1172ade41bf97e9ef7eb54875d0",
            "b2da362ae60c495e9921f033c52968f9",
            "11fe6259130a4806868faa7604277a3c",
            "19dc9dad20994a52b4dc2904ba654843",
            "d005ffdf367447f99c973a9afd593232",
            "ffc49c0d3ad64d949388bfa9fb496e96",
            "5a255a4aebe843cebe6429acbe0b3989",
            "bb1fe391886f4f239a13496afa4eff1f"
          ]
        },
        "outputId": "6fd9bff1-e7de-4185-cf07-d7a3ec9261f4"
      },
      "outputs": [
        {
          "output_type": "display_data",
          "data": {
            "text/plain": [
              "model.safetensors:   0%|          | 0.00/499M [00:00<?, ?B/s]"
            ],
            "application/vnd.jupyter.widget-view+json": {
              "version_major": 2,
              "version_minor": 0,
              "model_id": "631e35a4bfff4c1487cc1a4f3983bcc4"
            }
          },
          "metadata": {}
        },
        {
          "output_type": "display_data",
          "data": {
            "text/plain": [
              "Downloading builder script:   0%|          | 0.00/4.20k [00:00<?, ?B/s]"
            ],
            "application/vnd.jupyter.widget-view+json": {
              "version_major": 2,
              "version_minor": 0,
              "model_id": "8bd01bd999ba452d829ee54be5392d70"
            }
          },
          "metadata": {}
        }
      ],
      "source": [
        "from sklearn.metrics import accuracy_score, precision_recall_fscore_support, confusion_matrix # model performance evaluation metrics\n",
        "data_collator = DataCollatorWithPadding(tokenizer=tokenizer)\n",
        "accuracy = evaluate.load(\"accuracy\")\n",
        "\n",
        "def compute_metrics(eval_pred):\n",
        "    predictions, labels = eval_pred\n",
        "    predictions = np.argmax(predictions, axis=1)\n",
        "    return accuracy.compute(predictions=predictions, references=labels)\n",
        "\n",
        "# A function that calculates accuracy during model evaluation by comparing the predicted labels (after applying argmax) to the true labels."
      ]
    },
    {
      "cell_type": "code",
      "execution_count": 21,
      "metadata": {
        "colab": {
          "base_uri": "https://localhost:8080/",
          "height": 81,
          "referenced_widgets": [
            "18f3e140185b4aa7af8312d4a5a3dd99",
            "43dc3cba4bba49d084375395c921a642",
            "e490ae1afccf4978b77369ea680d4e3f",
            "e2c43f14077f463abc82c78e02d6ab23",
            "6d33ead0c5f54d8c9dc93cfad78df2a0",
            "99d81ddf9e854bb4b534d727fc381f70",
            "ae753d4546d54c56b81b3066a6c31bd3",
            "18ec049a0ed34a7a949f19baffe53712",
            "f2c356c3f882410aabbd9ce0f0709778",
            "2c1a2eb8d3f1445b9996ed26f221bc2f",
            "ad51363a88f94a70b6810165d0ee2aa5",
            "89aaf956f3d14682be0dfc7f4a0f6b59",
            "ad377f4f320d49e9882539b144d15176",
            "db39ce4c184c45c9a1b5106bd5ab8d7f",
            "ad21a76d6c9442b8b73726c9362bba53",
            "6f46f9231106448d9bc36724ae9688f5",
            "4336d08b2fe341f4b0ba6fa2653713f9",
            "9d343476765c4f4aa185dd47e6ac62aa",
            "2c652fd3e2064d62948d0f078378ebfa",
            "1a532d6a7cd94067bb535171d88100a3",
            "232f5f63c2f04b04bef992fb979763af",
            "203e3ed57d734510991f71a32d707762"
          ]
        },
        "id": "HIdVm0Bxs8T8",
        "outputId": "8531bf59-2c34-4197-c87a-742ec3e28440"
      },
      "outputs": [
        {
          "output_type": "display_data",
          "data": {
            "text/plain": [
              "Map:   0%|          | 0/57696 [00:00<?, ? examples/s]"
            ],
            "application/vnd.jupyter.widget-view+json": {
              "version_major": 2,
              "version_minor": 0,
              "model_id": "18f3e140185b4aa7af8312d4a5a3dd99"
            }
          },
          "metadata": {}
        },
        {
          "output_type": "display_data",
          "data": {
            "text/plain": [
              "Map:   0%|          | 0/6411 [00:00<?, ? examples/s]"
            ],
            "application/vnd.jupyter.widget-view+json": {
              "version_major": 2,
              "version_minor": 0,
              "model_id": "89aaf956f3d14682be0dfc7f4a0f6b59"
            }
          },
          "metadata": {}
        }
      ],
      "source": [
        "def preprocess_function(examples):\n",
        "    return tokenizer(examples[\"text\"], truncation=True)\n",
        "\n",
        "tokenized_dataset = ds.map(preprocess_function, batched=True)\n",
        "# Tokenizing the dataset"
      ]
    },
    {
      "cell_type": "code",
      "execution_count": 22,
      "metadata": {
        "colab": {
          "base_uri": "https://localhost:8080/",
          "height": 571
        },
        "id": "kE5hnHA7tmSd",
        "outputId": "9f5a728b-042f-40c6-d51b-e836e76eb7d6"
      },
      "outputs": [
        {
          "output_type": "stream",
          "name": "stderr",
          "text": [
            "/usr/local/lib/python3.11/dist-packages/transformers/training_args.py:1575: FutureWarning: `evaluation_strategy` is deprecated and will be removed in version 4.46 of 🤗 Transformers. Use `eval_strategy` instead\n",
            "  warnings.warn(\n",
            "<ipython-input-22-fc5d8a333b73>:37: FutureWarning: `tokenizer` is deprecated and will be removed in version 5.0.0 for `Trainer.__init__`. Use `processing_class` instead.\n",
            "  trainer = Trainer(\n",
            "\u001b[34m\u001b[1mwandb\u001b[0m: \u001b[33mWARNING\u001b[0m The `run_name` is currently set to the same value as `TrainingArguments.output_dir`. If this was not intended, please specify a different run name by setting the `TrainingArguments.run_name` parameter.\n",
            "\u001b[34m\u001b[1mwandb\u001b[0m: Using wandb-core as the SDK backend.  Please refer to https://wandb.me/wandb-core for more information.\n"
          ]
        },
        {
          "output_type": "display_data",
          "data": {
            "text/plain": [
              "<IPython.core.display.Javascript object>"
            ],
            "application/javascript": [
              "\n",
              "        window._wandbApiKey = new Promise((resolve, reject) => {\n",
              "            function loadScript(url) {\n",
              "            return new Promise(function(resolve, reject) {\n",
              "                let newScript = document.createElement(\"script\");\n",
              "                newScript.onerror = reject;\n",
              "                newScript.onload = resolve;\n",
              "                document.body.appendChild(newScript);\n",
              "                newScript.src = url;\n",
              "            });\n",
              "            }\n",
              "            loadScript(\"https://cdn.jsdelivr.net/npm/postmate/build/postmate.min.js\").then(() => {\n",
              "            const iframe = document.createElement('iframe')\n",
              "            iframe.style.cssText = \"width:0;height:0;border:none\"\n",
              "            document.body.appendChild(iframe)\n",
              "            const handshake = new Postmate({\n",
              "                container: iframe,\n",
              "                url: 'https://wandb.ai/authorize'\n",
              "            });\n",
              "            const timeout = setTimeout(() => reject(\"Couldn't auto authenticate\"), 5000)\n",
              "            handshake.then(function(child) {\n",
              "                child.on('authorize', data => {\n",
              "                    clearTimeout(timeout)\n",
              "                    resolve(data)\n",
              "                });\n",
              "            });\n",
              "            })\n",
              "        });\n",
              "    "
            ]
          },
          "metadata": {}
        },
        {
          "output_type": "stream",
          "name": "stderr",
          "text": [
            "\u001b[34m\u001b[1mwandb\u001b[0m: Logging into wandb.ai. (Learn how to deploy a W&B server locally: https://wandb.me/wandb-server)\n",
            "\u001b[34m\u001b[1mwandb\u001b[0m: You can find your API key in your browser here: https://wandb.ai/authorize\n",
            "wandb: Paste an API key from your profile and hit enter:"
          ]
        },
        {
          "name": "stdout",
          "output_type": "stream",
          "text": [
            " ··········\n"
          ]
        },
        {
          "output_type": "stream",
          "name": "stderr",
          "text": [
            "\u001b[34m\u001b[1mwandb\u001b[0m: \u001b[33mWARNING\u001b[0m If you're specifying your api key in code, ensure this code is not shared publicly.\n",
            "\u001b[34m\u001b[1mwandb\u001b[0m: \u001b[33mWARNING\u001b[0m Consider setting the WANDB_API_KEY environment variable, or running `wandb login` from the command line.\n",
            "\u001b[34m\u001b[1mwandb\u001b[0m: No netrc file found, creating one.\n",
            "\u001b[34m\u001b[1mwandb\u001b[0m: Appending key for api.wandb.ai to your netrc file: /root/.netrc\n",
            "\u001b[34m\u001b[1mwandb\u001b[0m: Currently logged in as: \u001b[33malenabd24\u001b[0m (\u001b[33malenabd24-queen-mary-university-of-london\u001b[0m) to \u001b[32mhttps://api.wandb.ai\u001b[0m. Use \u001b[1m`wandb login --relogin`\u001b[0m to force relogin\n"
          ]
        },
        {
          "output_type": "display_data",
          "data": {
            "text/plain": [
              "<IPython.core.display.HTML object>"
            ],
            "text/html": [
              "Tracking run with wandb version 0.19.8"
            ]
          },
          "metadata": {}
        },
        {
          "output_type": "display_data",
          "data": {
            "text/plain": [
              "<IPython.core.display.HTML object>"
            ],
            "text/html": [
              "Run data is saved locally in <code>/content/wandb/run-20250317_173255-jpkk9org</code>"
            ]
          },
          "metadata": {}
        },
        {
          "output_type": "display_data",
          "data": {
            "text/plain": [
              "<IPython.core.display.HTML object>"
            ],
            "text/html": [
              "Syncing run <strong><a href='https://wandb.ai/alenabd24-queen-mary-university-of-london/huggingface/runs/jpkk9org' target=\"_blank\">/content/drive/MyDrive/Colab Notebooks/THESIS_PROJECT/MODEL_WEIGHTS/NEW_MODEL_WEIGHTS/graphcodebert_bo</a></strong> to <a href='https://wandb.ai/alenabd24-queen-mary-university-of-london/huggingface' target=\"_blank\">Weights & Biases</a> (<a href='https://wandb.me/developer-guide' target=\"_blank\">docs</a>)<br>"
            ]
          },
          "metadata": {}
        },
        {
          "output_type": "display_data",
          "data": {
            "text/plain": [
              "<IPython.core.display.HTML object>"
            ],
            "text/html": [
              " View project at <a href='https://wandb.ai/alenabd24-queen-mary-university-of-london/huggingface' target=\"_blank\">https://wandb.ai/alenabd24-queen-mary-university-of-london/huggingface</a>"
            ]
          },
          "metadata": {}
        },
        {
          "output_type": "display_data",
          "data": {
            "text/plain": [
              "<IPython.core.display.HTML object>"
            ],
            "text/html": [
              " View run at <a href='https://wandb.ai/alenabd24-queen-mary-university-of-london/huggingface/runs/jpkk9org' target=\"_blank\">https://wandb.ai/alenabd24-queen-mary-university-of-london/huggingface/runs/jpkk9org</a>"
            ]
          },
          "metadata": {}
        },
        {
          "output_type": "display_data",
          "data": {
            "text/plain": [
              "<IPython.core.display.HTML object>"
            ],
            "text/html": [
              "\n",
              "    <div>\n",
              "      \n",
              "      <progress value='5409' max='5409' style='width:300px; height:20px; vertical-align: middle;'></progress>\n",
              "      [5409/5409 1:11:50, Epoch 3/3]\n",
              "    </div>\n",
              "    <table border=\"1\" class=\"dataframe\">\n",
              "  <thead>\n",
              " <tr style=\"text-align: left;\">\n",
              "      <th>Epoch</th>\n",
              "      <th>Training Loss</th>\n",
              "      <th>Validation Loss</th>\n",
              "      <th>Accuracy</th>\n",
              "    </tr>\n",
              "  </thead>\n",
              "  <tbody>\n",
              "    <tr>\n",
              "      <td>1</td>\n",
              "      <td>0.362300</td>\n",
              "      <td>0.266212</td>\n",
              "      <td>0.908283</td>\n",
              "    </tr>\n",
              "    <tr>\n",
              "      <td>2</td>\n",
              "      <td>0.189000</td>\n",
              "      <td>0.222698</td>\n",
              "      <td>0.923881</td>\n",
              "    </tr>\n",
              "    <tr>\n",
              "      <td>3</td>\n",
              "      <td>0.114200</td>\n",
              "      <td>0.212522</td>\n",
              "      <td>0.935268</td>\n",
              "    </tr>\n",
              "  </tbody>\n",
              "</table><p>"
            ]
          },
          "metadata": {}
        },
        {
          "output_type": "execute_result",
          "data": {
            "text/plain": [
              "TrainOutput(global_step=5409, training_loss=0.276403069914897, metrics={'train_runtime': 4344.26, 'train_samples_per_second': 39.843, 'train_steps_per_second': 1.245, 'total_flos': 4.55428352566416e+16, 'train_loss': 0.276403069914897, 'epoch': 3.0})"
            ]
          },
          "metadata": {},
          "execution_count": 22
        }
      ],
      "source": [
        "from transformers import Trainer, TrainingArguments\n",
        "\n",
        "'''\n",
        "training_args = TrainingArguments(\n",
        "    output_dir=\"./results\",\n",
        "    evaluation_strategy=\"epoch\",\n",
        "    learning_rate=2e-5,\n",
        "    per_device_train_batch_size=16,\n",
        "    per_device_eval_batch_size=16,\n",
        "    num_train_epochs=3,\n",
        "    weight_decay=0.01,\n",
        ")\n",
        "\n",
        "trainer = Trainer(\n",
        "    model=model,\n",
        "    args=training_args,\n",
        "    train_dataset=tokenized_datasets[\"train\"],\n",
        "    eval_dataset=tokenized_datasets[\"test\"],\n",
        ")\n",
        "\n",
        "'''\n",
        "training_args = TrainingArguments(\n",
        "    output_dir=\"/content/drive/MyDrive/Colab Notebooks/THESIS_PROJECT/MODEL_WEIGHTS/NEW_MODEL_WEIGHTS/graphcodebert_bo\",\n",
        "    learning_rate=4e-5,\n",
        "    per_device_train_batch_size=32,\n",
        "    per_device_eval_batch_size=32,\n",
        "    num_train_epochs=3,\n",
        "    weight_decay=0.01,\n",
        "    evaluation_strategy=\"epoch\",\n",
        "    save_strategy=\"epoch\",\n",
        "    load_best_model_at_end=True,\n",
        "    report_to=\"wandb\",\n",
        "    fp16 = True,\n",
        "    warmup_steps = 0\n",
        ")\n",
        "\n",
        "trainer = Trainer(\n",
        "    model=model,\n",
        "    args=training_args,\n",
        "    train_dataset=tokenized_dataset[\"train\"],\n",
        "    eval_dataset=tokenized_dataset[\"test\"],\n",
        "    tokenizer=tokenizer,\n",
        "    data_collator=data_collator,\n",
        "    compute_metrics=compute_metrics,\n",
        ")\n",
        "\n",
        "trainer.train()\n"
      ]
    },
    {
      "cell_type": "markdown",
      "metadata": {
        "id": "MhbpiLxcuEte"
      },
      "source": [
        "* The idea is to fine-tune the model first, so that it selects appropriate weights for the classification task.\n",
        "* After training, the model's accuracy should be evaluated without bit flips\n",
        "* Following that, I'll inject bit flips and compare accuracy to before vs after fault injection"
      ]
    },
    {
      "cell_type": "code",
      "execution_count": 23,
      "metadata": {
        "colab": {
          "base_uri": "https://localhost:8080/",
          "height": 141
        },
        "id": "syiAPXjslyqo",
        "outputId": "f6b5a3ba-0dc7-49f2-a9f7-65e8dbbf2e9d"
      },
      "outputs": [
        {
          "output_type": "display_data",
          "data": {
            "text/plain": [
              "<IPython.core.display.HTML object>"
            ],
            "text/html": [
              "\n",
              "    <div>\n",
              "      \n",
              "      <progress value='201' max='201' style='width:300px; height:20px; vertical-align: middle;'></progress>\n",
              "      [201/201 00:44]\n",
              "    </div>\n",
              "    "
            ]
          },
          "metadata": {}
        },
        {
          "output_type": "execute_result",
          "data": {
            "text/plain": [
              "{'eval_loss': 0.2125215381383896,\n",
              " 'eval_accuracy': 0.9352675089689596,\n",
              " 'eval_runtime': 44.6608,\n",
              " 'eval_samples_per_second': 143.549,\n",
              " 'eval_steps_per_second': 4.501,\n",
              " 'epoch': 3.0}"
            ]
          },
          "metadata": {},
          "execution_count": 23
        }
      ],
      "source": [
        "trainer.evaluate()"
      ]
    },
    {
      "cell_type": "code",
      "execution_count": 24,
      "metadata": {
        "id": "vf_36RDVmbGS"
      },
      "outputs": [],
      "source": [
        "device = 'cuda' if torch.cuda.is_available() else 'cpu'\n",
        "\n",
        "preds = []\n",
        "for i in df_test['code'].values:\n",
        "    with torch.no_grad():\n",
        "        inputs = tokenizer(i, return_tensors=\"pt\",  truncation=True).to(device)\n",
        "        logits = model(**inputs).logits\n",
        "        predicted_class_id = logits.argmax().item()\n",
        "        preds.append(predicted_class_id)"
      ]
    },
    {
      "cell_type": "code",
      "execution_count": 25,
      "metadata": {
        "id": "yYkj_0xRmddj"
      },
      "outputs": [],
      "source": [
        "y_true = [id2label[i] for i in df_test['label'].values]\n",
        "y_pred = [id2label[i] for i in preds]"
      ]
    },
    {
      "cell_type": "code",
      "execution_count": 26,
      "metadata": {
        "id": "0bkNARNfme3b",
        "colab": {
          "base_uri": "https://localhost:8080/"
        },
        "outputId": "1b95a5ef-0b0a-4214-c3ea-61e12bdb6123"
      },
      "outputs": [
        {
          "output_type": "stream",
          "name": "stdout",
          "text": [
            "              precision    recall  f1-score   support\n",
            "\n",
            "        CWE0       0.95      0.97      0.96      9785\n",
            "      CWE120       0.94      0.90      0.92      1093\n",
            "      CWE122       0.88      0.91      0.90       286\n",
            "      CWE190       0.91      0.88      0.90      2228\n",
            "      CWE369       0.83      0.87      0.85       705\n",
            "      CWE400       0.91      0.89      0.90      1906\n",
            "      CWE502       1.00      0.67      0.80        24\n",
            "\n",
            "    accuracy                           0.93     16027\n",
            "   macro avg       0.92      0.87      0.89     16027\n",
            "weighted avg       0.93      0.93      0.93     16027\n",
            "\n"
          ]
        }
      ],
      "source": [
        "from sklearn.metrics import classification_report\n",
        "print(classification_report(y_true, y_pred))"
      ]
    },
    {
      "cell_type": "markdown",
      "metadata": {
        "id": "foYA6XNH_sNW"
      },
      "source": [
        "### inspect model structure"
      ]
    },
    {
      "cell_type": "code",
      "execution_count": null,
      "metadata": {
        "id": "rlp9EVuI_yYV"
      },
      "outputs": [],
      "source": [
        "for name, param in model.named_parameters():\n",
        "    print(name)\n"
      ]
    },
    {
      "cell_type": "markdown",
      "metadata": {
        "id": "mIq395KT_119"
      },
      "source": [
        "### Accessing the final classification layer - out_proj_weights\n",
        "\n",
        "\n",
        "\n"
      ]
    },
    {
      "cell_type": "code",
      "execution_count": null,
      "metadata": {
        "id": "FezwlmV-_5WF"
      },
      "outputs": [],
      "source": [
        "# Access the first linear layer in the classifier (dense layer)\n",
        "#dense_layer = model.classifier.dense\n",
        "#dense_weights = dense_layer.weight.data\n",
        "\n",
        "# Access the final projection layer (out_proj)\n",
        "#out_proj_layer = model.classifier.out_proj\n",
        "#out_proj_weights = out_proj_layer.weight.data\n"
      ]
    },
    {
      "cell_type": "code",
      "execution_count": null,
      "metadata": {
        "id": "4wri_FhHJ6gL"
      },
      "outputs": [],
      "source": [
        "target_layer = \"classifier.out_proj.weight\""
      ]
    },
    {
      "cell_type": "code",
      "execution_count": null,
      "metadata": {
        "id": "_56-B3DPKlx8",
        "colab": {
          "base_uri": "https://localhost:8080/"
        },
        "outputId": "f7864bd2-d7c6-4607-f910-53cb12f29f42"
      },
      "outputs": [
        {
          "output_type": "stream",
          "name": "stdout",
          "text": [
            "Weights shape: (7, 768)\n",
            "First 5 binary representations:\n",
            "['00111001110111110001010001001100' '00111100111110000010111110011110'\n",
            " '10111101001110000110011011010001' '10111011010010110111001100110110'\n",
            " '00111011101000101110110110001110']\n"
          ]
        }
      ],
      "source": [
        "import numpy as np\n",
        "import torch\n",
        "\n",
        "# access out_proj layer weights\n",
        "out_proj_layer = model.classifier.out_proj\n",
        "out_proj_weights = out_proj_layer.weight.data  #  torch.Tensor\n",
        "\n",
        "weights_fp32 = out_proj_weights.float() #coonversion to float32\n",
        "\n",
        "weights_np = weights_fp32.cpu().detach().numpy() #convert to numpy\n",
        "\n",
        "weights_uint = weights_np.view(np.uint32) # bit-level representation for each flaot 32 value\n",
        "\n",
        "binary_repr = np.vectorize(lambda x: format(x, '032b'))(weights_uint)\n",
        "\n",
        "print(\"Weights shape:\", weights_np.shape)\n",
        "print(\"First 5 binary representations:\")\n",
        "print(binary_repr.flatten()[:5])\n"
      ]
    },
    {
      "cell_type": "markdown",
      "source": [
        "### The key idea is to iteratively flip an increasing number of bits in the final classification layer to see the effect on classification performance.\n",
        "\n",
        "* First iteration will flip 20 bits at random positions, using XOR operation"
      ],
      "metadata": {
        "id": "e2cPRSm8AkHA"
      }
    },
    {
      "cell_type": "code",
      "execution_count": null,
      "metadata": {
        "id": "c6MaPlcBM0l4",
        "colab": {
          "base_uri": "https://localhost:8080/"
        },
        "outputId": "611f091e-18c6-478b-f91c-6627b798be38"
      },
      "outputs": [
        {
          "output_type": "stream",
          "name": "stdout",
          "text": [
            "Flipping bit 17 at position (row=0, col=759)\n",
            "Flipping bit 8 at position (row=1, col=228)\n",
            "Flipping bit 5 at position (row=5, col=104)\n",
            "Flipping bit 2 at position (row=4, col=432)\n",
            "Flipping bit 13 at position (row=0, col=95)\n",
            "Flipping bit 1 at position (row=1, col=517)\n",
            "Flipping bit 26 at position (row=4, col=203)\n",
            "Flipping bit 17 at position (row=1, col=459)\n",
            "Flipping bit 10 at position (row=6, col=6)\n",
            "Flipping bit 21 at position (row=5, col=432)\n",
            "Flipping bit 13 at position (row=2, col=159)\n",
            "Flipping bit 6 at position (row=6, col=344)\n",
            "Flipping bit 6 at position (row=0, col=389)\n",
            "Flipping bit 16 at position (row=2, col=352)\n",
            "Flipping bit 29 at position (row=6, col=44)\n",
            "Flipping bit 24 at position (row=4, col=127)\n",
            "Flipping bit 18 at position (row=0, col=565)\n",
            "Flipping bit 23 at position (row=6, col=643)\n",
            "Flipping bit 4 at position (row=4, col=196)\n",
            "Flipping bit 14 at position (row=0, col=677)\n",
            "20 bit flips performed and model weights updated.\n"
          ]
        }
      ],
      "source": [
        "import random\n",
        "\n",
        "num_flips = 20\n",
        "num_rows, num_cols = weights_uint.shape\n",
        "\n",
        "for i in range(num_flips):\n",
        "    row = random.randint(0, num_rows - 1)\n",
        "    col = random.randint(0, num_cols - 1)\n",
        "    bit_position = random.randint(0, 31)\n",
        "    print(f\"Flipping bit {bit_position} at position (row={row}, col={col})\")\n",
        "\n",
        "    # Create a mask for the chosen bit and flip it using XOR\n",
        "    mask = 1 << bit_position\n",
        "    weights_uint[row, col] ^= mask\n",
        "\n",
        "# Convert the modified binary representation back to float32\n",
        "modified_weights_np = weights_uint.view(np.float32)\n",
        "\n",
        "# Update the model's out_proj layer weights with the modified weights\n",
        "out_proj_layer.weight.data.copy_(torch.tensor(modified_weights_np, dtype=weights_fp32.dtype))\n",
        "\n",
        "print(\"20 bit flips performed and model weights updated.\")\n"
      ]
    },
    {
      "cell_type": "code",
      "execution_count": null,
      "metadata": {
        "id": "T5mFaVkKNoLP"
      },
      "outputs": [],
      "source": [
        "device = 'cuda' if torch.cuda.is_available() else 'cpu'\n",
        "\n",
        "preds = []\n",
        "for i in df_test['code'].values:\n",
        "    with torch.no_grad():\n",
        "        inputs = tokenizer(i, return_tensors=\"pt\",  truncation=True).to(device)\n",
        "        logits = model(**inputs).logits\n",
        "        predicted_class_id = logits.argmax().item()\n",
        "        preds.append(predicted_class_id)"
      ]
    },
    {
      "cell_type": "code",
      "execution_count": null,
      "metadata": {
        "id": "Y7KrzA8tNqYf"
      },
      "outputs": [],
      "source": [
        "y_true = [id2label[i] for i in df_test['label'].values]\n",
        "y_pred = [id2label[i] for i in preds]"
      ]
    },
    {
      "cell_type": "code",
      "execution_count": null,
      "metadata": {
        "id": "KOBAnYS5NrLP",
        "colab": {
          "base_uri": "https://localhost:8080/"
        },
        "outputId": "ecfb02fb-2b4b-4531-d152-6bdba21ed9a1"
      },
      "outputs": [
        {
          "output_type": "stream",
          "name": "stdout",
          "text": [
            "              precision    recall  f1-score   support\n",
            "\n",
            "        CWE0       0.95      0.96      0.96      9785\n",
            "      CWE120       0.91      0.89      0.90      1093\n",
            "      CWE122       0.88      0.90      0.89       286\n",
            "      CWE190       0.91      0.84      0.87      2228\n",
            "      CWE369       0.77      0.89      0.83       705\n",
            "      CWE400       0.90      0.90      0.90      1906\n",
            "      CWE502       1.00      0.75      0.86        24\n",
            "\n",
            "    accuracy                           0.93     16027\n",
            "   macro avg       0.90      0.88      0.89     16027\n",
            "weighted avg       0.93      0.93      0.93     16027\n",
            "\n"
          ]
        }
      ],
      "source": [
        "from sklearn.metrics import classification_report\n",
        "#print('CLassification Report - 20 bit flips (classification layer))\n",
        "print(classification_report(y_true, y_pred))"
      ]
    },
    {
      "cell_type": "markdown",
      "source": [
        "### Iteration 2.0: Flipping additional 10 bits (30 total)"
      ],
      "metadata": {
        "id": "hhvShY9DBbXx"
      }
    },
    {
      "cell_type": "code",
      "source": [
        "import random\n",
        "\n",
        "num_flips = 10\n",
        "num_rows, num_cols = weights_uint.shape\n",
        "\n",
        "for i in range(num_flips):\n",
        "    row = random.randint(0, num_rows - 1)\n",
        "    col = random.randint(0, num_cols - 1)\n",
        "    bit_position = random.randint(0, 31)\n",
        "    print(f\"Flipping bit {bit_position} at position (row={row}, col={col})\")\n",
        "\n",
        "    # Create a mask for the chosen bit and flip it using XOR\n",
        "    mask = 1 << bit_position\n",
        "    weights_uint[row, col] ^= mask\n",
        "\n",
        "# Convert the modified binary representation back to float32\n",
        "modified_weights_np = weights_uint.view(np.float32)\n",
        "\n",
        "# Update the model's out_proj layer weights with the modified weights\n",
        "out_proj_layer.weight.data.copy_(torch.tensor(modified_weights_np, dtype=weights_fp32.dtype))\n",
        "\n",
        "print(\"10 more bit flips performed and model weights updated.\")\n",
        "print(\"Total of 30 bits have been flipped\")\n"
      ],
      "metadata": {
        "id": "7NB86v20BfBb",
        "colab": {
          "base_uri": "https://localhost:8080/"
        },
        "outputId": "2aaa029d-55c1-4167-b205-89ea7f1b9eb4"
      },
      "execution_count": null,
      "outputs": [
        {
          "output_type": "stream",
          "name": "stdout",
          "text": [
            "Flipping bit 5 at position (row=6, col=296)\n",
            "Flipping bit 6 at position (row=6, col=238)\n",
            "Flipping bit 29 at position (row=3, col=284)\n",
            "Flipping bit 10 at position (row=5, col=373)\n",
            "Flipping bit 13 at position (row=2, col=363)\n",
            "Flipping bit 4 at position (row=5, col=273)\n",
            "Flipping bit 10 at position (row=4, col=650)\n",
            "Flipping bit 15 at position (row=4, col=746)\n",
            "Flipping bit 24 at position (row=1, col=473)\n",
            "Flipping bit 14 at position (row=2, col=655)\n",
            "10 more bit flips performed and model weights updated.\n",
            "Total of 30 bits have been flipped\n"
          ]
        }
      ]
    },
    {
      "cell_type": "code",
      "source": [
        "device = 'cuda' if torch.cuda.is_available() else 'cpu'\n",
        "\n",
        "preds = []\n",
        "for i in df_test['code'].values:\n",
        "    with torch.no_grad():\n",
        "        inputs = tokenizer(i, return_tensors=\"pt\",  truncation=True).to(device)\n",
        "        logits = model(**inputs).logits\n",
        "        predicted_class_id = logits.argmax().item()\n",
        "        preds.append(predicted_class_id)\n",
        "\n",
        "\n",
        "y_true = [id2label[i] for i in df_test['label'].values]\n",
        "y_pred = [id2label[i] for i in preds]\n",
        "\n",
        "from sklearn.metrics import classification_report\n",
        "print(classification_report(y_true, y_pred))\n",
        "print(\"Total of 30 bits have been flipped\")\n"
      ],
      "metadata": {
        "id": "pzzzlBXPBl4O",
        "colab": {
          "base_uri": "https://localhost:8080/"
        },
        "outputId": "a88710ec-3b6f-41d5-bdcf-32c4da88f59f"
      },
      "execution_count": null,
      "outputs": [
        {
          "output_type": "stream",
          "name": "stdout",
          "text": [
            "              precision    recall  f1-score   support\n",
            "\n",
            "        CWE0       0.95      0.96      0.96      9785\n",
            "      CWE120       0.91      0.89      0.90      1093\n",
            "      CWE122       0.88      0.90      0.89       286\n",
            "      CWE190       0.91      0.84      0.87      2228\n",
            "      CWE369       0.77      0.89      0.83       705\n",
            "      CWE400       0.90      0.90      0.90      1906\n",
            "      CWE502       1.00      0.75      0.86        24\n",
            "\n",
            "    accuracy                           0.93     16027\n",
            "   macro avg       0.90      0.88      0.89     16027\n",
            "weighted avg       0.93      0.93      0.93     16027\n",
            "\n",
            "Total of 30 bits have been flipped\n"
          ]
        }
      ]
    },
    {
      "cell_type": "markdown",
      "source": [
        "### Iteration 3.0: Flipping 10 more bits (40 total)"
      ],
      "metadata": {
        "id": "VLu3ktk9Btte"
      }
    },
    {
      "cell_type": "code",
      "source": [
        "import random\n",
        "\n",
        "num_flips = 10\n",
        "num_rows, num_cols = weights_uint.shape\n",
        "\n",
        "for i in range(num_flips):\n",
        "    row = random.randint(0, num_rows - 1)\n",
        "    col = random.randint(0, num_cols - 1)\n",
        "    bit_position = random.randint(0, 31)\n",
        "    print(f\"Flipping bit {bit_position} at position (row={row}, col={col})\")\n",
        "\n",
        "    # Create a mask for the chosen bit and flip it using XOR\n",
        "    mask = 1 << bit_position\n",
        "    weights_uint[row, col] ^= mask\n",
        "\n",
        "# Convert the modified binary representation back to float32\n",
        "modified_weights_np = weights_uint.view(np.float32)\n",
        "\n",
        "# Update the model's out_proj layer weights with the modified weights\n",
        "out_proj_layer.weight.data.copy_(torch.tensor(modified_weights_np, dtype=weights_fp32.dtype))\n",
        "\n",
        "print(\"10 more bit flips performed and model weights updated.\")\n",
        "print(\"Total of 40 bits have been flipped\")\n",
        "\n"
      ],
      "metadata": {
        "id": "5nSTNXK2By-v",
        "colab": {
          "base_uri": "https://localhost:8080/"
        },
        "outputId": "e3a60426-82b2-4119-924d-7f62d80831b9"
      },
      "execution_count": null,
      "outputs": [
        {
          "output_type": "stream",
          "name": "stdout",
          "text": [
            "Flipping bit 3 at position (row=5, col=332)\n",
            "Flipping bit 20 at position (row=1, col=32)\n",
            "Flipping bit 4 at position (row=3, col=274)\n",
            "Flipping bit 20 at position (row=1, col=580)\n",
            "Flipping bit 31 at position (row=1, col=671)\n",
            "Flipping bit 29 at position (row=3, col=658)\n",
            "Flipping bit 8 at position (row=1, col=271)\n",
            "Flipping bit 16 at position (row=1, col=762)\n",
            "Flipping bit 27 at position (row=5, col=598)\n",
            "Flipping bit 23 at position (row=4, col=408)\n",
            "10 more bit flips performed and model weights updated.\n",
            "Total of 40 bits have been flipped\n"
          ]
        }
      ]
    },
    {
      "cell_type": "code",
      "source": [
        "device = 'cuda' if torch.cuda.is_available() else 'cpu'\n",
        "\n",
        "preds = []\n",
        "for i in df_test['code'].values:\n",
        "    with torch.no_grad():\n",
        "        inputs = tokenizer(i, return_tensors=\"pt\",  truncation=True).to(device)\n",
        "        logits = model(**inputs).logits\n",
        "        predicted_class_id = logits.argmax().item()\n",
        "        preds.append(predicted_class_id)\n",
        "\n",
        "\n",
        "y_true = [id2label[i] for i in df_test['label'].values]\n",
        "y_pred = [id2label[i] for i in preds]\n",
        "\n",
        "from sklearn.metrics import classification_report\n",
        "print(classification_report(y_true, y_pred))\n",
        "print(\"Total of 40 bits have been flipped\")\n"
      ],
      "metadata": {
        "id": "a5wTxIxUB3Rq",
        "colab": {
          "base_uri": "https://localhost:8080/"
        },
        "outputId": "8f3aef56-e0a9-4309-9b5d-a9b3bb152777"
      },
      "execution_count": null,
      "outputs": [
        {
          "output_type": "stream",
          "name": "stdout",
          "text": [
            "              precision    recall  f1-score   support\n",
            "\n",
            "        CWE0       0.95      0.96      0.96      9785\n",
            "      CWE120       0.91      0.89      0.90      1093\n",
            "      CWE122       0.88      0.90      0.89       286\n",
            "      CWE190       0.91      0.84      0.88      2228\n",
            "      CWE369       0.77      0.89      0.83       705\n",
            "      CWE400       0.90      0.90      0.90      1906\n",
            "      CWE502       1.00      0.75      0.86        24\n",
            "\n",
            "    accuracy                           0.93     16027\n",
            "   macro avg       0.90      0.88      0.89     16027\n",
            "weighted avg       0.93      0.93      0.93     16027\n",
            "\n",
            "Total of 40 bits have been flipped\n"
          ]
        }
      ]
    },
    {
      "cell_type": "markdown",
      "source": [
        "### Iteration 4.0: Flipping 10 more random bits (50 total)"
      ],
      "metadata": {
        "id": "QPLQuuUGB6MN"
      }
    },
    {
      "cell_type": "code",
      "source": [
        "import random\n",
        "\n",
        "num_flips = 10\n",
        "num_rows, num_cols = weights_uint.shape\n",
        "\n",
        "for i in range(num_flips):\n",
        "    row = random.randint(0, num_rows - 1)\n",
        "    col = random.randint(0, num_cols - 1)\n",
        "    bit_position = random.randint(0, 31)\n",
        "    print(f\"Flipping bit {bit_position} at position (row={row}, col={col})\")\n",
        "\n",
        "    # Create a mask for the chosen bit and flip it using XOR\n",
        "    mask = 1 << bit_position\n",
        "    weights_uint[row, col] ^= mask\n",
        "\n",
        "# Convert the modified binary representation back to float32\n",
        "modified_weights_np = weights_uint.view(np.float32)\n",
        "\n",
        "# Update the model's out_proj layer weights with the modified weights\n",
        "out_proj_layer.weight.data.copy_(torch.tensor(modified_weights_np, dtype=weights_fp32.dtype))\n",
        "\n",
        "print(\"50 bit flips performed and model weights updated.\")\n",
        "print(\"Total of 50 bits have been flipped\")\n"
      ],
      "metadata": {
        "id": "KQLe50k-CBGP",
        "colab": {
          "base_uri": "https://localhost:8080/"
        },
        "outputId": "4628395d-1f56-445f-ec4e-bc19292e345d"
      },
      "execution_count": null,
      "outputs": [
        {
          "output_type": "stream",
          "name": "stdout",
          "text": [
            "Flipping bit 31 at position (row=1, col=141)\n",
            "Flipping bit 7 at position (row=0, col=48)\n",
            "Flipping bit 10 at position (row=1, col=642)\n",
            "Flipping bit 27 at position (row=6, col=696)\n",
            "Flipping bit 24 at position (row=4, col=65)\n",
            "Flipping bit 29 at position (row=3, col=610)\n",
            "Flipping bit 0 at position (row=4, col=257)\n",
            "Flipping bit 7 at position (row=5, col=738)\n",
            "Flipping bit 17 at position (row=5, col=549)\n",
            "Flipping bit 21 at position (row=6, col=656)\n",
            "50 bit flips performed and model weights updated.\n",
            "Total of 50 bits have been flipped\n"
          ]
        }
      ]
    },
    {
      "cell_type": "code",
      "source": [
        "device = 'cuda' if torch.cuda.is_available() else 'cpu'\n",
        "\n",
        "preds = []\n",
        "for i in df_test['code'].values:\n",
        "    with torch.no_grad():\n",
        "        inputs = tokenizer(i, return_tensors=\"pt\",  truncation=True).to(device)\n",
        "        logits = model(**inputs).logits\n",
        "        predicted_class_id = logits.argmax().item()\n",
        "        preds.append(predicted_class_id)\n",
        "\n",
        "\n",
        "y_true = [id2label[i] for i in df_test['label'].values]\n",
        "y_pred = [id2label[i] for i in preds]\n",
        "\n",
        "from sklearn.metrics import classification_report\n",
        "print(classification_report(y_true, y_pred))\n",
        "print(\"Total of 50 bits have been flipped\")\n"
      ],
      "metadata": {
        "id": "FsxqVckuCDry",
        "colab": {
          "base_uri": "https://localhost:8080/"
        },
        "outputId": "f307172d-2660-41e5-afda-bc3800d6e342"
      },
      "execution_count": null,
      "outputs": [
        {
          "output_type": "stream",
          "name": "stdout",
          "text": [
            "              precision    recall  f1-score   support\n",
            "\n",
            "        CWE0       0.95      0.96      0.95      9785\n",
            "      CWE120       0.91      0.89      0.90      1093\n",
            "      CWE122       0.88      0.90      0.89       286\n",
            "      CWE190       0.91      0.84      0.87      2228\n",
            "      CWE369       0.76      0.90      0.82       705\n",
            "      CWE400       0.90      0.90      0.90      1906\n",
            "      CWE502       1.00      0.75      0.86        24\n",
            "\n",
            "    accuracy                           0.93     16027\n",
            "   macro avg       0.90      0.88      0.89     16027\n",
            "weighted avg       0.93      0.93      0.93     16027\n",
            "\n",
            "Total of 50 bits have been flipped\n"
          ]
        }
      ]
    },
    {
      "cell_type": "markdown",
      "source": [
        "### Iteration 5.0: Flipping 10 more bits (60 total)"
      ],
      "metadata": {
        "id": "_5xR5qZzCF3o"
      }
    },
    {
      "cell_type": "code",
      "source": [
        "import random\n",
        "\n",
        "num_flips = 10\n",
        "num_rows, num_cols = weights_uint.shape\n",
        "\n",
        "for i in range(num_flips):\n",
        "    row = random.randint(0, num_rows - 1)\n",
        "    col = random.randint(0, num_cols - 1)\n",
        "    bit_position = random.randint(0, 31)\n",
        "    print(f\"Flipping bit {bit_position} at position (row={row}, col={col})\")\n",
        "\n",
        "    # Create a mask for the chosen bit and flip it using XOR\n",
        "    mask = 1 << bit_position\n",
        "    weights_uint[row, col] ^= mask\n",
        "\n",
        "# Convert the modified binary representation back to float32\n",
        "modified_weights_np = weights_uint.view(np.float32)\n",
        "\n",
        "# Update the model's out_proj layer weights with the modified weights\n",
        "out_proj_layer.weight.data.copy_(torch.tensor(modified_weights_np, dtype=weights_fp32.dtype))\n",
        "\n",
        "print(\"60 bit flips performed and model weights updated.\")\n",
        "print(\"Total of 60 bits have been flipped\")\n"
      ],
      "metadata": {
        "id": "9WwcCYETCLO4",
        "colab": {
          "base_uri": "https://localhost:8080/"
        },
        "outputId": "69141320-f01f-49d0-a7fb-3009afddf27b"
      },
      "execution_count": null,
      "outputs": [
        {
          "output_type": "stream",
          "name": "stdout",
          "text": [
            "Flipping bit 27 at position (row=0, col=300)\n",
            "Flipping bit 0 at position (row=1, col=464)\n",
            "Flipping bit 16 at position (row=5, col=736)\n",
            "Flipping bit 6 at position (row=4, col=182)\n",
            "Flipping bit 19 at position (row=6, col=640)\n",
            "Flipping bit 12 at position (row=6, col=654)\n",
            "Flipping bit 10 at position (row=1, col=382)\n",
            "Flipping bit 0 at position (row=4, col=543)\n",
            "Flipping bit 31 at position (row=4, col=331)\n",
            "Flipping bit 23 at position (row=0, col=114)\n",
            "60 bit flips performed and model weights updated.\n",
            "Total of 60 bits have been flipped\n"
          ]
        }
      ]
    },
    {
      "cell_type": "code",
      "source": [
        "device = 'cuda' if torch.cuda.is_available() else 'cpu'\n",
        "\n",
        "preds = []\n",
        "for i in df_test['code'].values:\n",
        "    with torch.no_grad():\n",
        "        inputs = tokenizer(i, return_tensors=\"pt\",  truncation=True).to(device)\n",
        "        logits = model(**inputs).logits\n",
        "        predicted_class_id = logits.argmax().item()\n",
        "        preds.append(predicted_class_id)\n",
        "\n",
        "\n",
        "y_true = [id2label[i] for i in df_test['label'].values]\n",
        "y_pred = [id2label[i] for i in preds]\n",
        "\n",
        "from sklearn.metrics import classification_report\n",
        "print(classification_report(y_true, y_pred))\n",
        "print(\"Total of 60 bits have been flipped\")\n",
        "\n",
        "\n"
      ],
      "metadata": {
        "id": "3CCX3MNgCMhP",
        "colab": {
          "base_uri": "https://localhost:8080/"
        },
        "outputId": "840652cd-111c-427a-a777-2d6a32ffe1c2"
      },
      "execution_count": null,
      "outputs": [
        {
          "output_type": "stream",
          "name": "stdout",
          "text": [
            "              precision    recall  f1-score   support\n",
            "\n",
            "        CWE0       0.95      0.96      0.95      9785\n",
            "      CWE120       0.91      0.89      0.90      1093\n",
            "      CWE122       0.89      0.90      0.89       286\n",
            "      CWE190       0.91      0.84      0.87      2228\n",
            "      CWE369       0.76      0.90      0.82       705\n",
            "      CWE400       0.89      0.90      0.90      1906\n",
            "      CWE502       1.00      0.75      0.86        24\n",
            "\n",
            "    accuracy                           0.93     16027\n",
            "   macro avg       0.90      0.88      0.89     16027\n",
            "weighted avg       0.93      0.93      0.93     16027\n",
            "\n",
            "Total of 60 bits have been flipped\n"
          ]
        }
      ]
    },
    {
      "cell_type": "markdown",
      "source": [
        "### Iteration 6: flipping 10 more (70 total)"
      ],
      "metadata": {
        "id": "5qeDamE7Lk77"
      }
    },
    {
      "cell_type": "code",
      "source": [
        "import random\n",
        "\n",
        "num_flips = 10\n",
        "num_rows, num_cols = weights_uint.shape\n",
        "\n",
        "for i in range(num_flips):\n",
        "    row = random.randint(0, num_rows - 1)\n",
        "    col = random.randint(0, num_cols - 1)\n",
        "    bit_position = random.randint(0, 31)\n",
        "    print(f\"Flipping bit {bit_position} at position (row={row}, col={col})\")\n",
        "\n",
        "    # Create a mask for the chosen bit and flip it using XOR\n",
        "    mask = 1 << bit_position\n",
        "    weights_uint[row, col] ^= mask\n",
        "\n",
        "# Convert the modified binary representation back to float32\n",
        "modified_weights_np = weights_uint.view(np.float32)\n",
        "\n",
        "# Update the model's out_proj layer weights with the modified weights\n",
        "out_proj_layer.weight.data.copy_(torch.tensor(modified_weights_np, dtype=weights_fp32.dtype))\n",
        "\n",
        "print(\"70 bit flips performed and model weights updated.\")\n",
        "print(\"Total of 70 bits have been flipped\")\n"
      ],
      "metadata": {
        "id": "ayFP0uHoLpHu",
        "colab": {
          "base_uri": "https://localhost:8080/"
        },
        "outputId": "b50cc757-b96f-4526-e6de-987602e9ee14"
      },
      "execution_count": null,
      "outputs": [
        {
          "output_type": "stream",
          "name": "stdout",
          "text": [
            "Flipping bit 15 at position (row=6, col=314)\n",
            "Flipping bit 5 at position (row=0, col=246)\n",
            "Flipping bit 31 at position (row=0, col=749)\n",
            "Flipping bit 8 at position (row=6, col=70)\n",
            "Flipping bit 30 at position (row=1, col=675)\n",
            "Flipping bit 16 at position (row=4, col=169)\n",
            "Flipping bit 27 at position (row=4, col=621)\n",
            "Flipping bit 12 at position (row=1, col=552)\n",
            "Flipping bit 25 at position (row=5, col=319)\n",
            "Flipping bit 23 at position (row=5, col=665)\n",
            "70 bit flips performed and model weights updated.\n",
            "Total of 70 bits have been flipped\n"
          ]
        }
      ]
    },
    {
      "cell_type": "code",
      "source": [
        "device = 'cuda' if torch.cuda.is_available() else 'cpu'\n",
        "\n",
        "preds = []\n",
        "for i in df_test['code'].values:\n",
        "    with torch.no_grad():\n",
        "        inputs = tokenizer(i, return_tensors=\"pt\",  truncation=True).to(device)\n",
        "        logits = model(**inputs).logits\n",
        "        predicted_class_id = logits.argmax().item()\n",
        "        preds.append(predicted_class_id)\n",
        "\n",
        "\n",
        "y_true = [id2label[i] for i in df_test['label'].values]\n",
        "y_pred = [id2label[i] for i in preds]\n",
        "\n",
        "from sklearn.metrics import classification_report\n",
        "print(classification_report(y_true, y_pred))\n",
        "print(\"Total of 70 bits have been flipped\")\n",
        "\n",
        "\n"
      ],
      "metadata": {
        "id": "7DTfv9nDLtC-",
        "colab": {
          "base_uri": "https://localhost:8080/"
        },
        "outputId": "d3821e07-8f9d-4e70-e5a6-bdc4138d8035"
      },
      "execution_count": null,
      "outputs": [
        {
          "output_type": "stream",
          "name": "stdout",
          "text": [
            "              precision    recall  f1-score   support\n",
            "\n",
            "        CWE0       0.73      0.00      0.00      9785\n",
            "      CWE120       0.94      0.24      0.39      1093\n",
            "      CWE122       0.94      0.81      0.87       286\n",
            "      CWE190       0.98      0.48      0.65      2228\n",
            "      CWE369       1.00      0.00      0.00       705\n",
            "      CWE400       0.13      1.00      0.23      1906\n",
            "      CWE502       1.00      0.75      0.86        24\n",
            "\n",
            "    accuracy                           0.22     16027\n",
            "   macro avg       0.82      0.47      0.43     16027\n",
            "weighted avg       0.73      0.22      0.16     16027\n",
            "\n",
            "Total of 70 bits have been flipped\n"
          ]
        }
      ]
    },
    {
      "cell_type": "markdown",
      "source": [
        "### Iteration 7: Flipping a total of 80 weights:"
      ],
      "metadata": {
        "id": "buDM0eZML3rF"
      }
    },
    {
      "cell_type": "code",
      "source": [
        "import random\n",
        "\n",
        "num_flips = 10\n",
        "num_rows, num_cols = weights_uint.shape\n",
        "\n",
        "for i in range(num_flips):\n",
        "    row = random.randint(0, num_rows - 1)\n",
        "    col = random.randint(0, num_cols - 1)\n",
        "    bit_position = random.randint(0, 31)\n",
        "    print(f\"Flipping bit {bit_position} at position (row={row}, col={col})\")\n",
        "\n",
        "    # Create a mask for the chosen bit and flip it using XOR\n",
        "    mask = 1 << bit_position\n",
        "    weights_uint[row, col] ^= mask\n",
        "\n",
        "# Convert the modified binary representation back to float32\n",
        "modified_weights_np = weights_uint.view(np.float32)\n",
        "\n",
        "# Update the model's out_proj layer weights with the modified weights\n",
        "out_proj_layer.weight.data.copy_(torch.tensor(modified_weights_np, dtype=weights_fp32.dtype))\n",
        "\n",
        "print(\"80 bit flips performed and model weights updated.\")\n",
        "print(\"Total of 80 bits have been flipped\")\n"
      ],
      "metadata": {
        "id": "8TuXrlVnL8l7",
        "colab": {
          "base_uri": "https://localhost:8080/"
        },
        "outputId": "bf9fed83-d7d8-4c74-c88f-ea9c50bed775"
      },
      "execution_count": null,
      "outputs": [
        {
          "output_type": "stream",
          "name": "stdout",
          "text": [
            "Flipping bit 28 at position (row=3, col=529)\n",
            "Flipping bit 14 at position (row=0, col=253)\n",
            "Flipping bit 1 at position (row=0, col=346)\n",
            "Flipping bit 14 at position (row=4, col=567)\n",
            "Flipping bit 0 at position (row=4, col=225)\n",
            "Flipping bit 3 at position (row=0, col=724)\n",
            "Flipping bit 2 at position (row=1, col=69)\n",
            "Flipping bit 4 at position (row=6, col=338)\n",
            "Flipping bit 17 at position (row=4, col=243)\n",
            "Flipping bit 13 at position (row=5, col=497)\n",
            "80 bit flips performed and model weights updated.\n",
            "Total of 80 bits have been flipped\n"
          ]
        }
      ]
    },
    {
      "cell_type": "code",
      "source": [
        "device = 'cuda' if torch.cuda.is_available() else 'cpu'\n",
        "\n",
        "preds = []\n",
        "for i in df_test['code'].values:\n",
        "    with torch.no_grad():\n",
        "        inputs = tokenizer(i, return_tensors=\"pt\",  truncation=True).to(device)\n",
        "        logits = model(**inputs).logits\n",
        "        predicted_class_id = logits.argmax().item()\n",
        "        preds.append(predicted_class_id)\n",
        "\n",
        "\n",
        "y_true = [id2label[i] for i in df_test['label'].values]\n",
        "y_pred = [id2label[i] for i in preds]\n",
        "\n",
        "from sklearn.metrics import classification_report\n",
        "print(classification_report(y_true, y_pred))\n",
        "print(\"Total of 80 bits have been flipped\")\n",
        "\n",
        "\n"
      ],
      "metadata": {
        "id": "iTALugyWL_IW",
        "colab": {
          "base_uri": "https://localhost:8080/"
        },
        "outputId": "c35e848e-2e91-4a5c-b469-acede9264980"
      },
      "execution_count": null,
      "outputs": [
        {
          "output_type": "stream",
          "name": "stdout",
          "text": [
            "              precision    recall  f1-score   support\n",
            "\n",
            "        CWE0       0.73      0.00      0.00      9785\n",
            "      CWE120       0.94      0.24      0.39      1093\n",
            "      CWE122       0.93      0.81      0.87       286\n",
            "      CWE190       0.98      0.48      0.65      2228\n",
            "      CWE369       1.00      0.00      0.00       705\n",
            "      CWE400       0.13      1.00      0.23      1906\n",
            "      CWE502       1.00      0.75      0.86        24\n",
            "\n",
            "    accuracy                           0.22     16027\n",
            "   macro avg       0.82      0.47      0.43     16027\n",
            "weighted avg       0.73      0.22      0.16     16027\n",
            "\n",
            "Total of 80 bits have been flipped\n"
          ]
        }
      ]
    },
    {
      "cell_type": "markdown",
      "source": [
        "### Iteration 8: Flipping a total of 90 weights:"
      ],
      "metadata": {
        "id": "f_F312XKMFFI"
      }
    },
    {
      "cell_type": "code",
      "source": [
        "import random\n",
        "\n",
        "num_flips = 10\n",
        "num_rows, num_cols = weights_uint.shape\n",
        "\n",
        "for i in range(num_flips):\n",
        "    row = random.randint(0, num_rows - 1)\n",
        "    col = random.randint(0, num_cols - 1)\n",
        "    bit_position = random.randint(0, 31)\n",
        "    print(f\"Flipping bit {bit_position} at position (row={row}, col={col})\")\n",
        "\n",
        "    # Create a mask for the chosen bit and flip it using XOR\n",
        "    mask = 1 << bit_position\n",
        "    weights_uint[row, col] ^= mask\n",
        "\n",
        "# Convert the modified binary representation back to float32\n",
        "modified_weights_np = weights_uint.view(np.float32)\n",
        "\n",
        "# Update the model's out_proj layer weights with the modified weights\n",
        "out_proj_layer.weight.data.copy_(torch.tensor(modified_weights_np, dtype=weights_fp32.dtype))\n",
        "\n",
        "print(\"90 bit flips performed and model weights updated.\")\n",
        "print(\"Total of 90 bits have been flipped\")\n"
      ],
      "metadata": {
        "id": "BfpAng2LMKTQ",
        "colab": {
          "base_uri": "https://localhost:8080/"
        },
        "outputId": "84536b8f-f10c-439f-f654-10814bb644fe"
      },
      "execution_count": null,
      "outputs": [
        {
          "output_type": "stream",
          "name": "stdout",
          "text": [
            "Flipping bit 30 at position (row=4, col=135)\n",
            "Flipping bit 26 at position (row=1, col=484)\n",
            "Flipping bit 6 at position (row=1, col=96)\n",
            "Flipping bit 22 at position (row=5, col=441)\n",
            "Flipping bit 29 at position (row=3, col=420)\n",
            "Flipping bit 3 at position (row=6, col=746)\n",
            "Flipping bit 6 at position (row=5, col=669)\n",
            "Flipping bit 21 at position (row=0, col=412)\n",
            "Flipping bit 15 at position (row=6, col=111)\n",
            "Flipping bit 28 at position (row=1, col=194)\n",
            "90 bit flips performed and model weights updated.\n",
            "Total of 90 bits have been flipped\n"
          ]
        }
      ]
    },
    {
      "cell_type": "code",
      "source": [
        "device = 'cuda' if torch.cuda.is_available() else 'cpu'\n",
        "\n",
        "preds = []\n",
        "for i in df_test['code'].values:\n",
        "    with torch.no_grad():\n",
        "        inputs = tokenizer(i, return_tensors=\"pt\",  truncation=True).to(device)\n",
        "        logits = model(**inputs).logits\n",
        "        predicted_class_id = logits.argmax().item()\n",
        "        preds.append(predicted_class_id)\n",
        "\n",
        "\n",
        "y_true = [id2label[i] for i in df_test['label'].values]\n",
        "y_pred = [id2label[i] for i in preds]\n",
        "\n",
        "from sklearn.metrics import classification_report\n",
        "print(classification_report(y_true, y_pred))\n",
        "print(\"Total of 90 bits have been flipped\")\n",
        "\n",
        "\n"
      ],
      "metadata": {
        "id": "gRIrClDoMMmj",
        "colab": {
          "base_uri": "https://localhost:8080/"
        },
        "outputId": "3d5bc0a3-ad02-4ad5-9308-a2bc37b9b510"
      },
      "execution_count": null,
      "outputs": [
        {
          "output_type": "stream",
          "name": "stdout",
          "text": [
            "              precision    recall  f1-score   support\n",
            "\n",
            "        CWE0       0.73      0.00      0.00      9785\n",
            "      CWE120       0.94      0.19      0.32      1093\n",
            "      CWE122       0.84      0.06      0.10       286\n",
            "      CWE190       0.99      0.47      0.64      2228\n",
            "      CWE369       0.00      0.00      0.00       705\n",
            "      CWE400       0.13      1.00      0.23      1906\n",
            "      CWE502       1.00      0.54      0.70        24\n",
            "\n",
            "    accuracy                           0.20     16027\n",
            "   macro avg       0.66      0.32      0.29     16027\n",
            "weighted avg       0.68      0.20      0.14     16027\n",
            "\n",
            "Total of 90 bits have been flipped\n"
          ]
        }
      ]
    },
    {
      "cell_type": "markdown",
      "source": [
        "### Iteration 9: 100 Flipped Weights"
      ],
      "metadata": {
        "id": "6IkqXEKfMP3Y"
      }
    },
    {
      "cell_type": "code",
      "source": [
        "import random\n",
        "\n",
        "num_flips = 10\n",
        "num_rows, num_cols = weights_uint.shape\n",
        "\n",
        "for i in range(num_flips):\n",
        "    row = random.randint(0, num_rows - 1)\n",
        "    col = random.randint(0, num_cols - 1)\n",
        "    bit_position = random.randint(0, 31)\n",
        "    print(f\"Flipping bit {bit_position} at position (row={row}, col={col})\")\n",
        "\n",
        "    # Create a mask for the chosen bit and flip it using XOR\n",
        "    mask = 1 << bit_position\n",
        "    weights_uint[row, col] ^= mask\n",
        "\n",
        "# Convert the modified binary representation back to float32\n",
        "modified_weights_np = weights_uint.view(np.float32)\n",
        "\n",
        "# Update the model's out_proj layer weights with the modified weights\n",
        "out_proj_layer.weight.data.copy_(torch.tensor(modified_weights_np, dtype=weights_fp32.dtype))\n",
        "\n",
        "print(\"100 bit flips performed and model weights updated.\")\n",
        "print(\"Total of 100 bits have been flipped\")\n"
      ],
      "metadata": {
        "id": "_C0NiBZ9MVau",
        "colab": {
          "base_uri": "https://localhost:8080/"
        },
        "outputId": "0db53812-cc6f-4974-90c2-49ee3387266f"
      },
      "execution_count": null,
      "outputs": [
        {
          "output_type": "stream",
          "name": "stdout",
          "text": [
            "Flipping bit 11 at position (row=1, col=432)\n",
            "Flipping bit 15 at position (row=2, col=473)\n",
            "Flipping bit 28 at position (row=6, col=77)\n",
            "Flipping bit 6 at position (row=6, col=563)\n",
            "Flipping bit 0 at position (row=0, col=667)\n",
            "Flipping bit 10 at position (row=0, col=242)\n",
            "Flipping bit 30 at position (row=3, col=497)\n",
            "Flipping bit 3 at position (row=1, col=410)\n",
            "Flipping bit 0 at position (row=1, col=388)\n",
            "Flipping bit 29 at position (row=3, col=271)\n",
            "100 bit flips performed and model weights updated.\n",
            "Total of 100 bits have been flipped\n"
          ]
        }
      ]
    },
    {
      "cell_type": "code",
      "source": [
        "device = 'cuda' if torch.cuda.is_available() else 'cpu'\n",
        "\n",
        "preds = []\n",
        "for i in df_test['code'].values:\n",
        "    with torch.no_grad():\n",
        "        inputs = tokenizer(i, return_tensors=\"pt\",  truncation=True).to(device)\n",
        "        logits = model(**inputs).logits\n",
        "        predicted_class_id = logits.argmax().item()\n",
        "        preds.append(predicted_class_id)\n",
        "\n",
        "\n",
        "y_true = [id2label[i] for i in df_test['label'].values]\n",
        "y_pred = [id2label[i] for i in preds]\n",
        "\n",
        "from sklearn.metrics import classification_report\n",
        "print(classification_report(y_true, y_pred))\n",
        "print(\"Total of 100 bits have been flipped\")"
      ],
      "metadata": {
        "id": "lhWsdUYBMYht",
        "colab": {
          "base_uri": "https://localhost:8080/"
        },
        "outputId": "a8f41411-3a6e-477b-e3bd-9cf07dc27e4c"
      },
      "execution_count": null,
      "outputs": [
        {
          "output_type": "stream",
          "name": "stdout",
          "text": [
            "              precision    recall  f1-score   support\n",
            "\n",
            "        CWE0       0.12      0.00      0.00      9785\n",
            "      CWE120       0.67      0.04      0.07      1093\n",
            "      CWE122       0.22      0.05      0.08       286\n",
            "      CWE190       0.77      0.42      0.54      2228\n",
            "      CWE369       0.00      0.00      0.00       705\n",
            "      CWE400       0.13      1.00      0.23      1906\n",
            "      CWE502       1.00      0.54      0.70        24\n",
            "\n",
            "    accuracy                           0.18     16027\n",
            "   macro avg       0.42      0.29      0.23     16027\n",
            "weighted avg       0.25      0.18      0.11     16027\n",
            "\n",
            "Total of 100 bits have been flipped\n"
          ]
        }
      ]
    },
    {
      "cell_type": "markdown",
      "metadata": {
        "id": "ZfNy9-8i_7ij"
      },
      "source": [
        "---\n",
        "---\n",
        "---\n",
        "---\n",
        "\n",
        "### Next step would be to inject bit flips into other model weights"
      ]
    },
    {
      "cell_type": "markdown",
      "metadata": {
        "id": "kvQ9fyjFuV0N"
      },
      "source": [
        "# GraphCodeBERT Model Configuration Analysis\n",
        "\n",
        "\n",
        "---\n",
        "\n",
        "## 1️ Model Architecture\n",
        "| **Attribute** | **Value** | **Interpretation** |\n",
        "|--------------|----------|-------------------|\n",
        "| `\"architectures\"` | `[\"RobertaForSequenceClassification\"]` | The model is **RoBERTa-based**, adapted for **classification**. |\n",
        "| `\"model_type\"` | `\"roberta\"` | Confirms that the underlying transformer is **RoBERTa** (not BERT). |\n",
        "| `\"problem_type\"` | `\"single_label_classification\"` | Used for **single-label CWE classification** (one label per sample). |\n",
        "\n",
        "---\n",
        "\n",
        "## 2️ Model Size & Layers\n",
        "| **Attribute** | **Value** | **Interpretation** |\n",
        "|--------------|----------|-------------------|\n",
        "| `\"hidden_size\"` | `768` | Each token is encoded into a **768-dimensional vector**. |\n",
        "| `\"num_hidden_layers\"` | `12` | The model has **12 transformer layers** (standard for RoBERTa). |\n",
        "| `\"num_attention_heads\"` | `12` | Each layer has **12 attention heads** for multi-head attention. |\n",
        "| `\"intermediate_size\"` | `3072` | The **feed-forward network (FFN) size** inside each layer. |\n",
        "\n",
        "---\n",
        "\n",
        "## 3️ Tokenization & Embeddings\n",
        "| **Attribute** | **Value** | **Interpretation** |\n",
        "|--------------|----------|-------------------|\n",
        "| `\"vocab_size\"` | `50265` | Model has a vocabulary of **50K tokens** (subwords & special tokens). |\n",
        "| `\"max_position_embeddings\"` | `514` | Supports input sequences up to **514 tokens** (default RoBERTa). |\n",
        "| `\"bos_token_id\"` | `0` | Special token marking the **beginning of a sequence**. |\n",
        "| `\"eos_token_id\"` | `2` | Special token marking the **end of a sequence**. |\n",
        "| `\"pad_token_id\"` | `1` | Padding token used for **batch processing**. |\n",
        "\n",
        "---\n",
        "\n",
        "## 4️ Training & Regularization Parameters\n",
        "| **Attribute** | **Value** | **Interpretation** |\n",
        "|--------------|----------|-------------------|\n",
        "| `\"hidden_act\"` | `\"gelu\"` | Uses **GELU activation** (common in transformer models). |\n",
        "| `\"initializer_range\"` | `0.02` | Standard weight initialization range. |\n",
        "| `\"attention_probs_dropout_prob\"` | `0.1` | **10% dropout** for attention layers (reduces overfitting). |\n",
        "| `\"hidden_dropout_prob\"` | `0.1` | **10% dropout** for hidden layers (improves generalization). |\n",
        "| `\"classifier_dropout\"` | `null` | No extra dropout in classifier head. |\n",
        "\n",
        "---\n",
        "\n",
        "## 5️ Label Mappings (CWE Class Assignments)\n",
        "| **CWE Type** | **Index (label2id)** |\n",
        "|-------------|-----------------|\n",
        "| `\"CWE0\"` | `0` |\n",
        "| `\"CWE119\"` | `2` |\n",
        "| `\"CWE120\"` | `3` |\n",
        "| `\"CWE121\"` | `8` |\n",
        "| `\"CWE122\"` | `9` |\n",
        "| `\"CWE125\"` | `5` |\n",
        "| `\"CWE131\"` | `7` |\n",
        "| `\"CWE369\"` | `6` |\n",
        "| `\"CWE415\"` | `4` |\n",
        "| `\"CWE680\"` | `10` |\n",
        "| `\"CWE787\"` | `1` |\n",
        "| `\"CWE805\"` | `11` |\n",
        "\n",
        "\n",
        "---\n",
        "\n",
        "## Next Steps\n",
        "Now that we evaluated the baseline, unflipped model, let's identify and access model weights\n"
      ]
    },
    {
      "cell_type": "markdown",
      "metadata": {
        "id": "ghybbr3BxOpn"
      },
      "source": [
        "* Exploring modifying the first layer, to see how error propagates.\n",
        "* This tensor represents the query matrix in the first self-attention mechanism.\n",
        "\n",
        "The weights are stored as 32-bit floating point numbers.\n",
        "\n",
        "## **Process Workflow:**\n",
        "1. Convert the float weights to binary representation (bit-level view).\n",
        "2. Perform the bit-flip operation.\n",
        "3. Convert the modified binary back to float representation.\n",
        "4. Update the model weights"
      ]
    },
    {
      "cell_type": "markdown",
      "metadata": {
        "id": "TPy-uTYS1Nse"
      },
      "source": [
        "Above is the total number of weight values in our model"
      ]
    },
    {
      "cell_type": "markdown",
      "metadata": {
        "id": "WfLh0_t8091e"
      },
      "source": [
        "# Bit-Flip Implementation Plan\n",
        "1. Select Random Weights to Modify (e.g., 0.1% of total weights).\n",
        "2. Select a Random Bit in Each Chosen Weight (32-bit representation).\n",
        "3. Flip the Bit Using XOR Operation (^= (1 << bit_position)).\n",
        "4. Convert the Modified Integer Weights Back to Floats.\n",
        "5. Replace the Modified Weights in the Model."
      ]
    },
    {
      "cell_type": "markdown",
      "metadata": {
        "id": "YRozud3O9bik"
      },
      "source": [
        "## As you can see, flipping weights in the first layer causes irrecoverable errors propagating through the rest of the layers in the model.\n",
        "* This leads to the NaN error\n",
        "\n",
        "# Let's attempt flipping the final classification layer:"
      ]
    },
    {
      "cell_type": "markdown",
      "metadata": {
        "id": "GdOi7OUh-rmN"
      },
      "source": [
        "Still seeing the NaN error. Checking if modified weights have NaNs:"
      ]
    },
    {
      "cell_type": "code",
      "execution_count": null,
      "metadata": {
        "id": "51dLdrJU-vih"
      },
      "outputs": [],
      "source": []
    }
  ],
  "metadata": {
    "accelerator": "GPU",
    "colab": {
      "gpuType": "T4",
      "machine_shape": "hm",
      "provenance": [],
      "collapsed_sections": [
        "mIq395KT_119",
        "hhvShY9DBbXx",
        "VLu3ktk9Btte",
        "QPLQuuUGB6MN",
        "_5xR5qZzCF3o",
        "5qeDamE7Lk77",
        "buDM0eZML3rF",
        "f_F312XKMFFI",
        "6IkqXEKfMP3Y"
      ],
      "authorship_tag": "ABX9TyMqp76+SifgV6cPJeZgSvMu",
      "include_colab_link": true
    },
    "kernelspec": {
      "display_name": "Python 3",
      "name": "python3"
    },
    "language_info": {
      "name": "python"
    },
    "widgets": {
      "application/vnd.jupyter.widget-state+json": {
        "47eb19df938146c3931e4e3dfd37e019": {
          "model_module": "@jupyter-widgets/controls",
          "model_name": "HBoxModel",
          "model_module_version": "1.5.0",
          "state": {
            "_dom_classes": [],
            "_model_module": "@jupyter-widgets/controls",
            "_model_module_version": "1.5.0",
            "_model_name": "HBoxModel",
            "_view_count": null,
            "_view_module": "@jupyter-widgets/controls",
            "_view_module_version": "1.5.0",
            "_view_name": "HBoxView",
            "box_style": "",
            "children": [
              "IPY_MODEL_4ded03575578431190a0b389b770dab2",
              "IPY_MODEL_4b1b5b2b5fda42489e66a48384515cfb",
              "IPY_MODEL_f03eb7ec74ec4ecf859ad3cd48fc7356"
            ],
            "layout": "IPY_MODEL_64997c21c0de4b638f5a8320f5baa9c8"
          }
        },
        "4ded03575578431190a0b389b770dab2": {
          "model_module": "@jupyter-widgets/controls",
          "model_name": "HTMLModel",
          "model_module_version": "1.5.0",
          "state": {
            "_dom_classes": [],
            "_model_module": "@jupyter-widgets/controls",
            "_model_module_version": "1.5.0",
            "_model_name": "HTMLModel",
            "_view_count": null,
            "_view_module": "@jupyter-widgets/controls",
            "_view_module_version": "1.5.0",
            "_view_name": "HTMLView",
            "description": "",
            "description_tooltip": null,
            "layout": "IPY_MODEL_b3c7fa241e4e4156b51b5a67ac8a9f1a",
            "placeholder": "​",
            "style": "IPY_MODEL_1ca9b8b3f06f4c1b84148d399c530e9d",
            "value": "tokenizer_config.json: 100%"
          }
        },
        "4b1b5b2b5fda42489e66a48384515cfb": {
          "model_module": "@jupyter-widgets/controls",
          "model_name": "FloatProgressModel",
          "model_module_version": "1.5.0",
          "state": {
            "_dom_classes": [],
            "_model_module": "@jupyter-widgets/controls",
            "_model_module_version": "1.5.0",
            "_model_name": "FloatProgressModel",
            "_view_count": null,
            "_view_module": "@jupyter-widgets/controls",
            "_view_module_version": "1.5.0",
            "_view_name": "ProgressView",
            "bar_style": "success",
            "description": "",
            "description_tooltip": null,
            "layout": "IPY_MODEL_65b384ce7cfb455581789f47e57e95e3",
            "max": 25,
            "min": 0,
            "orientation": "horizontal",
            "style": "IPY_MODEL_cf63f6ebc5f343009a4131fdf3145a90",
            "value": 25
          }
        },
        "f03eb7ec74ec4ecf859ad3cd48fc7356": {
          "model_module": "@jupyter-widgets/controls",
          "model_name": "HTMLModel",
          "model_module_version": "1.5.0",
          "state": {
            "_dom_classes": [],
            "_model_module": "@jupyter-widgets/controls",
            "_model_module_version": "1.5.0",
            "_model_name": "HTMLModel",
            "_view_count": null,
            "_view_module": "@jupyter-widgets/controls",
            "_view_module_version": "1.5.0",
            "_view_name": "HTMLView",
            "description": "",
            "description_tooltip": null,
            "layout": "IPY_MODEL_27d340e4e23344c4a5e34895f750d059",
            "placeholder": "​",
            "style": "IPY_MODEL_ef6f0dbdddd0441cb4658b2b4a710817",
            "value": " 25.0/25.0 [00:00&lt;00:00, 2.77kB/s]"
          }
        },
        "64997c21c0de4b638f5a8320f5baa9c8": {
          "model_module": "@jupyter-widgets/base",
          "model_name": "LayoutModel",
          "model_module_version": "1.2.0",
          "state": {
            "_model_module": "@jupyter-widgets/base",
            "_model_module_version": "1.2.0",
            "_model_name": "LayoutModel",
            "_view_count": null,
            "_view_module": "@jupyter-widgets/base",
            "_view_module_version": "1.2.0",
            "_view_name": "LayoutView",
            "align_content": null,
            "align_items": null,
            "align_self": null,
            "border": null,
            "bottom": null,
            "display": null,
            "flex": null,
            "flex_flow": null,
            "grid_area": null,
            "grid_auto_columns": null,
            "grid_auto_flow": null,
            "grid_auto_rows": null,
            "grid_column": null,
            "grid_gap": null,
            "grid_row": null,
            "grid_template_areas": null,
            "grid_template_columns": null,
            "grid_template_rows": null,
            "height": null,
            "justify_content": null,
            "justify_items": null,
            "left": null,
            "margin": null,
            "max_height": null,
            "max_width": null,
            "min_height": null,
            "min_width": null,
            "object_fit": null,
            "object_position": null,
            "order": null,
            "overflow": null,
            "overflow_x": null,
            "overflow_y": null,
            "padding": null,
            "right": null,
            "top": null,
            "visibility": null,
            "width": null
          }
        },
        "b3c7fa241e4e4156b51b5a67ac8a9f1a": {
          "model_module": "@jupyter-widgets/base",
          "model_name": "LayoutModel",
          "model_module_version": "1.2.0",
          "state": {
            "_model_module": "@jupyter-widgets/base",
            "_model_module_version": "1.2.0",
            "_model_name": "LayoutModel",
            "_view_count": null,
            "_view_module": "@jupyter-widgets/base",
            "_view_module_version": "1.2.0",
            "_view_name": "LayoutView",
            "align_content": null,
            "align_items": null,
            "align_self": null,
            "border": null,
            "bottom": null,
            "display": null,
            "flex": null,
            "flex_flow": null,
            "grid_area": null,
            "grid_auto_columns": null,
            "grid_auto_flow": null,
            "grid_auto_rows": null,
            "grid_column": null,
            "grid_gap": null,
            "grid_row": null,
            "grid_template_areas": null,
            "grid_template_columns": null,
            "grid_template_rows": null,
            "height": null,
            "justify_content": null,
            "justify_items": null,
            "left": null,
            "margin": null,
            "max_height": null,
            "max_width": null,
            "min_height": null,
            "min_width": null,
            "object_fit": null,
            "object_position": null,
            "order": null,
            "overflow": null,
            "overflow_x": null,
            "overflow_y": null,
            "padding": null,
            "right": null,
            "top": null,
            "visibility": null,
            "width": null
          }
        },
        "1ca9b8b3f06f4c1b84148d399c530e9d": {
          "model_module": "@jupyter-widgets/controls",
          "model_name": "DescriptionStyleModel",
          "model_module_version": "1.5.0",
          "state": {
            "_model_module": "@jupyter-widgets/controls",
            "_model_module_version": "1.5.0",
            "_model_name": "DescriptionStyleModel",
            "_view_count": null,
            "_view_module": "@jupyter-widgets/base",
            "_view_module_version": "1.2.0",
            "_view_name": "StyleView",
            "description_width": ""
          }
        },
        "65b384ce7cfb455581789f47e57e95e3": {
          "model_module": "@jupyter-widgets/base",
          "model_name": "LayoutModel",
          "model_module_version": "1.2.0",
          "state": {
            "_model_module": "@jupyter-widgets/base",
            "_model_module_version": "1.2.0",
            "_model_name": "LayoutModel",
            "_view_count": null,
            "_view_module": "@jupyter-widgets/base",
            "_view_module_version": "1.2.0",
            "_view_name": "LayoutView",
            "align_content": null,
            "align_items": null,
            "align_self": null,
            "border": null,
            "bottom": null,
            "display": null,
            "flex": null,
            "flex_flow": null,
            "grid_area": null,
            "grid_auto_columns": null,
            "grid_auto_flow": null,
            "grid_auto_rows": null,
            "grid_column": null,
            "grid_gap": null,
            "grid_row": null,
            "grid_template_areas": null,
            "grid_template_columns": null,
            "grid_template_rows": null,
            "height": null,
            "justify_content": null,
            "justify_items": null,
            "left": null,
            "margin": null,
            "max_height": null,
            "max_width": null,
            "min_height": null,
            "min_width": null,
            "object_fit": null,
            "object_position": null,
            "order": null,
            "overflow": null,
            "overflow_x": null,
            "overflow_y": null,
            "padding": null,
            "right": null,
            "top": null,
            "visibility": null,
            "width": null
          }
        },
        "cf63f6ebc5f343009a4131fdf3145a90": {
          "model_module": "@jupyter-widgets/controls",
          "model_name": "ProgressStyleModel",
          "model_module_version": "1.5.0",
          "state": {
            "_model_module": "@jupyter-widgets/controls",
            "_model_module_version": "1.5.0",
            "_model_name": "ProgressStyleModel",
            "_view_count": null,
            "_view_module": "@jupyter-widgets/base",
            "_view_module_version": "1.2.0",
            "_view_name": "StyleView",
            "bar_color": null,
            "description_width": ""
          }
        },
        "27d340e4e23344c4a5e34895f750d059": {
          "model_module": "@jupyter-widgets/base",
          "model_name": "LayoutModel",
          "model_module_version": "1.2.0",
          "state": {
            "_model_module": "@jupyter-widgets/base",
            "_model_module_version": "1.2.0",
            "_model_name": "LayoutModel",
            "_view_count": null,
            "_view_module": "@jupyter-widgets/base",
            "_view_module_version": "1.2.0",
            "_view_name": "LayoutView",
            "align_content": null,
            "align_items": null,
            "align_self": null,
            "border": null,
            "bottom": null,
            "display": null,
            "flex": null,
            "flex_flow": null,
            "grid_area": null,
            "grid_auto_columns": null,
            "grid_auto_flow": null,
            "grid_auto_rows": null,
            "grid_column": null,
            "grid_gap": null,
            "grid_row": null,
            "grid_template_areas": null,
            "grid_template_columns": null,
            "grid_template_rows": null,
            "height": null,
            "justify_content": null,
            "justify_items": null,
            "left": null,
            "margin": null,
            "max_height": null,
            "max_width": null,
            "min_height": null,
            "min_width": null,
            "object_fit": null,
            "object_position": null,
            "order": null,
            "overflow": null,
            "overflow_x": null,
            "overflow_y": null,
            "padding": null,
            "right": null,
            "top": null,
            "visibility": null,
            "width": null
          }
        },
        "ef6f0dbdddd0441cb4658b2b4a710817": {
          "model_module": "@jupyter-widgets/controls",
          "model_name": "DescriptionStyleModel",
          "model_module_version": "1.5.0",
          "state": {
            "_model_module": "@jupyter-widgets/controls",
            "_model_module_version": "1.5.0",
            "_model_name": "DescriptionStyleModel",
            "_view_count": null,
            "_view_module": "@jupyter-widgets/base",
            "_view_module_version": "1.2.0",
            "_view_name": "StyleView",
            "description_width": ""
          }
        },
        "e9e8582a9104436287acc1ecd8fe0d98": {
          "model_module": "@jupyter-widgets/controls",
          "model_name": "HBoxModel",
          "model_module_version": "1.5.0",
          "state": {
            "_dom_classes": [],
            "_model_module": "@jupyter-widgets/controls",
            "_model_module_version": "1.5.0",
            "_model_name": "HBoxModel",
            "_view_count": null,
            "_view_module": "@jupyter-widgets/controls",
            "_view_module_version": "1.5.0",
            "_view_name": "HBoxView",
            "box_style": "",
            "children": [
              "IPY_MODEL_da3d494af6154bf4a26a08b8f7cc79bf",
              "IPY_MODEL_4a25bcb03e514261be8b615508e72fe5",
              "IPY_MODEL_3b1df072d6604ac7bda2c30a731c6a13"
            ],
            "layout": "IPY_MODEL_a00a6aaee4a64af4a571543b39996be9"
          }
        },
        "da3d494af6154bf4a26a08b8f7cc79bf": {
          "model_module": "@jupyter-widgets/controls",
          "model_name": "HTMLModel",
          "model_module_version": "1.5.0",
          "state": {
            "_dom_classes": [],
            "_model_module": "@jupyter-widgets/controls",
            "_model_module_version": "1.5.0",
            "_model_name": "HTMLModel",
            "_view_count": null,
            "_view_module": "@jupyter-widgets/controls",
            "_view_module_version": "1.5.0",
            "_view_name": "HTMLView",
            "description": "",
            "description_tooltip": null,
            "layout": "IPY_MODEL_53c561acde874317a17618d5ab04f06c",
            "placeholder": "​",
            "style": "IPY_MODEL_521fd8780a614a139b9b400eac451ea1",
            "value": "config.json: 100%"
          }
        },
        "4a25bcb03e514261be8b615508e72fe5": {
          "model_module": "@jupyter-widgets/controls",
          "model_name": "FloatProgressModel",
          "model_module_version": "1.5.0",
          "state": {
            "_dom_classes": [],
            "_model_module": "@jupyter-widgets/controls",
            "_model_module_version": "1.5.0",
            "_model_name": "FloatProgressModel",
            "_view_count": null,
            "_view_module": "@jupyter-widgets/controls",
            "_view_module_version": "1.5.0",
            "_view_name": "ProgressView",
            "bar_style": "success",
            "description": "",
            "description_tooltip": null,
            "layout": "IPY_MODEL_7b722e7da52249498057b91fe085f5b1",
            "max": 539,
            "min": 0,
            "orientation": "horizontal",
            "style": "IPY_MODEL_21e0aa37030649d8b7abd5f1a4d8a827",
            "value": 539
          }
        },
        "3b1df072d6604ac7bda2c30a731c6a13": {
          "model_module": "@jupyter-widgets/controls",
          "model_name": "HTMLModel",
          "model_module_version": "1.5.0",
          "state": {
            "_dom_classes": [],
            "_model_module": "@jupyter-widgets/controls",
            "_model_module_version": "1.5.0",
            "_model_name": "HTMLModel",
            "_view_count": null,
            "_view_module": "@jupyter-widgets/controls",
            "_view_module_version": "1.5.0",
            "_view_name": "HTMLView",
            "description": "",
            "description_tooltip": null,
            "layout": "IPY_MODEL_c013f7a16e67459f8a495d204e8d93f7",
            "placeholder": "​",
            "style": "IPY_MODEL_737775b59e2b4090bf2441234422b342",
            "value": " 539/539 [00:00&lt;00:00, 74.0kB/s]"
          }
        },
        "a00a6aaee4a64af4a571543b39996be9": {
          "model_module": "@jupyter-widgets/base",
          "model_name": "LayoutModel",
          "model_module_version": "1.2.0",
          "state": {
            "_model_module": "@jupyter-widgets/base",
            "_model_module_version": "1.2.0",
            "_model_name": "LayoutModel",
            "_view_count": null,
            "_view_module": "@jupyter-widgets/base",
            "_view_module_version": "1.2.0",
            "_view_name": "LayoutView",
            "align_content": null,
            "align_items": null,
            "align_self": null,
            "border": null,
            "bottom": null,
            "display": null,
            "flex": null,
            "flex_flow": null,
            "grid_area": null,
            "grid_auto_columns": null,
            "grid_auto_flow": null,
            "grid_auto_rows": null,
            "grid_column": null,
            "grid_gap": null,
            "grid_row": null,
            "grid_template_areas": null,
            "grid_template_columns": null,
            "grid_template_rows": null,
            "height": null,
            "justify_content": null,
            "justify_items": null,
            "left": null,
            "margin": null,
            "max_height": null,
            "max_width": null,
            "min_height": null,
            "min_width": null,
            "object_fit": null,
            "object_position": null,
            "order": null,
            "overflow": null,
            "overflow_x": null,
            "overflow_y": null,
            "padding": null,
            "right": null,
            "top": null,
            "visibility": null,
            "width": null
          }
        },
        "53c561acde874317a17618d5ab04f06c": {
          "model_module": "@jupyter-widgets/base",
          "model_name": "LayoutModel",
          "model_module_version": "1.2.0",
          "state": {
            "_model_module": "@jupyter-widgets/base",
            "_model_module_version": "1.2.0",
            "_model_name": "LayoutModel",
            "_view_count": null,
            "_view_module": "@jupyter-widgets/base",
            "_view_module_version": "1.2.0",
            "_view_name": "LayoutView",
            "align_content": null,
            "align_items": null,
            "align_self": null,
            "border": null,
            "bottom": null,
            "display": null,
            "flex": null,
            "flex_flow": null,
            "grid_area": null,
            "grid_auto_columns": null,
            "grid_auto_flow": null,
            "grid_auto_rows": null,
            "grid_column": null,
            "grid_gap": null,
            "grid_row": null,
            "grid_template_areas": null,
            "grid_template_columns": null,
            "grid_template_rows": null,
            "height": null,
            "justify_content": null,
            "justify_items": null,
            "left": null,
            "margin": null,
            "max_height": null,
            "max_width": null,
            "min_height": null,
            "min_width": null,
            "object_fit": null,
            "object_position": null,
            "order": null,
            "overflow": null,
            "overflow_x": null,
            "overflow_y": null,
            "padding": null,
            "right": null,
            "top": null,
            "visibility": null,
            "width": null
          }
        },
        "521fd8780a614a139b9b400eac451ea1": {
          "model_module": "@jupyter-widgets/controls",
          "model_name": "DescriptionStyleModel",
          "model_module_version": "1.5.0",
          "state": {
            "_model_module": "@jupyter-widgets/controls",
            "_model_module_version": "1.5.0",
            "_model_name": "DescriptionStyleModel",
            "_view_count": null,
            "_view_module": "@jupyter-widgets/base",
            "_view_module_version": "1.2.0",
            "_view_name": "StyleView",
            "description_width": ""
          }
        },
        "7b722e7da52249498057b91fe085f5b1": {
          "model_module": "@jupyter-widgets/base",
          "model_name": "LayoutModel",
          "model_module_version": "1.2.0",
          "state": {
            "_model_module": "@jupyter-widgets/base",
            "_model_module_version": "1.2.0",
            "_model_name": "LayoutModel",
            "_view_count": null,
            "_view_module": "@jupyter-widgets/base",
            "_view_module_version": "1.2.0",
            "_view_name": "LayoutView",
            "align_content": null,
            "align_items": null,
            "align_self": null,
            "border": null,
            "bottom": null,
            "display": null,
            "flex": null,
            "flex_flow": null,
            "grid_area": null,
            "grid_auto_columns": null,
            "grid_auto_flow": null,
            "grid_auto_rows": null,
            "grid_column": null,
            "grid_gap": null,
            "grid_row": null,
            "grid_template_areas": null,
            "grid_template_columns": null,
            "grid_template_rows": null,
            "height": null,
            "justify_content": null,
            "justify_items": null,
            "left": null,
            "margin": null,
            "max_height": null,
            "max_width": null,
            "min_height": null,
            "min_width": null,
            "object_fit": null,
            "object_position": null,
            "order": null,
            "overflow": null,
            "overflow_x": null,
            "overflow_y": null,
            "padding": null,
            "right": null,
            "top": null,
            "visibility": null,
            "width": null
          }
        },
        "21e0aa37030649d8b7abd5f1a4d8a827": {
          "model_module": "@jupyter-widgets/controls",
          "model_name": "ProgressStyleModel",
          "model_module_version": "1.5.0",
          "state": {
            "_model_module": "@jupyter-widgets/controls",
            "_model_module_version": "1.5.0",
            "_model_name": "ProgressStyleModel",
            "_view_count": null,
            "_view_module": "@jupyter-widgets/base",
            "_view_module_version": "1.2.0",
            "_view_name": "StyleView",
            "bar_color": null,
            "description_width": ""
          }
        },
        "c013f7a16e67459f8a495d204e8d93f7": {
          "model_module": "@jupyter-widgets/base",
          "model_name": "LayoutModel",
          "model_module_version": "1.2.0",
          "state": {
            "_model_module": "@jupyter-widgets/base",
            "_model_module_version": "1.2.0",
            "_model_name": "LayoutModel",
            "_view_count": null,
            "_view_module": "@jupyter-widgets/base",
            "_view_module_version": "1.2.0",
            "_view_name": "LayoutView",
            "align_content": null,
            "align_items": null,
            "align_self": null,
            "border": null,
            "bottom": null,
            "display": null,
            "flex": null,
            "flex_flow": null,
            "grid_area": null,
            "grid_auto_columns": null,
            "grid_auto_flow": null,
            "grid_auto_rows": null,
            "grid_column": null,
            "grid_gap": null,
            "grid_row": null,
            "grid_template_areas": null,
            "grid_template_columns": null,
            "grid_template_rows": null,
            "height": null,
            "justify_content": null,
            "justify_items": null,
            "left": null,
            "margin": null,
            "max_height": null,
            "max_width": null,
            "min_height": null,
            "min_width": null,
            "object_fit": null,
            "object_position": null,
            "order": null,
            "overflow": null,
            "overflow_x": null,
            "overflow_y": null,
            "padding": null,
            "right": null,
            "top": null,
            "visibility": null,
            "width": null
          }
        },
        "737775b59e2b4090bf2441234422b342": {
          "model_module": "@jupyter-widgets/controls",
          "model_name": "DescriptionStyleModel",
          "model_module_version": "1.5.0",
          "state": {
            "_model_module": "@jupyter-widgets/controls",
            "_model_module_version": "1.5.0",
            "_model_name": "DescriptionStyleModel",
            "_view_count": null,
            "_view_module": "@jupyter-widgets/base",
            "_view_module_version": "1.2.0",
            "_view_name": "StyleView",
            "description_width": ""
          }
        },
        "66c1c624f4b4434f897451e2be9f82c0": {
          "model_module": "@jupyter-widgets/controls",
          "model_name": "HBoxModel",
          "model_module_version": "1.5.0",
          "state": {
            "_dom_classes": [],
            "_model_module": "@jupyter-widgets/controls",
            "_model_module_version": "1.5.0",
            "_model_name": "HBoxModel",
            "_view_count": null,
            "_view_module": "@jupyter-widgets/controls",
            "_view_module_version": "1.5.0",
            "_view_name": "HBoxView",
            "box_style": "",
            "children": [
              "IPY_MODEL_dacbebba2ed945c2abcfc487bf84cf67",
              "IPY_MODEL_c72901d4096c432bb4507df052b6effa",
              "IPY_MODEL_0ac7c5ef517144b78c11d94b9c81df78"
            ],
            "layout": "IPY_MODEL_ab0d09b0a46a4ea6b91c2f526e4b5283"
          }
        },
        "dacbebba2ed945c2abcfc487bf84cf67": {
          "model_module": "@jupyter-widgets/controls",
          "model_name": "HTMLModel",
          "model_module_version": "1.5.0",
          "state": {
            "_dom_classes": [],
            "_model_module": "@jupyter-widgets/controls",
            "_model_module_version": "1.5.0",
            "_model_name": "HTMLModel",
            "_view_count": null,
            "_view_module": "@jupyter-widgets/controls",
            "_view_module_version": "1.5.0",
            "_view_name": "HTMLView",
            "description": "",
            "description_tooltip": null,
            "layout": "IPY_MODEL_1b4a8f2e746d48c0a1c8e72506f5a7bf",
            "placeholder": "​",
            "style": "IPY_MODEL_9b19122b022345799bd8dd520de702b7",
            "value": "vocab.json: 100%"
          }
        },
        "c72901d4096c432bb4507df052b6effa": {
          "model_module": "@jupyter-widgets/controls",
          "model_name": "FloatProgressModel",
          "model_module_version": "1.5.0",
          "state": {
            "_dom_classes": [],
            "_model_module": "@jupyter-widgets/controls",
            "_model_module_version": "1.5.0",
            "_model_name": "FloatProgressModel",
            "_view_count": null,
            "_view_module": "@jupyter-widgets/controls",
            "_view_module_version": "1.5.0",
            "_view_name": "ProgressView",
            "bar_style": "success",
            "description": "",
            "description_tooltip": null,
            "layout": "IPY_MODEL_90eb672d6131425a9e1403be3738fe30",
            "max": 898822,
            "min": 0,
            "orientation": "horizontal",
            "style": "IPY_MODEL_7c3e937919014d49a5193d9d0f703693",
            "value": 898822
          }
        },
        "0ac7c5ef517144b78c11d94b9c81df78": {
          "model_module": "@jupyter-widgets/controls",
          "model_name": "HTMLModel",
          "model_module_version": "1.5.0",
          "state": {
            "_dom_classes": [],
            "_model_module": "@jupyter-widgets/controls",
            "_model_module_version": "1.5.0",
            "_model_name": "HTMLModel",
            "_view_count": null,
            "_view_module": "@jupyter-widgets/controls",
            "_view_module_version": "1.5.0",
            "_view_name": "HTMLView",
            "description": "",
            "description_tooltip": null,
            "layout": "IPY_MODEL_54ed581a7be84514a908503544b412c4",
            "placeholder": "​",
            "style": "IPY_MODEL_bd616e4f656748d39d4cdf6e6f80ca20",
            "value": " 899k/899k [00:00&lt;00:00, 3.63MB/s]"
          }
        },
        "ab0d09b0a46a4ea6b91c2f526e4b5283": {
          "model_module": "@jupyter-widgets/base",
          "model_name": "LayoutModel",
          "model_module_version": "1.2.0",
          "state": {
            "_model_module": "@jupyter-widgets/base",
            "_model_module_version": "1.2.0",
            "_model_name": "LayoutModel",
            "_view_count": null,
            "_view_module": "@jupyter-widgets/base",
            "_view_module_version": "1.2.0",
            "_view_name": "LayoutView",
            "align_content": null,
            "align_items": null,
            "align_self": null,
            "border": null,
            "bottom": null,
            "display": null,
            "flex": null,
            "flex_flow": null,
            "grid_area": null,
            "grid_auto_columns": null,
            "grid_auto_flow": null,
            "grid_auto_rows": null,
            "grid_column": null,
            "grid_gap": null,
            "grid_row": null,
            "grid_template_areas": null,
            "grid_template_columns": null,
            "grid_template_rows": null,
            "height": null,
            "justify_content": null,
            "justify_items": null,
            "left": null,
            "margin": null,
            "max_height": null,
            "max_width": null,
            "min_height": null,
            "min_width": null,
            "object_fit": null,
            "object_position": null,
            "order": null,
            "overflow": null,
            "overflow_x": null,
            "overflow_y": null,
            "padding": null,
            "right": null,
            "top": null,
            "visibility": null,
            "width": null
          }
        },
        "1b4a8f2e746d48c0a1c8e72506f5a7bf": {
          "model_module": "@jupyter-widgets/base",
          "model_name": "LayoutModel",
          "model_module_version": "1.2.0",
          "state": {
            "_model_module": "@jupyter-widgets/base",
            "_model_module_version": "1.2.0",
            "_model_name": "LayoutModel",
            "_view_count": null,
            "_view_module": "@jupyter-widgets/base",
            "_view_module_version": "1.2.0",
            "_view_name": "LayoutView",
            "align_content": null,
            "align_items": null,
            "align_self": null,
            "border": null,
            "bottom": null,
            "display": null,
            "flex": null,
            "flex_flow": null,
            "grid_area": null,
            "grid_auto_columns": null,
            "grid_auto_flow": null,
            "grid_auto_rows": null,
            "grid_column": null,
            "grid_gap": null,
            "grid_row": null,
            "grid_template_areas": null,
            "grid_template_columns": null,
            "grid_template_rows": null,
            "height": null,
            "justify_content": null,
            "justify_items": null,
            "left": null,
            "margin": null,
            "max_height": null,
            "max_width": null,
            "min_height": null,
            "min_width": null,
            "object_fit": null,
            "object_position": null,
            "order": null,
            "overflow": null,
            "overflow_x": null,
            "overflow_y": null,
            "padding": null,
            "right": null,
            "top": null,
            "visibility": null,
            "width": null
          }
        },
        "9b19122b022345799bd8dd520de702b7": {
          "model_module": "@jupyter-widgets/controls",
          "model_name": "DescriptionStyleModel",
          "model_module_version": "1.5.0",
          "state": {
            "_model_module": "@jupyter-widgets/controls",
            "_model_module_version": "1.5.0",
            "_model_name": "DescriptionStyleModel",
            "_view_count": null,
            "_view_module": "@jupyter-widgets/base",
            "_view_module_version": "1.2.0",
            "_view_name": "StyleView",
            "description_width": ""
          }
        },
        "90eb672d6131425a9e1403be3738fe30": {
          "model_module": "@jupyter-widgets/base",
          "model_name": "LayoutModel",
          "model_module_version": "1.2.0",
          "state": {
            "_model_module": "@jupyter-widgets/base",
            "_model_module_version": "1.2.0",
            "_model_name": "LayoutModel",
            "_view_count": null,
            "_view_module": "@jupyter-widgets/base",
            "_view_module_version": "1.2.0",
            "_view_name": "LayoutView",
            "align_content": null,
            "align_items": null,
            "align_self": null,
            "border": null,
            "bottom": null,
            "display": null,
            "flex": null,
            "flex_flow": null,
            "grid_area": null,
            "grid_auto_columns": null,
            "grid_auto_flow": null,
            "grid_auto_rows": null,
            "grid_column": null,
            "grid_gap": null,
            "grid_row": null,
            "grid_template_areas": null,
            "grid_template_columns": null,
            "grid_template_rows": null,
            "height": null,
            "justify_content": null,
            "justify_items": null,
            "left": null,
            "margin": null,
            "max_height": null,
            "max_width": null,
            "min_height": null,
            "min_width": null,
            "object_fit": null,
            "object_position": null,
            "order": null,
            "overflow": null,
            "overflow_x": null,
            "overflow_y": null,
            "padding": null,
            "right": null,
            "top": null,
            "visibility": null,
            "width": null
          }
        },
        "7c3e937919014d49a5193d9d0f703693": {
          "model_module": "@jupyter-widgets/controls",
          "model_name": "ProgressStyleModel",
          "model_module_version": "1.5.0",
          "state": {
            "_model_module": "@jupyter-widgets/controls",
            "_model_module_version": "1.5.0",
            "_model_name": "ProgressStyleModel",
            "_view_count": null,
            "_view_module": "@jupyter-widgets/base",
            "_view_module_version": "1.2.0",
            "_view_name": "StyleView",
            "bar_color": null,
            "description_width": ""
          }
        },
        "54ed581a7be84514a908503544b412c4": {
          "model_module": "@jupyter-widgets/base",
          "model_name": "LayoutModel",
          "model_module_version": "1.2.0",
          "state": {
            "_model_module": "@jupyter-widgets/base",
            "_model_module_version": "1.2.0",
            "_model_name": "LayoutModel",
            "_view_count": null,
            "_view_module": "@jupyter-widgets/base",
            "_view_module_version": "1.2.0",
            "_view_name": "LayoutView",
            "align_content": null,
            "align_items": null,
            "align_self": null,
            "border": null,
            "bottom": null,
            "display": null,
            "flex": null,
            "flex_flow": null,
            "grid_area": null,
            "grid_auto_columns": null,
            "grid_auto_flow": null,
            "grid_auto_rows": null,
            "grid_column": null,
            "grid_gap": null,
            "grid_row": null,
            "grid_template_areas": null,
            "grid_template_columns": null,
            "grid_template_rows": null,
            "height": null,
            "justify_content": null,
            "justify_items": null,
            "left": null,
            "margin": null,
            "max_height": null,
            "max_width": null,
            "min_height": null,
            "min_width": null,
            "object_fit": null,
            "object_position": null,
            "order": null,
            "overflow": null,
            "overflow_x": null,
            "overflow_y": null,
            "padding": null,
            "right": null,
            "top": null,
            "visibility": null,
            "width": null
          }
        },
        "bd616e4f656748d39d4cdf6e6f80ca20": {
          "model_module": "@jupyter-widgets/controls",
          "model_name": "DescriptionStyleModel",
          "model_module_version": "1.5.0",
          "state": {
            "_model_module": "@jupyter-widgets/controls",
            "_model_module_version": "1.5.0",
            "_model_name": "DescriptionStyleModel",
            "_view_count": null,
            "_view_module": "@jupyter-widgets/base",
            "_view_module_version": "1.2.0",
            "_view_name": "StyleView",
            "description_width": ""
          }
        },
        "05a15b594f6848f0a250ce2bb0b128aa": {
          "model_module": "@jupyter-widgets/controls",
          "model_name": "HBoxModel",
          "model_module_version": "1.5.0",
          "state": {
            "_dom_classes": [],
            "_model_module": "@jupyter-widgets/controls",
            "_model_module_version": "1.5.0",
            "_model_name": "HBoxModel",
            "_view_count": null,
            "_view_module": "@jupyter-widgets/controls",
            "_view_module_version": "1.5.0",
            "_view_name": "HBoxView",
            "box_style": "",
            "children": [
              "IPY_MODEL_e3160e218ad14e7eb3df9a7b0df3f12c",
              "IPY_MODEL_45094c9fae5b4b62a6701461b02639d0",
              "IPY_MODEL_b8d494c3894d4cc9a0a36551b878a5d0"
            ],
            "layout": "IPY_MODEL_22797ff193464454a7a81187f72e8030"
          }
        },
        "e3160e218ad14e7eb3df9a7b0df3f12c": {
          "model_module": "@jupyter-widgets/controls",
          "model_name": "HTMLModel",
          "model_module_version": "1.5.0",
          "state": {
            "_dom_classes": [],
            "_model_module": "@jupyter-widgets/controls",
            "_model_module_version": "1.5.0",
            "_model_name": "HTMLModel",
            "_view_count": null,
            "_view_module": "@jupyter-widgets/controls",
            "_view_module_version": "1.5.0",
            "_view_name": "HTMLView",
            "description": "",
            "description_tooltip": null,
            "layout": "IPY_MODEL_7bd2c56fca494a4e853b77f3b770b828",
            "placeholder": "​",
            "style": "IPY_MODEL_be950724eaa7408c9ab9149bc48b2f1a",
            "value": "merges.txt: 100%"
          }
        },
        "45094c9fae5b4b62a6701461b02639d0": {
          "model_module": "@jupyter-widgets/controls",
          "model_name": "FloatProgressModel",
          "model_module_version": "1.5.0",
          "state": {
            "_dom_classes": [],
            "_model_module": "@jupyter-widgets/controls",
            "_model_module_version": "1.5.0",
            "_model_name": "FloatProgressModel",
            "_view_count": null,
            "_view_module": "@jupyter-widgets/controls",
            "_view_module_version": "1.5.0",
            "_view_name": "ProgressView",
            "bar_style": "success",
            "description": "",
            "description_tooltip": null,
            "layout": "IPY_MODEL_18a30a2cb42f49bf90a77da6c25788d8",
            "max": 456318,
            "min": 0,
            "orientation": "horizontal",
            "style": "IPY_MODEL_862bd286d5084c5d9f5467444ec52eb0",
            "value": 456318
          }
        },
        "b8d494c3894d4cc9a0a36551b878a5d0": {
          "model_module": "@jupyter-widgets/controls",
          "model_name": "HTMLModel",
          "model_module_version": "1.5.0",
          "state": {
            "_dom_classes": [],
            "_model_module": "@jupyter-widgets/controls",
            "_model_module_version": "1.5.0",
            "_model_name": "HTMLModel",
            "_view_count": null,
            "_view_module": "@jupyter-widgets/controls",
            "_view_module_version": "1.5.0",
            "_view_name": "HTMLView",
            "description": "",
            "description_tooltip": null,
            "layout": "IPY_MODEL_0ea362aa92de43cc90830f9126f487c8",
            "placeholder": "​",
            "style": "IPY_MODEL_b1c73a91607c4b53bd238296bea20406",
            "value": " 456k/456k [00:00&lt;00:00, 2.82MB/s]"
          }
        },
        "22797ff193464454a7a81187f72e8030": {
          "model_module": "@jupyter-widgets/base",
          "model_name": "LayoutModel",
          "model_module_version": "1.2.0",
          "state": {
            "_model_module": "@jupyter-widgets/base",
            "_model_module_version": "1.2.0",
            "_model_name": "LayoutModel",
            "_view_count": null,
            "_view_module": "@jupyter-widgets/base",
            "_view_module_version": "1.2.0",
            "_view_name": "LayoutView",
            "align_content": null,
            "align_items": null,
            "align_self": null,
            "border": null,
            "bottom": null,
            "display": null,
            "flex": null,
            "flex_flow": null,
            "grid_area": null,
            "grid_auto_columns": null,
            "grid_auto_flow": null,
            "grid_auto_rows": null,
            "grid_column": null,
            "grid_gap": null,
            "grid_row": null,
            "grid_template_areas": null,
            "grid_template_columns": null,
            "grid_template_rows": null,
            "height": null,
            "justify_content": null,
            "justify_items": null,
            "left": null,
            "margin": null,
            "max_height": null,
            "max_width": null,
            "min_height": null,
            "min_width": null,
            "object_fit": null,
            "object_position": null,
            "order": null,
            "overflow": null,
            "overflow_x": null,
            "overflow_y": null,
            "padding": null,
            "right": null,
            "top": null,
            "visibility": null,
            "width": null
          }
        },
        "7bd2c56fca494a4e853b77f3b770b828": {
          "model_module": "@jupyter-widgets/base",
          "model_name": "LayoutModel",
          "model_module_version": "1.2.0",
          "state": {
            "_model_module": "@jupyter-widgets/base",
            "_model_module_version": "1.2.0",
            "_model_name": "LayoutModel",
            "_view_count": null,
            "_view_module": "@jupyter-widgets/base",
            "_view_module_version": "1.2.0",
            "_view_name": "LayoutView",
            "align_content": null,
            "align_items": null,
            "align_self": null,
            "border": null,
            "bottom": null,
            "display": null,
            "flex": null,
            "flex_flow": null,
            "grid_area": null,
            "grid_auto_columns": null,
            "grid_auto_flow": null,
            "grid_auto_rows": null,
            "grid_column": null,
            "grid_gap": null,
            "grid_row": null,
            "grid_template_areas": null,
            "grid_template_columns": null,
            "grid_template_rows": null,
            "height": null,
            "justify_content": null,
            "justify_items": null,
            "left": null,
            "margin": null,
            "max_height": null,
            "max_width": null,
            "min_height": null,
            "min_width": null,
            "object_fit": null,
            "object_position": null,
            "order": null,
            "overflow": null,
            "overflow_x": null,
            "overflow_y": null,
            "padding": null,
            "right": null,
            "top": null,
            "visibility": null,
            "width": null
          }
        },
        "be950724eaa7408c9ab9149bc48b2f1a": {
          "model_module": "@jupyter-widgets/controls",
          "model_name": "DescriptionStyleModel",
          "model_module_version": "1.5.0",
          "state": {
            "_model_module": "@jupyter-widgets/controls",
            "_model_module_version": "1.5.0",
            "_model_name": "DescriptionStyleModel",
            "_view_count": null,
            "_view_module": "@jupyter-widgets/base",
            "_view_module_version": "1.2.0",
            "_view_name": "StyleView",
            "description_width": ""
          }
        },
        "18a30a2cb42f49bf90a77da6c25788d8": {
          "model_module": "@jupyter-widgets/base",
          "model_name": "LayoutModel",
          "model_module_version": "1.2.0",
          "state": {
            "_model_module": "@jupyter-widgets/base",
            "_model_module_version": "1.2.0",
            "_model_name": "LayoutModel",
            "_view_count": null,
            "_view_module": "@jupyter-widgets/base",
            "_view_module_version": "1.2.0",
            "_view_name": "LayoutView",
            "align_content": null,
            "align_items": null,
            "align_self": null,
            "border": null,
            "bottom": null,
            "display": null,
            "flex": null,
            "flex_flow": null,
            "grid_area": null,
            "grid_auto_columns": null,
            "grid_auto_flow": null,
            "grid_auto_rows": null,
            "grid_column": null,
            "grid_gap": null,
            "grid_row": null,
            "grid_template_areas": null,
            "grid_template_columns": null,
            "grid_template_rows": null,
            "height": null,
            "justify_content": null,
            "justify_items": null,
            "left": null,
            "margin": null,
            "max_height": null,
            "max_width": null,
            "min_height": null,
            "min_width": null,
            "object_fit": null,
            "object_position": null,
            "order": null,
            "overflow": null,
            "overflow_x": null,
            "overflow_y": null,
            "padding": null,
            "right": null,
            "top": null,
            "visibility": null,
            "width": null
          }
        },
        "862bd286d5084c5d9f5467444ec52eb0": {
          "model_module": "@jupyter-widgets/controls",
          "model_name": "ProgressStyleModel",
          "model_module_version": "1.5.0",
          "state": {
            "_model_module": "@jupyter-widgets/controls",
            "_model_module_version": "1.5.0",
            "_model_name": "ProgressStyleModel",
            "_view_count": null,
            "_view_module": "@jupyter-widgets/base",
            "_view_module_version": "1.2.0",
            "_view_name": "StyleView",
            "bar_color": null,
            "description_width": ""
          }
        },
        "0ea362aa92de43cc90830f9126f487c8": {
          "model_module": "@jupyter-widgets/base",
          "model_name": "LayoutModel",
          "model_module_version": "1.2.0",
          "state": {
            "_model_module": "@jupyter-widgets/base",
            "_model_module_version": "1.2.0",
            "_model_name": "LayoutModel",
            "_view_count": null,
            "_view_module": "@jupyter-widgets/base",
            "_view_module_version": "1.2.0",
            "_view_name": "LayoutView",
            "align_content": null,
            "align_items": null,
            "align_self": null,
            "border": null,
            "bottom": null,
            "display": null,
            "flex": null,
            "flex_flow": null,
            "grid_area": null,
            "grid_auto_columns": null,
            "grid_auto_flow": null,
            "grid_auto_rows": null,
            "grid_column": null,
            "grid_gap": null,
            "grid_row": null,
            "grid_template_areas": null,
            "grid_template_columns": null,
            "grid_template_rows": null,
            "height": null,
            "justify_content": null,
            "justify_items": null,
            "left": null,
            "margin": null,
            "max_height": null,
            "max_width": null,
            "min_height": null,
            "min_width": null,
            "object_fit": null,
            "object_position": null,
            "order": null,
            "overflow": null,
            "overflow_x": null,
            "overflow_y": null,
            "padding": null,
            "right": null,
            "top": null,
            "visibility": null,
            "width": null
          }
        },
        "b1c73a91607c4b53bd238296bea20406": {
          "model_module": "@jupyter-widgets/controls",
          "model_name": "DescriptionStyleModel",
          "model_module_version": "1.5.0",
          "state": {
            "_model_module": "@jupyter-widgets/controls",
            "_model_module_version": "1.5.0",
            "_model_name": "DescriptionStyleModel",
            "_view_count": null,
            "_view_module": "@jupyter-widgets/base",
            "_view_module_version": "1.2.0",
            "_view_name": "StyleView",
            "description_width": ""
          }
        },
        "03443f4e75ca43fb84aed9dfa7e407d1": {
          "model_module": "@jupyter-widgets/controls",
          "model_name": "HBoxModel",
          "model_module_version": "1.5.0",
          "state": {
            "_dom_classes": [],
            "_model_module": "@jupyter-widgets/controls",
            "_model_module_version": "1.5.0",
            "_model_name": "HBoxModel",
            "_view_count": null,
            "_view_module": "@jupyter-widgets/controls",
            "_view_module_version": "1.5.0",
            "_view_name": "HBoxView",
            "box_style": "",
            "children": [
              "IPY_MODEL_de8739ce96fd4a9e8fe090fc32eafe64",
              "IPY_MODEL_c2bada6cd9284eccbb9a2b89755dee4e",
              "IPY_MODEL_2e1d66abd8f74faa9b9ec2f3bb6865a7"
            ],
            "layout": "IPY_MODEL_17369d8bbea4443e9c51fdd319fe53b0"
          }
        },
        "de8739ce96fd4a9e8fe090fc32eafe64": {
          "model_module": "@jupyter-widgets/controls",
          "model_name": "HTMLModel",
          "model_module_version": "1.5.0",
          "state": {
            "_dom_classes": [],
            "_model_module": "@jupyter-widgets/controls",
            "_model_module_version": "1.5.0",
            "_model_name": "HTMLModel",
            "_view_count": null,
            "_view_module": "@jupyter-widgets/controls",
            "_view_module_version": "1.5.0",
            "_view_name": "HTMLView",
            "description": "",
            "description_tooltip": null,
            "layout": "IPY_MODEL_7717e8bc351f416ebc54ad13749fc776",
            "placeholder": "​",
            "style": "IPY_MODEL_29f4ee65c547461da283c5657e423667",
            "value": "special_tokens_map.json: 100%"
          }
        },
        "c2bada6cd9284eccbb9a2b89755dee4e": {
          "model_module": "@jupyter-widgets/controls",
          "model_name": "FloatProgressModel",
          "model_module_version": "1.5.0",
          "state": {
            "_dom_classes": [],
            "_model_module": "@jupyter-widgets/controls",
            "_model_module_version": "1.5.0",
            "_model_name": "FloatProgressModel",
            "_view_count": null,
            "_view_module": "@jupyter-widgets/controls",
            "_view_module_version": "1.5.0",
            "_view_name": "ProgressView",
            "bar_style": "success",
            "description": "",
            "description_tooltip": null,
            "layout": "IPY_MODEL_4d5cf435db5446958108ae994bbff1eb",
            "max": 772,
            "min": 0,
            "orientation": "horizontal",
            "style": "IPY_MODEL_3ea31c5dedc743ce82472532fb686bb7",
            "value": 772
          }
        },
        "2e1d66abd8f74faa9b9ec2f3bb6865a7": {
          "model_module": "@jupyter-widgets/controls",
          "model_name": "HTMLModel",
          "model_module_version": "1.5.0",
          "state": {
            "_dom_classes": [],
            "_model_module": "@jupyter-widgets/controls",
            "_model_module_version": "1.5.0",
            "_model_name": "HTMLModel",
            "_view_count": null,
            "_view_module": "@jupyter-widgets/controls",
            "_view_module_version": "1.5.0",
            "_view_name": "HTMLView",
            "description": "",
            "description_tooltip": null,
            "layout": "IPY_MODEL_b5ea8d4023a8434d8cb4481475cb623a",
            "placeholder": "​",
            "style": "IPY_MODEL_f0960103a74841eab61957217b30594d",
            "value": " 772/772 [00:00&lt;00:00, 83.4kB/s]"
          }
        },
        "17369d8bbea4443e9c51fdd319fe53b0": {
          "model_module": "@jupyter-widgets/base",
          "model_name": "LayoutModel",
          "model_module_version": "1.2.0",
          "state": {
            "_model_module": "@jupyter-widgets/base",
            "_model_module_version": "1.2.0",
            "_model_name": "LayoutModel",
            "_view_count": null,
            "_view_module": "@jupyter-widgets/base",
            "_view_module_version": "1.2.0",
            "_view_name": "LayoutView",
            "align_content": null,
            "align_items": null,
            "align_self": null,
            "border": null,
            "bottom": null,
            "display": null,
            "flex": null,
            "flex_flow": null,
            "grid_area": null,
            "grid_auto_columns": null,
            "grid_auto_flow": null,
            "grid_auto_rows": null,
            "grid_column": null,
            "grid_gap": null,
            "grid_row": null,
            "grid_template_areas": null,
            "grid_template_columns": null,
            "grid_template_rows": null,
            "height": null,
            "justify_content": null,
            "justify_items": null,
            "left": null,
            "margin": null,
            "max_height": null,
            "max_width": null,
            "min_height": null,
            "min_width": null,
            "object_fit": null,
            "object_position": null,
            "order": null,
            "overflow": null,
            "overflow_x": null,
            "overflow_y": null,
            "padding": null,
            "right": null,
            "top": null,
            "visibility": null,
            "width": null
          }
        },
        "7717e8bc351f416ebc54ad13749fc776": {
          "model_module": "@jupyter-widgets/base",
          "model_name": "LayoutModel",
          "model_module_version": "1.2.0",
          "state": {
            "_model_module": "@jupyter-widgets/base",
            "_model_module_version": "1.2.0",
            "_model_name": "LayoutModel",
            "_view_count": null,
            "_view_module": "@jupyter-widgets/base",
            "_view_module_version": "1.2.0",
            "_view_name": "LayoutView",
            "align_content": null,
            "align_items": null,
            "align_self": null,
            "border": null,
            "bottom": null,
            "display": null,
            "flex": null,
            "flex_flow": null,
            "grid_area": null,
            "grid_auto_columns": null,
            "grid_auto_flow": null,
            "grid_auto_rows": null,
            "grid_column": null,
            "grid_gap": null,
            "grid_row": null,
            "grid_template_areas": null,
            "grid_template_columns": null,
            "grid_template_rows": null,
            "height": null,
            "justify_content": null,
            "justify_items": null,
            "left": null,
            "margin": null,
            "max_height": null,
            "max_width": null,
            "min_height": null,
            "min_width": null,
            "object_fit": null,
            "object_position": null,
            "order": null,
            "overflow": null,
            "overflow_x": null,
            "overflow_y": null,
            "padding": null,
            "right": null,
            "top": null,
            "visibility": null,
            "width": null
          }
        },
        "29f4ee65c547461da283c5657e423667": {
          "model_module": "@jupyter-widgets/controls",
          "model_name": "DescriptionStyleModel",
          "model_module_version": "1.5.0",
          "state": {
            "_model_module": "@jupyter-widgets/controls",
            "_model_module_version": "1.5.0",
            "_model_name": "DescriptionStyleModel",
            "_view_count": null,
            "_view_module": "@jupyter-widgets/base",
            "_view_module_version": "1.2.0",
            "_view_name": "StyleView",
            "description_width": ""
          }
        },
        "4d5cf435db5446958108ae994bbff1eb": {
          "model_module": "@jupyter-widgets/base",
          "model_name": "LayoutModel",
          "model_module_version": "1.2.0",
          "state": {
            "_model_module": "@jupyter-widgets/base",
            "_model_module_version": "1.2.0",
            "_model_name": "LayoutModel",
            "_view_count": null,
            "_view_module": "@jupyter-widgets/base",
            "_view_module_version": "1.2.0",
            "_view_name": "LayoutView",
            "align_content": null,
            "align_items": null,
            "align_self": null,
            "border": null,
            "bottom": null,
            "display": null,
            "flex": null,
            "flex_flow": null,
            "grid_area": null,
            "grid_auto_columns": null,
            "grid_auto_flow": null,
            "grid_auto_rows": null,
            "grid_column": null,
            "grid_gap": null,
            "grid_row": null,
            "grid_template_areas": null,
            "grid_template_columns": null,
            "grid_template_rows": null,
            "height": null,
            "justify_content": null,
            "justify_items": null,
            "left": null,
            "margin": null,
            "max_height": null,
            "max_width": null,
            "min_height": null,
            "min_width": null,
            "object_fit": null,
            "object_position": null,
            "order": null,
            "overflow": null,
            "overflow_x": null,
            "overflow_y": null,
            "padding": null,
            "right": null,
            "top": null,
            "visibility": null,
            "width": null
          }
        },
        "3ea31c5dedc743ce82472532fb686bb7": {
          "model_module": "@jupyter-widgets/controls",
          "model_name": "ProgressStyleModel",
          "model_module_version": "1.5.0",
          "state": {
            "_model_module": "@jupyter-widgets/controls",
            "_model_module_version": "1.5.0",
            "_model_name": "ProgressStyleModel",
            "_view_count": null,
            "_view_module": "@jupyter-widgets/base",
            "_view_module_version": "1.2.0",
            "_view_name": "StyleView",
            "bar_color": null,
            "description_width": ""
          }
        },
        "b5ea8d4023a8434d8cb4481475cb623a": {
          "model_module": "@jupyter-widgets/base",
          "model_name": "LayoutModel",
          "model_module_version": "1.2.0",
          "state": {
            "_model_module": "@jupyter-widgets/base",
            "_model_module_version": "1.2.0",
            "_model_name": "LayoutModel",
            "_view_count": null,
            "_view_module": "@jupyter-widgets/base",
            "_view_module_version": "1.2.0",
            "_view_name": "LayoutView",
            "align_content": null,
            "align_items": null,
            "align_self": null,
            "border": null,
            "bottom": null,
            "display": null,
            "flex": null,
            "flex_flow": null,
            "grid_area": null,
            "grid_auto_columns": null,
            "grid_auto_flow": null,
            "grid_auto_rows": null,
            "grid_column": null,
            "grid_gap": null,
            "grid_row": null,
            "grid_template_areas": null,
            "grid_template_columns": null,
            "grid_template_rows": null,
            "height": null,
            "justify_content": null,
            "justify_items": null,
            "left": null,
            "margin": null,
            "max_height": null,
            "max_width": null,
            "min_height": null,
            "min_width": null,
            "object_fit": null,
            "object_position": null,
            "order": null,
            "overflow": null,
            "overflow_x": null,
            "overflow_y": null,
            "padding": null,
            "right": null,
            "top": null,
            "visibility": null,
            "width": null
          }
        },
        "f0960103a74841eab61957217b30594d": {
          "model_module": "@jupyter-widgets/controls",
          "model_name": "DescriptionStyleModel",
          "model_module_version": "1.5.0",
          "state": {
            "_model_module": "@jupyter-widgets/controls",
            "_model_module_version": "1.5.0",
            "_model_name": "DescriptionStyleModel",
            "_view_count": null,
            "_view_module": "@jupyter-widgets/base",
            "_view_module_version": "1.2.0",
            "_view_name": "StyleView",
            "description_width": ""
          }
        },
        "29d46bf187274794aaf71c017b9dabe8": {
          "model_module": "@jupyter-widgets/controls",
          "model_name": "HBoxModel",
          "model_module_version": "1.5.0",
          "state": {
            "_dom_classes": [],
            "_model_module": "@jupyter-widgets/controls",
            "_model_module_version": "1.5.0",
            "_model_name": "HBoxModel",
            "_view_count": null,
            "_view_module": "@jupyter-widgets/controls",
            "_view_module_version": "1.5.0",
            "_view_name": "HBoxView",
            "box_style": "",
            "children": [
              "IPY_MODEL_e6471ae0e12340f990515465468ef89e",
              "IPY_MODEL_e84e5538caba4142806fd541ebd6d1cf",
              "IPY_MODEL_34b9b64cd5ea4b9397c02e94024a3f37"
            ],
            "layout": "IPY_MODEL_71c133cfd8f14d11a70f133a933b37e6"
          }
        },
        "e6471ae0e12340f990515465468ef89e": {
          "model_module": "@jupyter-widgets/controls",
          "model_name": "HTMLModel",
          "model_module_version": "1.5.0",
          "state": {
            "_dom_classes": [],
            "_model_module": "@jupyter-widgets/controls",
            "_model_module_version": "1.5.0",
            "_model_name": "HTMLModel",
            "_view_count": null,
            "_view_module": "@jupyter-widgets/controls",
            "_view_module_version": "1.5.0",
            "_view_name": "HTMLView",
            "description": "",
            "description_tooltip": null,
            "layout": "IPY_MODEL_6a6c2dee363c440492f8b48236021fe8",
            "placeholder": "​",
            "style": "IPY_MODEL_dfa36771281245ab99329c7b4909f356",
            "value": "pytorch_model.bin: 100%"
          }
        },
        "e84e5538caba4142806fd541ebd6d1cf": {
          "model_module": "@jupyter-widgets/controls",
          "model_name": "FloatProgressModel",
          "model_module_version": "1.5.0",
          "state": {
            "_dom_classes": [],
            "_model_module": "@jupyter-widgets/controls",
            "_model_module_version": "1.5.0",
            "_model_name": "FloatProgressModel",
            "_view_count": null,
            "_view_module": "@jupyter-widgets/controls",
            "_view_module_version": "1.5.0",
            "_view_name": "ProgressView",
            "bar_style": "success",
            "description": "",
            "description_tooltip": null,
            "layout": "IPY_MODEL_c0542d017334498f9b0d34487f605320",
            "max": 498845934,
            "min": 0,
            "orientation": "horizontal",
            "style": "IPY_MODEL_515b7ad48d3b45faaec8acc95a01f547",
            "value": 498845934
          }
        },
        "34b9b64cd5ea4b9397c02e94024a3f37": {
          "model_module": "@jupyter-widgets/controls",
          "model_name": "HTMLModel",
          "model_module_version": "1.5.0",
          "state": {
            "_dom_classes": [],
            "_model_module": "@jupyter-widgets/controls",
            "_model_module_version": "1.5.0",
            "_model_name": "HTMLModel",
            "_view_count": null,
            "_view_module": "@jupyter-widgets/controls",
            "_view_module_version": "1.5.0",
            "_view_name": "HTMLView",
            "description": "",
            "description_tooltip": null,
            "layout": "IPY_MODEL_60f738e0c8764f189c7a9dfc91b80417",
            "placeholder": "​",
            "style": "IPY_MODEL_507c35c1c5b84e9d8f1648de48734eb4",
            "value": " 499M/499M [00:02&lt;00:00, 247MB/s]"
          }
        },
        "71c133cfd8f14d11a70f133a933b37e6": {
          "model_module": "@jupyter-widgets/base",
          "model_name": "LayoutModel",
          "model_module_version": "1.2.0",
          "state": {
            "_model_module": "@jupyter-widgets/base",
            "_model_module_version": "1.2.0",
            "_model_name": "LayoutModel",
            "_view_count": null,
            "_view_module": "@jupyter-widgets/base",
            "_view_module_version": "1.2.0",
            "_view_name": "LayoutView",
            "align_content": null,
            "align_items": null,
            "align_self": null,
            "border": null,
            "bottom": null,
            "display": null,
            "flex": null,
            "flex_flow": null,
            "grid_area": null,
            "grid_auto_columns": null,
            "grid_auto_flow": null,
            "grid_auto_rows": null,
            "grid_column": null,
            "grid_gap": null,
            "grid_row": null,
            "grid_template_areas": null,
            "grid_template_columns": null,
            "grid_template_rows": null,
            "height": null,
            "justify_content": null,
            "justify_items": null,
            "left": null,
            "margin": null,
            "max_height": null,
            "max_width": null,
            "min_height": null,
            "min_width": null,
            "object_fit": null,
            "object_position": null,
            "order": null,
            "overflow": null,
            "overflow_x": null,
            "overflow_y": null,
            "padding": null,
            "right": null,
            "top": null,
            "visibility": null,
            "width": null
          }
        },
        "6a6c2dee363c440492f8b48236021fe8": {
          "model_module": "@jupyter-widgets/base",
          "model_name": "LayoutModel",
          "model_module_version": "1.2.0",
          "state": {
            "_model_module": "@jupyter-widgets/base",
            "_model_module_version": "1.2.0",
            "_model_name": "LayoutModel",
            "_view_count": null,
            "_view_module": "@jupyter-widgets/base",
            "_view_module_version": "1.2.0",
            "_view_name": "LayoutView",
            "align_content": null,
            "align_items": null,
            "align_self": null,
            "border": null,
            "bottom": null,
            "display": null,
            "flex": null,
            "flex_flow": null,
            "grid_area": null,
            "grid_auto_columns": null,
            "grid_auto_flow": null,
            "grid_auto_rows": null,
            "grid_column": null,
            "grid_gap": null,
            "grid_row": null,
            "grid_template_areas": null,
            "grid_template_columns": null,
            "grid_template_rows": null,
            "height": null,
            "justify_content": null,
            "justify_items": null,
            "left": null,
            "margin": null,
            "max_height": null,
            "max_width": null,
            "min_height": null,
            "min_width": null,
            "object_fit": null,
            "object_position": null,
            "order": null,
            "overflow": null,
            "overflow_x": null,
            "overflow_y": null,
            "padding": null,
            "right": null,
            "top": null,
            "visibility": null,
            "width": null
          }
        },
        "dfa36771281245ab99329c7b4909f356": {
          "model_module": "@jupyter-widgets/controls",
          "model_name": "DescriptionStyleModel",
          "model_module_version": "1.5.0",
          "state": {
            "_model_module": "@jupyter-widgets/controls",
            "_model_module_version": "1.5.0",
            "_model_name": "DescriptionStyleModel",
            "_view_count": null,
            "_view_module": "@jupyter-widgets/base",
            "_view_module_version": "1.2.0",
            "_view_name": "StyleView",
            "description_width": ""
          }
        },
        "c0542d017334498f9b0d34487f605320": {
          "model_module": "@jupyter-widgets/base",
          "model_name": "LayoutModel",
          "model_module_version": "1.2.0",
          "state": {
            "_model_module": "@jupyter-widgets/base",
            "_model_module_version": "1.2.0",
            "_model_name": "LayoutModel",
            "_view_count": null,
            "_view_module": "@jupyter-widgets/base",
            "_view_module_version": "1.2.0",
            "_view_name": "LayoutView",
            "align_content": null,
            "align_items": null,
            "align_self": null,
            "border": null,
            "bottom": null,
            "display": null,
            "flex": null,
            "flex_flow": null,
            "grid_area": null,
            "grid_auto_columns": null,
            "grid_auto_flow": null,
            "grid_auto_rows": null,
            "grid_column": null,
            "grid_gap": null,
            "grid_row": null,
            "grid_template_areas": null,
            "grid_template_columns": null,
            "grid_template_rows": null,
            "height": null,
            "justify_content": null,
            "justify_items": null,
            "left": null,
            "margin": null,
            "max_height": null,
            "max_width": null,
            "min_height": null,
            "min_width": null,
            "object_fit": null,
            "object_position": null,
            "order": null,
            "overflow": null,
            "overflow_x": null,
            "overflow_y": null,
            "padding": null,
            "right": null,
            "top": null,
            "visibility": null,
            "width": null
          }
        },
        "515b7ad48d3b45faaec8acc95a01f547": {
          "model_module": "@jupyter-widgets/controls",
          "model_name": "ProgressStyleModel",
          "model_module_version": "1.5.0",
          "state": {
            "_model_module": "@jupyter-widgets/controls",
            "_model_module_version": "1.5.0",
            "_model_name": "ProgressStyleModel",
            "_view_count": null,
            "_view_module": "@jupyter-widgets/base",
            "_view_module_version": "1.2.0",
            "_view_name": "StyleView",
            "bar_color": null,
            "description_width": ""
          }
        },
        "60f738e0c8764f189c7a9dfc91b80417": {
          "model_module": "@jupyter-widgets/base",
          "model_name": "LayoutModel",
          "model_module_version": "1.2.0",
          "state": {
            "_model_module": "@jupyter-widgets/base",
            "_model_module_version": "1.2.0",
            "_model_name": "LayoutModel",
            "_view_count": null,
            "_view_module": "@jupyter-widgets/base",
            "_view_module_version": "1.2.0",
            "_view_name": "LayoutView",
            "align_content": null,
            "align_items": null,
            "align_self": null,
            "border": null,
            "bottom": null,
            "display": null,
            "flex": null,
            "flex_flow": null,
            "grid_area": null,
            "grid_auto_columns": null,
            "grid_auto_flow": null,
            "grid_auto_rows": null,
            "grid_column": null,
            "grid_gap": null,
            "grid_row": null,
            "grid_template_areas": null,
            "grid_template_columns": null,
            "grid_template_rows": null,
            "height": null,
            "justify_content": null,
            "justify_items": null,
            "left": null,
            "margin": null,
            "max_height": null,
            "max_width": null,
            "min_height": null,
            "min_width": null,
            "object_fit": null,
            "object_position": null,
            "order": null,
            "overflow": null,
            "overflow_x": null,
            "overflow_y": null,
            "padding": null,
            "right": null,
            "top": null,
            "visibility": null,
            "width": null
          }
        },
        "507c35c1c5b84e9d8f1648de48734eb4": {
          "model_module": "@jupyter-widgets/controls",
          "model_name": "DescriptionStyleModel",
          "model_module_version": "1.5.0",
          "state": {
            "_model_module": "@jupyter-widgets/controls",
            "_model_module_version": "1.5.0",
            "_model_name": "DescriptionStyleModel",
            "_view_count": null,
            "_view_module": "@jupyter-widgets/base",
            "_view_module_version": "1.2.0",
            "_view_name": "StyleView",
            "description_width": ""
          }
        },
        "631e35a4bfff4c1487cc1a4f3983bcc4": {
          "model_module": "@jupyter-widgets/controls",
          "model_name": "HBoxModel",
          "model_module_version": "1.5.0",
          "state": {
            "_dom_classes": [],
            "_model_module": "@jupyter-widgets/controls",
            "_model_module_version": "1.5.0",
            "_model_name": "HBoxModel",
            "_view_count": null,
            "_view_module": "@jupyter-widgets/controls",
            "_view_module_version": "1.5.0",
            "_view_name": "HBoxView",
            "box_style": "",
            "children": [
              "IPY_MODEL_eb59f15d2b5b434481c8d439231346ea",
              "IPY_MODEL_e51d6bcade744f3abb6b25d0145bf208",
              "IPY_MODEL_05ff782cd4584ac598991eddfa141f7e"
            ],
            "layout": "IPY_MODEL_bd78702c03634c5d97522511d3fd89db"
          }
        },
        "eb59f15d2b5b434481c8d439231346ea": {
          "model_module": "@jupyter-widgets/controls",
          "model_name": "HTMLModel",
          "model_module_version": "1.5.0",
          "state": {
            "_dom_classes": [],
            "_model_module": "@jupyter-widgets/controls",
            "_model_module_version": "1.5.0",
            "_model_name": "HTMLModel",
            "_view_count": null,
            "_view_module": "@jupyter-widgets/controls",
            "_view_module_version": "1.5.0",
            "_view_name": "HTMLView",
            "description": "",
            "description_tooltip": null,
            "layout": "IPY_MODEL_409b854b5fb34991a6e4746a3df8b07f",
            "placeholder": "​",
            "style": "IPY_MODEL_94497cb81b614ddc9113b02ba7b2f99e",
            "value": "model.safetensors: 100%"
          }
        },
        "e51d6bcade744f3abb6b25d0145bf208": {
          "model_module": "@jupyter-widgets/controls",
          "model_name": "FloatProgressModel",
          "model_module_version": "1.5.0",
          "state": {
            "_dom_classes": [],
            "_model_module": "@jupyter-widgets/controls",
            "_model_module_version": "1.5.0",
            "_model_name": "FloatProgressModel",
            "_view_count": null,
            "_view_module": "@jupyter-widgets/controls",
            "_view_module_version": "1.5.0",
            "_view_name": "ProgressView",
            "bar_style": "success",
            "description": "",
            "description_tooltip": null,
            "layout": "IPY_MODEL_58d7183eb69d45fdba0f61ce3cd50376",
            "max": 498818152,
            "min": 0,
            "orientation": "horizontal",
            "style": "IPY_MODEL_b7615135fea4443c83aae34cc778c13d",
            "value": 498818152
          }
        },
        "05ff782cd4584ac598991eddfa141f7e": {
          "model_module": "@jupyter-widgets/controls",
          "model_name": "HTMLModel",
          "model_module_version": "1.5.0",
          "state": {
            "_dom_classes": [],
            "_model_module": "@jupyter-widgets/controls",
            "_model_module_version": "1.5.0",
            "_model_name": "HTMLModel",
            "_view_count": null,
            "_view_module": "@jupyter-widgets/controls",
            "_view_module_version": "1.5.0",
            "_view_name": "HTMLView",
            "description": "",
            "description_tooltip": null,
            "layout": "IPY_MODEL_372d9036ea2a477c81265111d70927c0",
            "placeholder": "​",
            "style": "IPY_MODEL_9c8e3b90fdac4528b7ef02cbccc36f1e",
            "value": " 499M/499M [00:03&lt;00:00, 144MB/s]"
          }
        },
        "bd78702c03634c5d97522511d3fd89db": {
          "model_module": "@jupyter-widgets/base",
          "model_name": "LayoutModel",
          "model_module_version": "1.2.0",
          "state": {
            "_model_module": "@jupyter-widgets/base",
            "_model_module_version": "1.2.0",
            "_model_name": "LayoutModel",
            "_view_count": null,
            "_view_module": "@jupyter-widgets/base",
            "_view_module_version": "1.2.0",
            "_view_name": "LayoutView",
            "align_content": null,
            "align_items": null,
            "align_self": null,
            "border": null,
            "bottom": null,
            "display": null,
            "flex": null,
            "flex_flow": null,
            "grid_area": null,
            "grid_auto_columns": null,
            "grid_auto_flow": null,
            "grid_auto_rows": null,
            "grid_column": null,
            "grid_gap": null,
            "grid_row": null,
            "grid_template_areas": null,
            "grid_template_columns": null,
            "grid_template_rows": null,
            "height": null,
            "justify_content": null,
            "justify_items": null,
            "left": null,
            "margin": null,
            "max_height": null,
            "max_width": null,
            "min_height": null,
            "min_width": null,
            "object_fit": null,
            "object_position": null,
            "order": null,
            "overflow": null,
            "overflow_x": null,
            "overflow_y": null,
            "padding": null,
            "right": null,
            "top": null,
            "visibility": null,
            "width": null
          }
        },
        "409b854b5fb34991a6e4746a3df8b07f": {
          "model_module": "@jupyter-widgets/base",
          "model_name": "LayoutModel",
          "model_module_version": "1.2.0",
          "state": {
            "_model_module": "@jupyter-widgets/base",
            "_model_module_version": "1.2.0",
            "_model_name": "LayoutModel",
            "_view_count": null,
            "_view_module": "@jupyter-widgets/base",
            "_view_module_version": "1.2.0",
            "_view_name": "LayoutView",
            "align_content": null,
            "align_items": null,
            "align_self": null,
            "border": null,
            "bottom": null,
            "display": null,
            "flex": null,
            "flex_flow": null,
            "grid_area": null,
            "grid_auto_columns": null,
            "grid_auto_flow": null,
            "grid_auto_rows": null,
            "grid_column": null,
            "grid_gap": null,
            "grid_row": null,
            "grid_template_areas": null,
            "grid_template_columns": null,
            "grid_template_rows": null,
            "height": null,
            "justify_content": null,
            "justify_items": null,
            "left": null,
            "margin": null,
            "max_height": null,
            "max_width": null,
            "min_height": null,
            "min_width": null,
            "object_fit": null,
            "object_position": null,
            "order": null,
            "overflow": null,
            "overflow_x": null,
            "overflow_y": null,
            "padding": null,
            "right": null,
            "top": null,
            "visibility": null,
            "width": null
          }
        },
        "94497cb81b614ddc9113b02ba7b2f99e": {
          "model_module": "@jupyter-widgets/controls",
          "model_name": "DescriptionStyleModel",
          "model_module_version": "1.5.0",
          "state": {
            "_model_module": "@jupyter-widgets/controls",
            "_model_module_version": "1.5.0",
            "_model_name": "DescriptionStyleModel",
            "_view_count": null,
            "_view_module": "@jupyter-widgets/base",
            "_view_module_version": "1.2.0",
            "_view_name": "StyleView",
            "description_width": ""
          }
        },
        "58d7183eb69d45fdba0f61ce3cd50376": {
          "model_module": "@jupyter-widgets/base",
          "model_name": "LayoutModel",
          "model_module_version": "1.2.0",
          "state": {
            "_model_module": "@jupyter-widgets/base",
            "_model_module_version": "1.2.0",
            "_model_name": "LayoutModel",
            "_view_count": null,
            "_view_module": "@jupyter-widgets/base",
            "_view_module_version": "1.2.0",
            "_view_name": "LayoutView",
            "align_content": null,
            "align_items": null,
            "align_self": null,
            "border": null,
            "bottom": null,
            "display": null,
            "flex": null,
            "flex_flow": null,
            "grid_area": null,
            "grid_auto_columns": null,
            "grid_auto_flow": null,
            "grid_auto_rows": null,
            "grid_column": null,
            "grid_gap": null,
            "grid_row": null,
            "grid_template_areas": null,
            "grid_template_columns": null,
            "grid_template_rows": null,
            "height": null,
            "justify_content": null,
            "justify_items": null,
            "left": null,
            "margin": null,
            "max_height": null,
            "max_width": null,
            "min_height": null,
            "min_width": null,
            "object_fit": null,
            "object_position": null,
            "order": null,
            "overflow": null,
            "overflow_x": null,
            "overflow_y": null,
            "padding": null,
            "right": null,
            "top": null,
            "visibility": null,
            "width": null
          }
        },
        "b7615135fea4443c83aae34cc778c13d": {
          "model_module": "@jupyter-widgets/controls",
          "model_name": "ProgressStyleModel",
          "model_module_version": "1.5.0",
          "state": {
            "_model_module": "@jupyter-widgets/controls",
            "_model_module_version": "1.5.0",
            "_model_name": "ProgressStyleModel",
            "_view_count": null,
            "_view_module": "@jupyter-widgets/base",
            "_view_module_version": "1.2.0",
            "_view_name": "StyleView",
            "bar_color": null,
            "description_width": ""
          }
        },
        "372d9036ea2a477c81265111d70927c0": {
          "model_module": "@jupyter-widgets/base",
          "model_name": "LayoutModel",
          "model_module_version": "1.2.0",
          "state": {
            "_model_module": "@jupyter-widgets/base",
            "_model_module_version": "1.2.0",
            "_model_name": "LayoutModel",
            "_view_count": null,
            "_view_module": "@jupyter-widgets/base",
            "_view_module_version": "1.2.0",
            "_view_name": "LayoutView",
            "align_content": null,
            "align_items": null,
            "align_self": null,
            "border": null,
            "bottom": null,
            "display": null,
            "flex": null,
            "flex_flow": null,
            "grid_area": null,
            "grid_auto_columns": null,
            "grid_auto_flow": null,
            "grid_auto_rows": null,
            "grid_column": null,
            "grid_gap": null,
            "grid_row": null,
            "grid_template_areas": null,
            "grid_template_columns": null,
            "grid_template_rows": null,
            "height": null,
            "justify_content": null,
            "justify_items": null,
            "left": null,
            "margin": null,
            "max_height": null,
            "max_width": null,
            "min_height": null,
            "min_width": null,
            "object_fit": null,
            "object_position": null,
            "order": null,
            "overflow": null,
            "overflow_x": null,
            "overflow_y": null,
            "padding": null,
            "right": null,
            "top": null,
            "visibility": null,
            "width": null
          }
        },
        "9c8e3b90fdac4528b7ef02cbccc36f1e": {
          "model_module": "@jupyter-widgets/controls",
          "model_name": "DescriptionStyleModel",
          "model_module_version": "1.5.0",
          "state": {
            "_model_module": "@jupyter-widgets/controls",
            "_model_module_version": "1.5.0",
            "_model_name": "DescriptionStyleModel",
            "_view_count": null,
            "_view_module": "@jupyter-widgets/base",
            "_view_module_version": "1.2.0",
            "_view_name": "StyleView",
            "description_width": ""
          }
        },
        "8bd01bd999ba452d829ee54be5392d70": {
          "model_module": "@jupyter-widgets/controls",
          "model_name": "HBoxModel",
          "model_module_version": "1.5.0",
          "state": {
            "_dom_classes": [],
            "_model_module": "@jupyter-widgets/controls",
            "_model_module_version": "1.5.0",
            "_model_name": "HBoxModel",
            "_view_count": null,
            "_view_module": "@jupyter-widgets/controls",
            "_view_module_version": "1.5.0",
            "_view_name": "HBoxView",
            "box_style": "",
            "children": [
              "IPY_MODEL_d9cbdbad9ba84997b3c4c809a6b24859",
              "IPY_MODEL_5ea4ee88fc134a63a19a97bc6a6d5271",
              "IPY_MODEL_098dc1172ade41bf97e9ef7eb54875d0"
            ],
            "layout": "IPY_MODEL_b2da362ae60c495e9921f033c52968f9"
          }
        },
        "d9cbdbad9ba84997b3c4c809a6b24859": {
          "model_module": "@jupyter-widgets/controls",
          "model_name": "HTMLModel",
          "model_module_version": "1.5.0",
          "state": {
            "_dom_classes": [],
            "_model_module": "@jupyter-widgets/controls",
            "_model_module_version": "1.5.0",
            "_model_name": "HTMLModel",
            "_view_count": null,
            "_view_module": "@jupyter-widgets/controls",
            "_view_module_version": "1.5.0",
            "_view_name": "HTMLView",
            "description": "",
            "description_tooltip": null,
            "layout": "IPY_MODEL_11fe6259130a4806868faa7604277a3c",
            "placeholder": "​",
            "style": "IPY_MODEL_19dc9dad20994a52b4dc2904ba654843",
            "value": "Downloading builder script: 100%"
          }
        },
        "5ea4ee88fc134a63a19a97bc6a6d5271": {
          "model_module": "@jupyter-widgets/controls",
          "model_name": "FloatProgressModel",
          "model_module_version": "1.5.0",
          "state": {
            "_dom_classes": [],
            "_model_module": "@jupyter-widgets/controls",
            "_model_module_version": "1.5.0",
            "_model_name": "FloatProgressModel",
            "_view_count": null,
            "_view_module": "@jupyter-widgets/controls",
            "_view_module_version": "1.5.0",
            "_view_name": "ProgressView",
            "bar_style": "success",
            "description": "",
            "description_tooltip": null,
            "layout": "IPY_MODEL_d005ffdf367447f99c973a9afd593232",
            "max": 4203,
            "min": 0,
            "orientation": "horizontal",
            "style": "IPY_MODEL_ffc49c0d3ad64d949388bfa9fb496e96",
            "value": 4203
          }
        },
        "098dc1172ade41bf97e9ef7eb54875d0": {
          "model_module": "@jupyter-widgets/controls",
          "model_name": "HTMLModel",
          "model_module_version": "1.5.0",
          "state": {
            "_dom_classes": [],
            "_model_module": "@jupyter-widgets/controls",
            "_model_module_version": "1.5.0",
            "_model_name": "HTMLModel",
            "_view_count": null,
            "_view_module": "@jupyter-widgets/controls",
            "_view_module_version": "1.5.0",
            "_view_name": "HTMLView",
            "description": "",
            "description_tooltip": null,
            "layout": "IPY_MODEL_5a255a4aebe843cebe6429acbe0b3989",
            "placeholder": "​",
            "style": "IPY_MODEL_bb1fe391886f4f239a13496afa4eff1f",
            "value": " 4.20k/4.20k [00:00&lt;00:00, 375kB/s]"
          }
        },
        "b2da362ae60c495e9921f033c52968f9": {
          "model_module": "@jupyter-widgets/base",
          "model_name": "LayoutModel",
          "model_module_version": "1.2.0",
          "state": {
            "_model_module": "@jupyter-widgets/base",
            "_model_module_version": "1.2.0",
            "_model_name": "LayoutModel",
            "_view_count": null,
            "_view_module": "@jupyter-widgets/base",
            "_view_module_version": "1.2.0",
            "_view_name": "LayoutView",
            "align_content": null,
            "align_items": null,
            "align_self": null,
            "border": null,
            "bottom": null,
            "display": null,
            "flex": null,
            "flex_flow": null,
            "grid_area": null,
            "grid_auto_columns": null,
            "grid_auto_flow": null,
            "grid_auto_rows": null,
            "grid_column": null,
            "grid_gap": null,
            "grid_row": null,
            "grid_template_areas": null,
            "grid_template_columns": null,
            "grid_template_rows": null,
            "height": null,
            "justify_content": null,
            "justify_items": null,
            "left": null,
            "margin": null,
            "max_height": null,
            "max_width": null,
            "min_height": null,
            "min_width": null,
            "object_fit": null,
            "object_position": null,
            "order": null,
            "overflow": null,
            "overflow_x": null,
            "overflow_y": null,
            "padding": null,
            "right": null,
            "top": null,
            "visibility": null,
            "width": null
          }
        },
        "11fe6259130a4806868faa7604277a3c": {
          "model_module": "@jupyter-widgets/base",
          "model_name": "LayoutModel",
          "model_module_version": "1.2.0",
          "state": {
            "_model_module": "@jupyter-widgets/base",
            "_model_module_version": "1.2.0",
            "_model_name": "LayoutModel",
            "_view_count": null,
            "_view_module": "@jupyter-widgets/base",
            "_view_module_version": "1.2.0",
            "_view_name": "LayoutView",
            "align_content": null,
            "align_items": null,
            "align_self": null,
            "border": null,
            "bottom": null,
            "display": null,
            "flex": null,
            "flex_flow": null,
            "grid_area": null,
            "grid_auto_columns": null,
            "grid_auto_flow": null,
            "grid_auto_rows": null,
            "grid_column": null,
            "grid_gap": null,
            "grid_row": null,
            "grid_template_areas": null,
            "grid_template_columns": null,
            "grid_template_rows": null,
            "height": null,
            "justify_content": null,
            "justify_items": null,
            "left": null,
            "margin": null,
            "max_height": null,
            "max_width": null,
            "min_height": null,
            "min_width": null,
            "object_fit": null,
            "object_position": null,
            "order": null,
            "overflow": null,
            "overflow_x": null,
            "overflow_y": null,
            "padding": null,
            "right": null,
            "top": null,
            "visibility": null,
            "width": null
          }
        },
        "19dc9dad20994a52b4dc2904ba654843": {
          "model_module": "@jupyter-widgets/controls",
          "model_name": "DescriptionStyleModel",
          "model_module_version": "1.5.0",
          "state": {
            "_model_module": "@jupyter-widgets/controls",
            "_model_module_version": "1.5.0",
            "_model_name": "DescriptionStyleModel",
            "_view_count": null,
            "_view_module": "@jupyter-widgets/base",
            "_view_module_version": "1.2.0",
            "_view_name": "StyleView",
            "description_width": ""
          }
        },
        "d005ffdf367447f99c973a9afd593232": {
          "model_module": "@jupyter-widgets/base",
          "model_name": "LayoutModel",
          "model_module_version": "1.2.0",
          "state": {
            "_model_module": "@jupyter-widgets/base",
            "_model_module_version": "1.2.0",
            "_model_name": "LayoutModel",
            "_view_count": null,
            "_view_module": "@jupyter-widgets/base",
            "_view_module_version": "1.2.0",
            "_view_name": "LayoutView",
            "align_content": null,
            "align_items": null,
            "align_self": null,
            "border": null,
            "bottom": null,
            "display": null,
            "flex": null,
            "flex_flow": null,
            "grid_area": null,
            "grid_auto_columns": null,
            "grid_auto_flow": null,
            "grid_auto_rows": null,
            "grid_column": null,
            "grid_gap": null,
            "grid_row": null,
            "grid_template_areas": null,
            "grid_template_columns": null,
            "grid_template_rows": null,
            "height": null,
            "justify_content": null,
            "justify_items": null,
            "left": null,
            "margin": null,
            "max_height": null,
            "max_width": null,
            "min_height": null,
            "min_width": null,
            "object_fit": null,
            "object_position": null,
            "order": null,
            "overflow": null,
            "overflow_x": null,
            "overflow_y": null,
            "padding": null,
            "right": null,
            "top": null,
            "visibility": null,
            "width": null
          }
        },
        "ffc49c0d3ad64d949388bfa9fb496e96": {
          "model_module": "@jupyter-widgets/controls",
          "model_name": "ProgressStyleModel",
          "model_module_version": "1.5.0",
          "state": {
            "_model_module": "@jupyter-widgets/controls",
            "_model_module_version": "1.5.0",
            "_model_name": "ProgressStyleModel",
            "_view_count": null,
            "_view_module": "@jupyter-widgets/base",
            "_view_module_version": "1.2.0",
            "_view_name": "StyleView",
            "bar_color": null,
            "description_width": ""
          }
        },
        "5a255a4aebe843cebe6429acbe0b3989": {
          "model_module": "@jupyter-widgets/base",
          "model_name": "LayoutModel",
          "model_module_version": "1.2.0",
          "state": {
            "_model_module": "@jupyter-widgets/base",
            "_model_module_version": "1.2.0",
            "_model_name": "LayoutModel",
            "_view_count": null,
            "_view_module": "@jupyter-widgets/base",
            "_view_module_version": "1.2.0",
            "_view_name": "LayoutView",
            "align_content": null,
            "align_items": null,
            "align_self": null,
            "border": null,
            "bottom": null,
            "display": null,
            "flex": null,
            "flex_flow": null,
            "grid_area": null,
            "grid_auto_columns": null,
            "grid_auto_flow": null,
            "grid_auto_rows": null,
            "grid_column": null,
            "grid_gap": null,
            "grid_row": null,
            "grid_template_areas": null,
            "grid_template_columns": null,
            "grid_template_rows": null,
            "height": null,
            "justify_content": null,
            "justify_items": null,
            "left": null,
            "margin": null,
            "max_height": null,
            "max_width": null,
            "min_height": null,
            "min_width": null,
            "object_fit": null,
            "object_position": null,
            "order": null,
            "overflow": null,
            "overflow_x": null,
            "overflow_y": null,
            "padding": null,
            "right": null,
            "top": null,
            "visibility": null,
            "width": null
          }
        },
        "bb1fe391886f4f239a13496afa4eff1f": {
          "model_module": "@jupyter-widgets/controls",
          "model_name": "DescriptionStyleModel",
          "model_module_version": "1.5.0",
          "state": {
            "_model_module": "@jupyter-widgets/controls",
            "_model_module_version": "1.5.0",
            "_model_name": "DescriptionStyleModel",
            "_view_count": null,
            "_view_module": "@jupyter-widgets/base",
            "_view_module_version": "1.2.0",
            "_view_name": "StyleView",
            "description_width": ""
          }
        },
        "18f3e140185b4aa7af8312d4a5a3dd99": {
          "model_module": "@jupyter-widgets/controls",
          "model_name": "HBoxModel",
          "model_module_version": "1.5.0",
          "state": {
            "_dom_classes": [],
            "_model_module": "@jupyter-widgets/controls",
            "_model_module_version": "1.5.0",
            "_model_name": "HBoxModel",
            "_view_count": null,
            "_view_module": "@jupyter-widgets/controls",
            "_view_module_version": "1.5.0",
            "_view_name": "HBoxView",
            "box_style": "",
            "children": [
              "IPY_MODEL_43dc3cba4bba49d084375395c921a642",
              "IPY_MODEL_e490ae1afccf4978b77369ea680d4e3f",
              "IPY_MODEL_e2c43f14077f463abc82c78e02d6ab23"
            ],
            "layout": "IPY_MODEL_6d33ead0c5f54d8c9dc93cfad78df2a0"
          }
        },
        "43dc3cba4bba49d084375395c921a642": {
          "model_module": "@jupyter-widgets/controls",
          "model_name": "HTMLModel",
          "model_module_version": "1.5.0",
          "state": {
            "_dom_classes": [],
            "_model_module": "@jupyter-widgets/controls",
            "_model_module_version": "1.5.0",
            "_model_name": "HTMLModel",
            "_view_count": null,
            "_view_module": "@jupyter-widgets/controls",
            "_view_module_version": "1.5.0",
            "_view_name": "HTMLView",
            "description": "",
            "description_tooltip": null,
            "layout": "IPY_MODEL_99d81ddf9e854bb4b534d727fc381f70",
            "placeholder": "​",
            "style": "IPY_MODEL_ae753d4546d54c56b81b3066a6c31bd3",
            "value": "Map: 100%"
          }
        },
        "e490ae1afccf4978b77369ea680d4e3f": {
          "model_module": "@jupyter-widgets/controls",
          "model_name": "FloatProgressModel",
          "model_module_version": "1.5.0",
          "state": {
            "_dom_classes": [],
            "_model_module": "@jupyter-widgets/controls",
            "_model_module_version": "1.5.0",
            "_model_name": "FloatProgressModel",
            "_view_count": null,
            "_view_module": "@jupyter-widgets/controls",
            "_view_module_version": "1.5.0",
            "_view_name": "ProgressView",
            "bar_style": "success",
            "description": "",
            "description_tooltip": null,
            "layout": "IPY_MODEL_18ec049a0ed34a7a949f19baffe53712",
            "max": 57696,
            "min": 0,
            "orientation": "horizontal",
            "style": "IPY_MODEL_f2c356c3f882410aabbd9ce0f0709778",
            "value": 57696
          }
        },
        "e2c43f14077f463abc82c78e02d6ab23": {
          "model_module": "@jupyter-widgets/controls",
          "model_name": "HTMLModel",
          "model_module_version": "1.5.0",
          "state": {
            "_dom_classes": [],
            "_model_module": "@jupyter-widgets/controls",
            "_model_module_version": "1.5.0",
            "_model_name": "HTMLModel",
            "_view_count": null,
            "_view_module": "@jupyter-widgets/controls",
            "_view_module_version": "1.5.0",
            "_view_name": "HTMLView",
            "description": "",
            "description_tooltip": null,
            "layout": "IPY_MODEL_2c1a2eb8d3f1445b9996ed26f221bc2f",
            "placeholder": "​",
            "style": "IPY_MODEL_ad51363a88f94a70b6810165d0ee2aa5",
            "value": " 57696/57696 [00:23&lt;00:00, 2435.75 examples/s]"
          }
        },
        "6d33ead0c5f54d8c9dc93cfad78df2a0": {
          "model_module": "@jupyter-widgets/base",
          "model_name": "LayoutModel",
          "model_module_version": "1.2.0",
          "state": {
            "_model_module": "@jupyter-widgets/base",
            "_model_module_version": "1.2.0",
            "_model_name": "LayoutModel",
            "_view_count": null,
            "_view_module": "@jupyter-widgets/base",
            "_view_module_version": "1.2.0",
            "_view_name": "LayoutView",
            "align_content": null,
            "align_items": null,
            "align_self": null,
            "border": null,
            "bottom": null,
            "display": null,
            "flex": null,
            "flex_flow": null,
            "grid_area": null,
            "grid_auto_columns": null,
            "grid_auto_flow": null,
            "grid_auto_rows": null,
            "grid_column": null,
            "grid_gap": null,
            "grid_row": null,
            "grid_template_areas": null,
            "grid_template_columns": null,
            "grid_template_rows": null,
            "height": null,
            "justify_content": null,
            "justify_items": null,
            "left": null,
            "margin": null,
            "max_height": null,
            "max_width": null,
            "min_height": null,
            "min_width": null,
            "object_fit": null,
            "object_position": null,
            "order": null,
            "overflow": null,
            "overflow_x": null,
            "overflow_y": null,
            "padding": null,
            "right": null,
            "top": null,
            "visibility": null,
            "width": null
          }
        },
        "99d81ddf9e854bb4b534d727fc381f70": {
          "model_module": "@jupyter-widgets/base",
          "model_name": "LayoutModel",
          "model_module_version": "1.2.0",
          "state": {
            "_model_module": "@jupyter-widgets/base",
            "_model_module_version": "1.2.0",
            "_model_name": "LayoutModel",
            "_view_count": null,
            "_view_module": "@jupyter-widgets/base",
            "_view_module_version": "1.2.0",
            "_view_name": "LayoutView",
            "align_content": null,
            "align_items": null,
            "align_self": null,
            "border": null,
            "bottom": null,
            "display": null,
            "flex": null,
            "flex_flow": null,
            "grid_area": null,
            "grid_auto_columns": null,
            "grid_auto_flow": null,
            "grid_auto_rows": null,
            "grid_column": null,
            "grid_gap": null,
            "grid_row": null,
            "grid_template_areas": null,
            "grid_template_columns": null,
            "grid_template_rows": null,
            "height": null,
            "justify_content": null,
            "justify_items": null,
            "left": null,
            "margin": null,
            "max_height": null,
            "max_width": null,
            "min_height": null,
            "min_width": null,
            "object_fit": null,
            "object_position": null,
            "order": null,
            "overflow": null,
            "overflow_x": null,
            "overflow_y": null,
            "padding": null,
            "right": null,
            "top": null,
            "visibility": null,
            "width": null
          }
        },
        "ae753d4546d54c56b81b3066a6c31bd3": {
          "model_module": "@jupyter-widgets/controls",
          "model_name": "DescriptionStyleModel",
          "model_module_version": "1.5.0",
          "state": {
            "_model_module": "@jupyter-widgets/controls",
            "_model_module_version": "1.5.0",
            "_model_name": "DescriptionStyleModel",
            "_view_count": null,
            "_view_module": "@jupyter-widgets/base",
            "_view_module_version": "1.2.0",
            "_view_name": "StyleView",
            "description_width": ""
          }
        },
        "18ec049a0ed34a7a949f19baffe53712": {
          "model_module": "@jupyter-widgets/base",
          "model_name": "LayoutModel",
          "model_module_version": "1.2.0",
          "state": {
            "_model_module": "@jupyter-widgets/base",
            "_model_module_version": "1.2.0",
            "_model_name": "LayoutModel",
            "_view_count": null,
            "_view_module": "@jupyter-widgets/base",
            "_view_module_version": "1.2.0",
            "_view_name": "LayoutView",
            "align_content": null,
            "align_items": null,
            "align_self": null,
            "border": null,
            "bottom": null,
            "display": null,
            "flex": null,
            "flex_flow": null,
            "grid_area": null,
            "grid_auto_columns": null,
            "grid_auto_flow": null,
            "grid_auto_rows": null,
            "grid_column": null,
            "grid_gap": null,
            "grid_row": null,
            "grid_template_areas": null,
            "grid_template_columns": null,
            "grid_template_rows": null,
            "height": null,
            "justify_content": null,
            "justify_items": null,
            "left": null,
            "margin": null,
            "max_height": null,
            "max_width": null,
            "min_height": null,
            "min_width": null,
            "object_fit": null,
            "object_position": null,
            "order": null,
            "overflow": null,
            "overflow_x": null,
            "overflow_y": null,
            "padding": null,
            "right": null,
            "top": null,
            "visibility": null,
            "width": null
          }
        },
        "f2c356c3f882410aabbd9ce0f0709778": {
          "model_module": "@jupyter-widgets/controls",
          "model_name": "ProgressStyleModel",
          "model_module_version": "1.5.0",
          "state": {
            "_model_module": "@jupyter-widgets/controls",
            "_model_module_version": "1.5.0",
            "_model_name": "ProgressStyleModel",
            "_view_count": null,
            "_view_module": "@jupyter-widgets/base",
            "_view_module_version": "1.2.0",
            "_view_name": "StyleView",
            "bar_color": null,
            "description_width": ""
          }
        },
        "2c1a2eb8d3f1445b9996ed26f221bc2f": {
          "model_module": "@jupyter-widgets/base",
          "model_name": "LayoutModel",
          "model_module_version": "1.2.0",
          "state": {
            "_model_module": "@jupyter-widgets/base",
            "_model_module_version": "1.2.0",
            "_model_name": "LayoutModel",
            "_view_count": null,
            "_view_module": "@jupyter-widgets/base",
            "_view_module_version": "1.2.0",
            "_view_name": "LayoutView",
            "align_content": null,
            "align_items": null,
            "align_self": null,
            "border": null,
            "bottom": null,
            "display": null,
            "flex": null,
            "flex_flow": null,
            "grid_area": null,
            "grid_auto_columns": null,
            "grid_auto_flow": null,
            "grid_auto_rows": null,
            "grid_column": null,
            "grid_gap": null,
            "grid_row": null,
            "grid_template_areas": null,
            "grid_template_columns": null,
            "grid_template_rows": null,
            "height": null,
            "justify_content": null,
            "justify_items": null,
            "left": null,
            "margin": null,
            "max_height": null,
            "max_width": null,
            "min_height": null,
            "min_width": null,
            "object_fit": null,
            "object_position": null,
            "order": null,
            "overflow": null,
            "overflow_x": null,
            "overflow_y": null,
            "padding": null,
            "right": null,
            "top": null,
            "visibility": null,
            "width": null
          }
        },
        "ad51363a88f94a70b6810165d0ee2aa5": {
          "model_module": "@jupyter-widgets/controls",
          "model_name": "DescriptionStyleModel",
          "model_module_version": "1.5.0",
          "state": {
            "_model_module": "@jupyter-widgets/controls",
            "_model_module_version": "1.5.0",
            "_model_name": "DescriptionStyleModel",
            "_view_count": null,
            "_view_module": "@jupyter-widgets/base",
            "_view_module_version": "1.2.0",
            "_view_name": "StyleView",
            "description_width": ""
          }
        },
        "89aaf956f3d14682be0dfc7f4a0f6b59": {
          "model_module": "@jupyter-widgets/controls",
          "model_name": "HBoxModel",
          "model_module_version": "1.5.0",
          "state": {
            "_dom_classes": [],
            "_model_module": "@jupyter-widgets/controls",
            "_model_module_version": "1.5.0",
            "_model_name": "HBoxModel",
            "_view_count": null,
            "_view_module": "@jupyter-widgets/controls",
            "_view_module_version": "1.5.0",
            "_view_name": "HBoxView",
            "box_style": "",
            "children": [
              "IPY_MODEL_ad377f4f320d49e9882539b144d15176",
              "IPY_MODEL_db39ce4c184c45c9a1b5106bd5ab8d7f",
              "IPY_MODEL_ad21a76d6c9442b8b73726c9362bba53"
            ],
            "layout": "IPY_MODEL_6f46f9231106448d9bc36724ae9688f5"
          }
        },
        "ad377f4f320d49e9882539b144d15176": {
          "model_module": "@jupyter-widgets/controls",
          "model_name": "HTMLModel",
          "model_module_version": "1.5.0",
          "state": {
            "_dom_classes": [],
            "_model_module": "@jupyter-widgets/controls",
            "_model_module_version": "1.5.0",
            "_model_name": "HTMLModel",
            "_view_count": null,
            "_view_module": "@jupyter-widgets/controls",
            "_view_module_version": "1.5.0",
            "_view_name": "HTMLView",
            "description": "",
            "description_tooltip": null,
            "layout": "IPY_MODEL_4336d08b2fe341f4b0ba6fa2653713f9",
            "placeholder": "​",
            "style": "IPY_MODEL_9d343476765c4f4aa185dd47e6ac62aa",
            "value": "Map: 100%"
          }
        },
        "db39ce4c184c45c9a1b5106bd5ab8d7f": {
          "model_module": "@jupyter-widgets/controls",
          "model_name": "FloatProgressModel",
          "model_module_version": "1.5.0",
          "state": {
            "_dom_classes": [],
            "_model_module": "@jupyter-widgets/controls",
            "_model_module_version": "1.5.0",
            "_model_name": "FloatProgressModel",
            "_view_count": null,
            "_view_module": "@jupyter-widgets/controls",
            "_view_module_version": "1.5.0",
            "_view_name": "ProgressView",
            "bar_style": "success",
            "description": "",
            "description_tooltip": null,
            "layout": "IPY_MODEL_2c652fd3e2064d62948d0f078378ebfa",
            "max": 6411,
            "min": 0,
            "orientation": "horizontal",
            "style": "IPY_MODEL_1a532d6a7cd94067bb535171d88100a3",
            "value": 6411
          }
        },
        "ad21a76d6c9442b8b73726c9362bba53": {
          "model_module": "@jupyter-widgets/controls",
          "model_name": "HTMLModel",
          "model_module_version": "1.5.0",
          "state": {
            "_dom_classes": [],
            "_model_module": "@jupyter-widgets/controls",
            "_model_module_version": "1.5.0",
            "_model_name": "HTMLModel",
            "_view_count": null,
            "_view_module": "@jupyter-widgets/controls",
            "_view_module_version": "1.5.0",
            "_view_name": "HTMLView",
            "description": "",
            "description_tooltip": null,
            "layout": "IPY_MODEL_232f5f63c2f04b04bef992fb979763af",
            "placeholder": "​",
            "style": "IPY_MODEL_203e3ed57d734510991f71a32d707762",
            "value": " 6411/6411 [00:02&lt;00:00, 2535.41 examples/s]"
          }
        },
        "6f46f9231106448d9bc36724ae9688f5": {
          "model_module": "@jupyter-widgets/base",
          "model_name": "LayoutModel",
          "model_module_version": "1.2.0",
          "state": {
            "_model_module": "@jupyter-widgets/base",
            "_model_module_version": "1.2.0",
            "_model_name": "LayoutModel",
            "_view_count": null,
            "_view_module": "@jupyter-widgets/base",
            "_view_module_version": "1.2.0",
            "_view_name": "LayoutView",
            "align_content": null,
            "align_items": null,
            "align_self": null,
            "border": null,
            "bottom": null,
            "display": null,
            "flex": null,
            "flex_flow": null,
            "grid_area": null,
            "grid_auto_columns": null,
            "grid_auto_flow": null,
            "grid_auto_rows": null,
            "grid_column": null,
            "grid_gap": null,
            "grid_row": null,
            "grid_template_areas": null,
            "grid_template_columns": null,
            "grid_template_rows": null,
            "height": null,
            "justify_content": null,
            "justify_items": null,
            "left": null,
            "margin": null,
            "max_height": null,
            "max_width": null,
            "min_height": null,
            "min_width": null,
            "object_fit": null,
            "object_position": null,
            "order": null,
            "overflow": null,
            "overflow_x": null,
            "overflow_y": null,
            "padding": null,
            "right": null,
            "top": null,
            "visibility": null,
            "width": null
          }
        },
        "4336d08b2fe341f4b0ba6fa2653713f9": {
          "model_module": "@jupyter-widgets/base",
          "model_name": "LayoutModel",
          "model_module_version": "1.2.0",
          "state": {
            "_model_module": "@jupyter-widgets/base",
            "_model_module_version": "1.2.0",
            "_model_name": "LayoutModel",
            "_view_count": null,
            "_view_module": "@jupyter-widgets/base",
            "_view_module_version": "1.2.0",
            "_view_name": "LayoutView",
            "align_content": null,
            "align_items": null,
            "align_self": null,
            "border": null,
            "bottom": null,
            "display": null,
            "flex": null,
            "flex_flow": null,
            "grid_area": null,
            "grid_auto_columns": null,
            "grid_auto_flow": null,
            "grid_auto_rows": null,
            "grid_column": null,
            "grid_gap": null,
            "grid_row": null,
            "grid_template_areas": null,
            "grid_template_columns": null,
            "grid_template_rows": null,
            "height": null,
            "justify_content": null,
            "justify_items": null,
            "left": null,
            "margin": null,
            "max_height": null,
            "max_width": null,
            "min_height": null,
            "min_width": null,
            "object_fit": null,
            "object_position": null,
            "order": null,
            "overflow": null,
            "overflow_x": null,
            "overflow_y": null,
            "padding": null,
            "right": null,
            "top": null,
            "visibility": null,
            "width": null
          }
        },
        "9d343476765c4f4aa185dd47e6ac62aa": {
          "model_module": "@jupyter-widgets/controls",
          "model_name": "DescriptionStyleModel",
          "model_module_version": "1.5.0",
          "state": {
            "_model_module": "@jupyter-widgets/controls",
            "_model_module_version": "1.5.0",
            "_model_name": "DescriptionStyleModel",
            "_view_count": null,
            "_view_module": "@jupyter-widgets/base",
            "_view_module_version": "1.2.0",
            "_view_name": "StyleView",
            "description_width": ""
          }
        },
        "2c652fd3e2064d62948d0f078378ebfa": {
          "model_module": "@jupyter-widgets/base",
          "model_name": "LayoutModel",
          "model_module_version": "1.2.0",
          "state": {
            "_model_module": "@jupyter-widgets/base",
            "_model_module_version": "1.2.0",
            "_model_name": "LayoutModel",
            "_view_count": null,
            "_view_module": "@jupyter-widgets/base",
            "_view_module_version": "1.2.0",
            "_view_name": "LayoutView",
            "align_content": null,
            "align_items": null,
            "align_self": null,
            "border": null,
            "bottom": null,
            "display": null,
            "flex": null,
            "flex_flow": null,
            "grid_area": null,
            "grid_auto_columns": null,
            "grid_auto_flow": null,
            "grid_auto_rows": null,
            "grid_column": null,
            "grid_gap": null,
            "grid_row": null,
            "grid_template_areas": null,
            "grid_template_columns": null,
            "grid_template_rows": null,
            "height": null,
            "justify_content": null,
            "justify_items": null,
            "left": null,
            "margin": null,
            "max_height": null,
            "max_width": null,
            "min_height": null,
            "min_width": null,
            "object_fit": null,
            "object_position": null,
            "order": null,
            "overflow": null,
            "overflow_x": null,
            "overflow_y": null,
            "padding": null,
            "right": null,
            "top": null,
            "visibility": null,
            "width": null
          }
        },
        "1a532d6a7cd94067bb535171d88100a3": {
          "model_module": "@jupyter-widgets/controls",
          "model_name": "ProgressStyleModel",
          "model_module_version": "1.5.0",
          "state": {
            "_model_module": "@jupyter-widgets/controls",
            "_model_module_version": "1.5.0",
            "_model_name": "ProgressStyleModel",
            "_view_count": null,
            "_view_module": "@jupyter-widgets/base",
            "_view_module_version": "1.2.0",
            "_view_name": "StyleView",
            "bar_color": null,
            "description_width": ""
          }
        },
        "232f5f63c2f04b04bef992fb979763af": {
          "model_module": "@jupyter-widgets/base",
          "model_name": "LayoutModel",
          "model_module_version": "1.2.0",
          "state": {
            "_model_module": "@jupyter-widgets/base",
            "_model_module_version": "1.2.0",
            "_model_name": "LayoutModel",
            "_view_count": null,
            "_view_module": "@jupyter-widgets/base",
            "_view_module_version": "1.2.0",
            "_view_name": "LayoutView",
            "align_content": null,
            "align_items": null,
            "align_self": null,
            "border": null,
            "bottom": null,
            "display": null,
            "flex": null,
            "flex_flow": null,
            "grid_area": null,
            "grid_auto_columns": null,
            "grid_auto_flow": null,
            "grid_auto_rows": null,
            "grid_column": null,
            "grid_gap": null,
            "grid_row": null,
            "grid_template_areas": null,
            "grid_template_columns": null,
            "grid_template_rows": null,
            "height": null,
            "justify_content": null,
            "justify_items": null,
            "left": null,
            "margin": null,
            "max_height": null,
            "max_width": null,
            "min_height": null,
            "min_width": null,
            "object_fit": null,
            "object_position": null,
            "order": null,
            "overflow": null,
            "overflow_x": null,
            "overflow_y": null,
            "padding": null,
            "right": null,
            "top": null,
            "visibility": null,
            "width": null
          }
        },
        "203e3ed57d734510991f71a32d707762": {
          "model_module": "@jupyter-widgets/controls",
          "model_name": "DescriptionStyleModel",
          "model_module_version": "1.5.0",
          "state": {
            "_model_module": "@jupyter-widgets/controls",
            "_model_module_version": "1.5.0",
            "_model_name": "DescriptionStyleModel",
            "_view_count": null,
            "_view_module": "@jupyter-widgets/base",
            "_view_module_version": "1.2.0",
            "_view_name": "StyleView",
            "description_width": ""
          }
        }
      }
    }
  },
  "nbformat": 4,
  "nbformat_minor": 0
}